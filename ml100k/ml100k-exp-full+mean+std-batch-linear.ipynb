{
 "cells": [
  {
   "cell_type": "code",
   "execution_count": 1,
   "id": "aefdb232-5644-4770-86f5-027a8e6022d0",
   "metadata": {
    "tags": []
   },
   "outputs": [],
   "source": [
    "import torch\n",
    "from torch.utils.data.dataloader import DataLoader, Dataset\n",
    "from tqdm.auto import tqdm\n",
    "import polars as pl\n",
    "import numpy as np\n",
    "import random\n",
    "import os\n",
    "from sklearn.metrics import mean_squared_error\n",
    "\n",
    "torch.manual_seed(42)\n",
    "np.random.seed(42)\n",
    "random.seed(42)\n"
   ]
  },
  {
   "cell_type": "code",
   "execution_count": 2,
   "id": "e99df998-67d0-4457-b9cf-ee5381982431",
   "metadata": {},
   "outputs": [],
   "source": [
    "class EmbeddedFeatures(torch.nn.Module):\n",
    "    \n",
    "    def __init__(self, sizes, dims=32):\n",
    "        super().__init__()\n",
    "        embs = []\n",
    "        for c in sizes:\n",
    "            m = c\n",
    "            e = torch.nn.Embedding(m, dims)\n",
    "            embs.append(e)\n",
    "        self.embeddings = torch.nn.ModuleList(embs)\n",
    "        \n",
    "    def forward(self, cats):\n",
    "        embs = None\n",
    "        for c, e in zip(cats, self.embeddings):\n",
    "            if embs is None:\n",
    "                embs = e(c)\n",
    "            else:\n",
    "                embs += e(c)\n",
    "        embs /= len(cats)\n",
    "        return embs\n",
    "\n",
    "class DeepFeatures(torch.nn.Module):\n",
    "    \n",
    "    def __init__(self, num_size, embs, depth=3, dims=32):\n",
    "        super().__init__()\n",
    "        self.embs = embs\n",
    "        num_dims = num_size\n",
    "        #first \n",
    "        deep_list = [torch.nn.Linear(dims + num_dims, dims)]\n",
    "        for _ in range(1, depth):\n",
    "            deep_list.append(torch.nn.Linear(dims, dims))\n",
    "        self.deep = torch.nn.ModuleList(deep_list)\n",
    "        \n",
    "        \n",
    "    def forward(self, cats, nums, std=0.5):\n",
    "        embs = self.embs(cats)\n",
    "        if nums is not None:\n",
    "            x = torch.cat((embs, nums), dim=1)\n",
    "        else:\n",
    "            x = embs\n",
    "        if self.training:\n",
    "            x = x * (1 + std * torch.randn_like(x))\n",
    "        output = []\n",
    "        for l in self.deep:\n",
    "            x = l(x)\n",
    "            if self.training:\n",
    "                x = x * (1 + std * torch.randn_like(x))\n",
    "            output.append(x)\n",
    "            x = torch.nn.functional.leaky_relu(x)\n",
    "        return output\n",
    "    \n",
    "\n",
    "class DeepMF(torch.nn.Module):\n",
    "    \n",
    "    def __init__(self, cat_sizes, num_size, depth=3, dims=32):\n",
    "        super().__init__()\n",
    "        embds = EmbeddedFeatures(cat_sizes, dims)\n",
    "        self.base = DeepFeatures(num_size, embds, depth=depth, dims=32)\n",
    "        self.click = DeepFeatures(num_size, embds, depth=depth, dims=32)\n",
    "        self.multi = torch.nn.parameter.Parameter(torch.randn((1,1)))\n",
    "        self.att = torch.nn.parameter.Parameter(torch.randn((depth, 1)))\n",
    "        \n",
    "        \n",
    "    def forward(self, cats, nums):\n",
    "        base = self.base(cats, nums)\n",
    "        click = self.click(cats, nums)\n",
    "        click_out = None\n",
    "        for e, (b, c) in enumerate(zip(base, click)):\n",
    "            c_v = torch.sum(b * c, dim=1, keepdim=True) * self.multi\n",
    "            if click_out is None:\n",
    "                click_out = c_v * self.att[e, 0]\n",
    "            else:\n",
    "                click_out += (c_v * self.att[e, 0])\n",
    "        out = click_out\n",
    "        return out"
   ]
  },
  {
   "cell_type": "code",
   "execution_count": 3,
   "id": "fc285198-81a8-4342-9f95-beedd154d8d4",
   "metadata": {},
   "outputs": [],
   "source": [
    "def epoch(model, loss_f, optimizer, dl_train, device):\n",
    "    loss = 0\n",
    "    model.train()\n",
    "    for x, y in tqdm(dl_train):\n",
    "        optimizer.zero_grad()\n",
    "        cats = [c.to(device) for c in x[:-1]]\n",
    "        nums = x[-1].to(device)\n",
    "        y = y.float().to(device)\n",
    "        y_pred = model(cats, nums)\n",
    "        c_loss = loss_f(y_pred[:, 0], y)\n",
    "        c_loss.backward()\n",
    "        optimizer.step()\n",
    "        loss += c_loss.cpu().item()\n",
    "    return loss / len(dl_train)\n",
    "\n",
    "\n",
    "def predict(model, dl_test, device):\n",
    "    preds = [] \n",
    "    model.eval()\n",
    "    with torch.no_grad():\n",
    "        for x, _ in tqdm(dl_test):\n",
    "            cats = [c.to(device) for c in x[:-1]]\n",
    "            nums = x[-1].to(device)\n",
    "            y_pred = model(cats, nums).cpu().numpy()\n",
    "            preds.append(y_pred[:, 0])\n",
    "    preds = np.concatenate(preds, axis=0)\n",
    "    return preds"
   ]
  },
  {
   "cell_type": "code",
   "execution_count": 4,
   "id": "c1f0dece-c481-488f-b495-cbcc45dfd7ca",
   "metadata": {
    "tags": []
   },
   "outputs": [],
   "source": [
    "users = pl.read_csv('ml-100k/u.user', separator='|', has_header=False)\n",
    "users.columns = ['user', 'age', 'gender', 'occupation', 'zip_code']\n",
    "movies = pl.read_csv('ml-100k/u.item', separator='|', has_header=False, encoding='utf8-lossy')\n",
    "movies.columns = ['movie', 'title', 'release_date', 'video release date', \\\n",
    "              'IMDb', 'unknown', 'Action', 'Adventure', 'Animation', \\\n",
    "              'Children', 'Comedy', 'Crime', 'Documentary', 'Drama', 'Fantasy', \\\n",
    "              'Film-Noir', 'Horror', 'Musical', 'Mystery', 'Romance', 'Sci-Fi', \\\n",
    "              'Thriller', 'War', 'Western']\n",
    "train = pl.read_csv('ml-100k/u1.base', separator='\\t', has_header=False)\n",
    "train.columns = ['user', 'item', 'rating', 'timestamp'] \n",
    "test = pl.read_csv('ml-100k/u1.test', separator='\\t', has_header=False)\n",
    "test.columns = ['user', 'item', 'rating', 'timestamp'] "
   ]
  },
  {
   "cell_type": "code",
   "execution_count": 5,
   "id": "5edb548c-88fc-43d1-9c13-f795e4aa55c1",
   "metadata": {
    "tags": []
   },
   "outputs": [],
   "source": [
    "train = train.join(movies, left_on='item', right_on='movie').join(users, on='user')\n",
    "test = test.join(movies, left_on='item', right_on='movie').join(users, on='user')"
   ]
  },
  {
   "cell_type": "code",
   "execution_count": 6,
   "id": "14fd57f2-e5e1-452a-8b54-15bfed5f82bd",
   "metadata": {
    "tags": []
   },
   "outputs": [],
   "source": [
    "def build_map(ds, column):\n",
    "    data = ds[column].unique().sort()\n",
    "    dic = {o: i  for i, o in enumerate(data)}\n",
    "    return dic"
   ]
  },
  {
   "cell_type": "code",
   "execution_count": 7,
   "id": "024c8ed2-dd00-4534-9315-7052ecf1dbba",
   "metadata": {
    "tags": []
   },
   "outputs": [],
   "source": [
    "occ_map = build_map(train, 'occupation')\n",
    "age_map = build_map(train, 'age')"
   ]
  },
  {
   "cell_type": "code",
   "execution_count": 8,
   "id": "4be80389-dafc-4f08-92db-e6d5439b3b1f",
   "metadata": {
    "tags": []
   },
   "outputs": [],
   "source": [
    "movie_stats = train[['item', 'rating']].groupby('item').\\\n",
    "                                    agg(pl.mean('rating').alias('item_mean'),\\\n",
    "                                             pl.mean('rating').alias('item_std'))\n",
    "users_stats = train[['user', 'rating']].groupby('user').\\\n",
    "                                    agg(pl.mean('rating').alias('user_mean'),\\\n",
    "                                             (pl.std('rating') / pl.mean('rating')).alias('user_std'))"
   ]
  },
  {
   "cell_type": "code",
   "execution_count": 9,
   "id": "b1edf1ef-2154-432a-ab2e-3dfe7a84a143",
   "metadata": {},
   "outputs": [],
   "source": [
    "train = train.join(movie_stats, on='item')\n",
    "test = test.join(movie_stats, on='item')\n",
    "train = train.join(users_stats, on='user')\n",
    "test = test.join(users_stats, on='user')"
   ]
  },
  {
   "cell_type": "code",
   "execution_count": 10,
   "id": "d6be5d42-39b3-4ebd-8817-2edf7efffa82",
   "metadata": {
    "tags": []
   },
   "outputs": [],
   "source": [
    "train = train.with_columns(pl.col('occupation').apply(lambda x: occ_map[x]))\n",
    "train = train.with_columns(pl.col('gender').apply(lambda x: 1 if x == 'M' else 0).alias('M'))\n",
    "train = train.with_columns(pl.col('gender').apply(lambda x: 1 if x == 'F' else 0).alias('F'))\n",
    "train = train.with_columns(pl.col('age').apply(lambda x: age_map[x]))\n",
    "test = test.with_columns(pl.col('occupation').apply(lambda x: occ_map[x]))\n",
    "test = test.with_columns(pl.col('gender').apply(lambda x: 1 if x == 'M' else 0).alias('M'))\n",
    "test = test.with_columns(pl.col('gender').apply(lambda x: 1 if x == 'F' else 0).alias('F'))\n",
    "test = test.with_columns(pl.col('age').apply(lambda x: age_map[x]))"
   ]
  },
  {
   "cell_type": "code",
   "execution_count": 11,
   "id": "86647175-2f97-4fac-a525-7294c61365d5",
   "metadata": {
    "tags": []
   },
   "outputs": [],
   "source": [
    "class ML100K(Dataset):\n",
    "    \n",
    "    def __init__(self, rankings):\n",
    "        self.users = rankings['user'].to_numpy()\n",
    "        self.occupation = rankings['occupation'].to_numpy()\n",
    "        self.age = rankings['age'].to_numpy()\n",
    "        self.items = rankings['item'].to_numpy()\n",
    "        self.categories = rankings['unknown', 'Action', 'Adventure', 'Animation', \\\n",
    "              'Children', 'Comedy', 'Crime', 'Documentary', 'Drama', 'Fantasy', \\\n",
    "              'Film-Noir', 'Horror', 'Musical', 'Mystery', 'Romance', 'Sci-Fi', \\\n",
    "              'Thriller', 'War', 'Western', 'M', 'F', 'item_mean', 'item_std', 'user_mean', 'user_std'].to_numpy().astype(np.float32)\n",
    "        self.rankings = rankings['rating'].to_numpy().astype(np.float32) \n",
    "    \n",
    "    def __getitem__(self, idx):\n",
    "        return (self.users[idx], self.occupation[idx], self.age[idx], self.items[idx], self.categories[idx, :]), self.rankings[idx]\n",
    "                                                      \n",
    "    def __len__(self):\n",
    "        return self.users.shape[0]"
   ]
  },
  {
   "cell_type": "code",
   "execution_count": 12,
   "id": "6357fad7-d057-41dc-b138-db878a202b76",
   "metadata": {
    "tags": []
   },
   "outputs": [],
   "source": [
    "dl_train = DataLoader(ML100K(train), \\\n",
    "                      batch_size=32, shuffle=True)\n",
    "dl_test = DataLoader(ML100K(test), \\\n",
    "                      batch_size=len(test), shuffle=False)"
   ]
  },
  {
   "cell_type": "code",
   "execution_count": 13,
   "id": "eb2b2b8c-1f8c-407f-aeeb-1f27b26a5957",
   "metadata": {},
   "outputs": [],
   "source": [
    "device = 'cuda'\n",
    "\n",
    "model = DeepMF([train['user'].max() + 1,\\\n",
    "                train['occupation'].max() + 1,\\\n",
    "                train['age'].max() + 1,\\\n",
    "                train['item'].max() + 1], 25).to(device)\n",
    "loss_f = torch.nn.MSELoss() #torch.nn.BCELoss()\n",
    "optimizer = torch.optim.RAdam(model.parameters())"
   ]
  },
  {
   "cell_type": "code",
   "execution_count": 14,
   "id": "966b3ae9-8024-47ce-b858-18f5d915878a",
   "metadata": {
    "tags": []
   },
   "outputs": [
    {
     "data": {
      "application/vnd.jupyter.widget-view+json": {
       "model_id": "3229246e880746b095f2a233a9d78ec3",
       "version_major": 2,
       "version_minor": 0
      },
      "text/plain": [
       "  0%|          | 0/2500 [00:00<?, ?it/s]"
      ]
     },
     "metadata": {},
     "output_type": "display_data"
    },
    {
     "name": "stdout",
     "output_type": "stream",
     "text": [
      "0: Current loss in training 1.6873993535518645\n"
     ]
    },
    {
     "data": {
      "application/vnd.jupyter.widget-view+json": {
       "model_id": "4fa49662ea904535b309d76e7c71e398",
       "version_major": 2,
       "version_minor": 0
      },
      "text/plain": [
       "  0%|          | 0/1 [00:00<?, ?it/s]"
      ]
     },
     "metadata": {},
     "output_type": "display_data"
    },
    {
     "name": "stdout",
     "output_type": "stream",
     "text": [
      "RMSE Score: 1.0610252177466977\n"
     ]
    },
    {
     "data": {
      "application/vnd.jupyter.widget-view+json": {
       "model_id": "ce942a9c6b57424aa98ed60158742448",
       "version_major": 2,
       "version_minor": 0
      },
      "text/plain": [
       "  0%|          | 0/2500 [00:00<?, ?it/s]"
      ]
     },
     "metadata": {},
     "output_type": "display_data"
    },
    {
     "name": "stdout",
     "output_type": "stream",
     "text": [
      "1: Current loss in training 1.2514788231253624\n"
     ]
    },
    {
     "data": {
      "application/vnd.jupyter.widget-view+json": {
       "model_id": "b67c7b1a64054807a8ec15f2c420aaa7",
       "version_major": 2,
       "version_minor": 0
      },
      "text/plain": [
       "  0%|          | 0/1 [00:00<?, ?it/s]"
      ]
     },
     "metadata": {},
     "output_type": "display_data"
    },
    {
     "name": "stdout",
     "output_type": "stream",
     "text": [
      "RMSE Score: 1.0713096941124578\n"
     ]
    },
    {
     "data": {
      "application/vnd.jupyter.widget-view+json": {
       "model_id": "0f23bcbc05884b26971f12ec1df997bd",
       "version_major": 2,
       "version_minor": 0
      },
      "text/plain": [
       "  0%|          | 0/2500 [00:00<?, ?it/s]"
      ]
     },
     "metadata": {},
     "output_type": "display_data"
    },
    {
     "name": "stdout",
     "output_type": "stream",
     "text": [
      "2: Current loss in training 1.1734334259748458\n"
     ]
    },
    {
     "data": {
      "application/vnd.jupyter.widget-view+json": {
       "model_id": "da152b1bc9df479c98b380633bb887a2",
       "version_major": 2,
       "version_minor": 0
      },
      "text/plain": [
       "  0%|          | 0/1 [00:00<?, ?it/s]"
      ]
     },
     "metadata": {},
     "output_type": "display_data"
    },
    {
     "name": "stdout",
     "output_type": "stream",
     "text": [
      "RMSE Score: 1.0397815245612887\n"
     ]
    },
    {
     "data": {
      "application/vnd.jupyter.widget-view+json": {
       "model_id": "a3bf3ef1cf5a49fc913ca735a5e3030b",
       "version_major": 2,
       "version_minor": 0
      },
      "text/plain": [
       "  0%|          | 0/2500 [00:00<?, ?it/s]"
      ]
     },
     "metadata": {},
     "output_type": "display_data"
    },
    {
     "name": "stdout",
     "output_type": "stream",
     "text": [
      "3: Current loss in training 1.1015442863106728\n"
     ]
    },
    {
     "data": {
      "application/vnd.jupyter.widget-view+json": {
       "model_id": "c63be4eb15be456d9df2b72648a391c2",
       "version_major": 2,
       "version_minor": 0
      },
      "text/plain": [
       "  0%|          | 0/1 [00:00<?, ?it/s]"
      ]
     },
     "metadata": {},
     "output_type": "display_data"
    },
    {
     "name": "stdout",
     "output_type": "stream",
     "text": [
      "RMSE Score: 1.0369594088023029\n"
     ]
    },
    {
     "data": {
      "application/vnd.jupyter.widget-view+json": {
       "model_id": "629686f2299945e99f321469dd421d2c",
       "version_major": 2,
       "version_minor": 0
      },
      "text/plain": [
       "  0%|          | 0/2500 [00:00<?, ?it/s]"
      ]
     },
     "metadata": {},
     "output_type": "display_data"
    },
    {
     "name": "stdout",
     "output_type": "stream",
     "text": [
      "4: Current loss in training 1.054507712674141\n"
     ]
    },
    {
     "data": {
      "application/vnd.jupyter.widget-view+json": {
       "model_id": "ea964f6166394c32aabe77cff9c75ce0",
       "version_major": 2,
       "version_minor": 0
      },
      "text/plain": [
       "  0%|          | 0/1 [00:00<?, ?it/s]"
      ]
     },
     "metadata": {},
     "output_type": "display_data"
    },
    {
     "name": "stdout",
     "output_type": "stream",
     "text": [
      "RMSE Score: 0.9847035849101359\n"
     ]
    },
    {
     "data": {
      "application/vnd.jupyter.widget-view+json": {
       "model_id": "e1b36fb330fd4b8e918ee5011017eb87",
       "version_major": 2,
       "version_minor": 0
      },
      "text/plain": [
       "  0%|          | 0/2500 [00:00<?, ?it/s]"
      ]
     },
     "metadata": {},
     "output_type": "display_data"
    },
    {
     "name": "stdout",
     "output_type": "stream",
     "text": [
      "5: Current loss in training 1.0148325914263725\n"
     ]
    },
    {
     "data": {
      "application/vnd.jupyter.widget-view+json": {
       "model_id": "83741b0052b044408b5105e70b02d9d0",
       "version_major": 2,
       "version_minor": 0
      },
      "text/plain": [
       "  0%|          | 0/1 [00:00<?, ?it/s]"
      ]
     },
     "metadata": {},
     "output_type": "display_data"
    },
    {
     "name": "stdout",
     "output_type": "stream",
     "text": [
      "RMSE Score: 0.9805760606237235\n"
     ]
    },
    {
     "data": {
      "application/vnd.jupyter.widget-view+json": {
       "model_id": "4f2c73e85bf74fc287885fd5eb5e9dee",
       "version_major": 2,
       "version_minor": 0
      },
      "text/plain": [
       "  0%|          | 0/2500 [00:00<?, ?it/s]"
      ]
     },
     "metadata": {},
     "output_type": "display_data"
    },
    {
     "name": "stdout",
     "output_type": "stream",
     "text": [
      "6: Current loss in training 0.9891973648309708\n"
     ]
    },
    {
     "data": {
      "application/vnd.jupyter.widget-view+json": {
       "model_id": "7ad4b97bb016408da4c838007ae2e0e9",
       "version_major": 2,
       "version_minor": 0
      },
      "text/plain": [
       "  0%|          | 0/1 [00:00<?, ?it/s]"
      ]
     },
     "metadata": {},
     "output_type": "display_data"
    },
    {
     "name": "stdout",
     "output_type": "stream",
     "text": [
      "RMSE Score: 0.9631060271011975\n"
     ]
    },
    {
     "data": {
      "application/vnd.jupyter.widget-view+json": {
       "model_id": "0986842ffbc74f24a13b82580941ee66",
       "version_major": 2,
       "version_minor": 0
      },
      "text/plain": [
       "  0%|          | 0/2500 [00:00<?, ?it/s]"
      ]
     },
     "metadata": {},
     "output_type": "display_data"
    },
    {
     "name": "stdout",
     "output_type": "stream",
     "text": [
      "7: Current loss in training 0.9729697048783302\n"
     ]
    },
    {
     "data": {
      "application/vnd.jupyter.widget-view+json": {
       "model_id": "55aec024478d4ed3acb9262453f35773",
       "version_major": 2,
       "version_minor": 0
      },
      "text/plain": [
       "  0%|          | 0/1 [00:00<?, ?it/s]"
      ]
     },
     "metadata": {},
     "output_type": "display_data"
    },
    {
     "name": "stdout",
     "output_type": "stream",
     "text": [
      "RMSE Score: 0.9730354687847067\n"
     ]
    },
    {
     "data": {
      "application/vnd.jupyter.widget-view+json": {
       "model_id": "fdb3937fc9f147f8bf8b258591dfa1e3",
       "version_major": 2,
       "version_minor": 0
      },
      "text/plain": [
       "  0%|          | 0/2500 [00:00<?, ?it/s]"
      ]
     },
     "metadata": {},
     "output_type": "display_data"
    },
    {
     "name": "stdout",
     "output_type": "stream",
     "text": [
      "8: Current loss in training 0.9574957705378533\n"
     ]
    },
    {
     "data": {
      "application/vnd.jupyter.widget-view+json": {
       "model_id": "6a2a88407e6e4a598218585bf8d683c1",
       "version_major": 2,
       "version_minor": 0
      },
      "text/plain": [
       "  0%|          | 0/1 [00:00<?, ?it/s]"
      ]
     },
     "metadata": {},
     "output_type": "display_data"
    },
    {
     "name": "stdout",
     "output_type": "stream",
     "text": [
      "RMSE Score: 0.9638679660133272\n"
     ]
    },
    {
     "data": {
      "application/vnd.jupyter.widget-view+json": {
       "model_id": "521f907bca404a9cb678faa53b3934c4",
       "version_major": 2,
       "version_minor": 0
      },
      "text/plain": [
       "  0%|          | 0/2500 [00:00<?, ?it/s]"
      ]
     },
     "metadata": {},
     "output_type": "display_data"
    },
    {
     "name": "stdout",
     "output_type": "stream",
     "text": [
      "9: Current loss in training 0.9435427348136902\n"
     ]
    },
    {
     "data": {
      "application/vnd.jupyter.widget-view+json": {
       "model_id": "4b15dfd0a5094d79aed1cca63c1f1e7a",
       "version_major": 2,
       "version_minor": 0
      },
      "text/plain": [
       "  0%|          | 0/1 [00:00<?, ?it/s]"
      ]
     },
     "metadata": {},
     "output_type": "display_data"
    },
    {
     "name": "stdout",
     "output_type": "stream",
     "text": [
      "RMSE Score: 0.9584797460251869\n"
     ]
    },
    {
     "data": {
      "application/vnd.jupyter.widget-view+json": {
       "model_id": "e7a45906adbb422b9b4558e1cc98dcbe",
       "version_major": 2,
       "version_minor": 0
      },
      "text/plain": [
       "  0%|          | 0/2500 [00:00<?, ?it/s]"
      ]
     },
     "metadata": {},
     "output_type": "display_data"
    },
    {
     "name": "stdout",
     "output_type": "stream",
     "text": [
      "10: Current loss in training 0.939224259006977\n"
     ]
    },
    {
     "data": {
      "application/vnd.jupyter.widget-view+json": {
       "model_id": "a6105d0fee9748efbf6979354239a602",
       "version_major": 2,
       "version_minor": 0
      },
      "text/plain": [
       "  0%|          | 0/1 [00:00<?, ?it/s]"
      ]
     },
     "metadata": {},
     "output_type": "display_data"
    },
    {
     "name": "stdout",
     "output_type": "stream",
     "text": [
      "RMSE Score: 0.9579416618591345\n"
     ]
    },
    {
     "data": {
      "application/vnd.jupyter.widget-view+json": {
       "model_id": "3df3ef64237c44bb8cc614373b5f7ac5",
       "version_major": 2,
       "version_minor": 0
      },
      "text/plain": [
       "  0%|          | 0/2500 [00:00<?, ?it/s]"
      ]
     },
     "metadata": {},
     "output_type": "display_data"
    },
    {
     "name": "stdout",
     "output_type": "stream",
     "text": [
      "11: Current loss in training 0.9319003111124039\n"
     ]
    },
    {
     "data": {
      "application/vnd.jupyter.widget-view+json": {
       "model_id": "9ae1436dd8344247b00613ec5eca9288",
       "version_major": 2,
       "version_minor": 0
      },
      "text/plain": [
       "  0%|          | 0/1 [00:00<?, ?it/s]"
      ]
     },
     "metadata": {},
     "output_type": "display_data"
    },
    {
     "name": "stdout",
     "output_type": "stream",
     "text": [
      "RMSE Score: 0.9573688092887106\n"
     ]
    },
    {
     "data": {
      "application/vnd.jupyter.widget-view+json": {
       "model_id": "56f47e34daf649558c4a45f43929a763",
       "version_major": 2,
       "version_minor": 0
      },
      "text/plain": [
       "  0%|          | 0/2500 [00:00<?, ?it/s]"
      ]
     },
     "metadata": {},
     "output_type": "display_data"
    },
    {
     "name": "stdout",
     "output_type": "stream",
     "text": [
      "12: Current loss in training 0.9259250146389008\n"
     ]
    },
    {
     "data": {
      "application/vnd.jupyter.widget-view+json": {
       "model_id": "a9d83defc6eb41cbab8caf4012579e98",
       "version_major": 2,
       "version_minor": 0
      },
      "text/plain": [
       "  0%|          | 0/1 [00:00<?, ?it/s]"
      ]
     },
     "metadata": {},
     "output_type": "display_data"
    },
    {
     "name": "stdout",
     "output_type": "stream",
     "text": [
      "RMSE Score: 0.9523515718835619\n"
     ]
    },
    {
     "data": {
      "application/vnd.jupyter.widget-view+json": {
       "model_id": "32e9eabb50e34207806bbc3b7a566682",
       "version_major": 2,
       "version_minor": 0
      },
      "text/plain": [
       "  0%|          | 0/2500 [00:00<?, ?it/s]"
      ]
     },
     "metadata": {},
     "output_type": "display_data"
    },
    {
     "name": "stdout",
     "output_type": "stream",
     "text": [
      "13: Current loss in training 0.9224481031417847\n"
     ]
    },
    {
     "data": {
      "application/vnd.jupyter.widget-view+json": {
       "model_id": "d76998fdc5eb4291bdd38cc815128335",
       "version_major": 2,
       "version_minor": 0
      },
      "text/plain": [
       "  0%|          | 0/1 [00:00<?, ?it/s]"
      ]
     },
     "metadata": {},
     "output_type": "display_data"
    },
    {
     "name": "stdout",
     "output_type": "stream",
     "text": [
      "RMSE Score: 0.9533781764394139\n"
     ]
    },
    {
     "data": {
      "application/vnd.jupyter.widget-view+json": {
       "model_id": "e45ff3dc64a5485093bd385e2157b5fb",
       "version_major": 2,
       "version_minor": 0
      },
      "text/plain": [
       "  0%|          | 0/2500 [00:00<?, ?it/s]"
      ]
     },
     "metadata": {},
     "output_type": "display_data"
    },
    {
     "name": "stdout",
     "output_type": "stream",
     "text": [
      "14: Current loss in training 0.9165188515067101\n"
     ]
    },
    {
     "data": {
      "application/vnd.jupyter.widget-view+json": {
       "model_id": "4721d21676544339968515cd622c198f",
       "version_major": 2,
       "version_minor": 0
      },
      "text/plain": [
       "  0%|          | 0/1 [00:00<?, ?it/s]"
      ]
     },
     "metadata": {},
     "output_type": "display_data"
    },
    {
     "name": "stdout",
     "output_type": "stream",
     "text": [
      "RMSE Score: 0.9493124074551363\n"
     ]
    },
    {
     "data": {
      "application/vnd.jupyter.widget-view+json": {
       "model_id": "bfa89355e8ac4646babd1187b43db754",
       "version_major": 2,
       "version_minor": 0
      },
      "text/plain": [
       "  0%|          | 0/2500 [00:00<?, ?it/s]"
      ]
     },
     "metadata": {},
     "output_type": "display_data"
    },
    {
     "name": "stdout",
     "output_type": "stream",
     "text": [
      "15: Current loss in training 0.9070617683291435\n"
     ]
    },
    {
     "data": {
      "application/vnd.jupyter.widget-view+json": {
       "model_id": "da1618d42d914a22995ef54d15785b2e",
       "version_major": 2,
       "version_minor": 0
      },
      "text/plain": [
       "  0%|          | 0/1 [00:00<?, ?it/s]"
      ]
     },
     "metadata": {},
     "output_type": "display_data"
    },
    {
     "name": "stdout",
     "output_type": "stream",
     "text": [
      "RMSE Score: 0.956385217977238\n"
     ]
    },
    {
     "data": {
      "application/vnd.jupyter.widget-view+json": {
       "model_id": "cc6f9a10af9547cfbe96f0dfb1c37d9b",
       "version_major": 2,
       "version_minor": 0
      },
      "text/plain": [
       "  0%|          | 0/2500 [00:00<?, ?it/s]"
      ]
     },
     "metadata": {},
     "output_type": "display_data"
    },
    {
     "name": "stdout",
     "output_type": "stream",
     "text": [
      "16: Current loss in training 0.9048445697903633\n"
     ]
    },
    {
     "data": {
      "application/vnd.jupyter.widget-view+json": {
       "model_id": "eac24bedc8cb4bbabc9961c62f0d792d",
       "version_major": 2,
       "version_minor": 0
      },
      "text/plain": [
       "  0%|          | 0/1 [00:00<?, ?it/s]"
      ]
     },
     "metadata": {},
     "output_type": "display_data"
    },
    {
     "name": "stdout",
     "output_type": "stream",
     "text": [
      "RMSE Score: 0.946613661111789\n"
     ]
    },
    {
     "data": {
      "application/vnd.jupyter.widget-view+json": {
       "model_id": "194821e8d8684312b36300f5cacb81b3",
       "version_major": 2,
       "version_minor": 0
      },
      "text/plain": [
       "  0%|          | 0/2500 [00:00<?, ?it/s]"
      ]
     },
     "metadata": {},
     "output_type": "display_data"
    },
    {
     "name": "stdout",
     "output_type": "stream",
     "text": [
      "17: Current loss in training 0.9011226463675499\n"
     ]
    },
    {
     "data": {
      "application/vnd.jupyter.widget-view+json": {
       "model_id": "3d39c87b658744ada535b5a3371a8fd0",
       "version_major": 2,
       "version_minor": 0
      },
      "text/plain": [
       "  0%|          | 0/1 [00:00<?, ?it/s]"
      ]
     },
     "metadata": {},
     "output_type": "display_data"
    },
    {
     "name": "stdout",
     "output_type": "stream",
     "text": [
      "RMSE Score: 0.9479473490170593\n"
     ]
    },
    {
     "data": {
      "application/vnd.jupyter.widget-view+json": {
       "model_id": "afcb8445284c47b5b46fab087205cf66",
       "version_major": 2,
       "version_minor": 0
      },
      "text/plain": [
       "  0%|          | 0/2500 [00:00<?, ?it/s]"
      ]
     },
     "metadata": {},
     "output_type": "display_data"
    },
    {
     "name": "stdout",
     "output_type": "stream",
     "text": [
      "18: Current loss in training 0.8957927601575851\n"
     ]
    },
    {
     "data": {
      "application/vnd.jupyter.widget-view+json": {
       "model_id": "5e5c803ceb9e477087fa2a989592f83c",
       "version_major": 2,
       "version_minor": 0
      },
      "text/plain": [
       "  0%|          | 0/1 [00:00<?, ?it/s]"
      ]
     },
     "metadata": {},
     "output_type": "display_data"
    },
    {
     "name": "stdout",
     "output_type": "stream",
     "text": [
      "RMSE Score: 0.9429010125525661\n"
     ]
    },
    {
     "data": {
      "application/vnd.jupyter.widget-view+json": {
       "model_id": "ba7c0616c16241f99bf20d58d001f672",
       "version_major": 2,
       "version_minor": 0
      },
      "text/plain": [
       "  0%|          | 0/2500 [00:00<?, ?it/s]"
      ]
     },
     "metadata": {},
     "output_type": "display_data"
    },
    {
     "name": "stdout",
     "output_type": "stream",
     "text": [
      "19: Current loss in training 0.8914276526331901\n"
     ]
    },
    {
     "data": {
      "application/vnd.jupyter.widget-view+json": {
       "model_id": "dbc13a55e24d4417ae2cd611f852d420",
       "version_major": 2,
       "version_minor": 0
      },
      "text/plain": [
       "  0%|          | 0/1 [00:00<?, ?it/s]"
      ]
     },
     "metadata": {},
     "output_type": "display_data"
    },
    {
     "name": "stdout",
     "output_type": "stream",
     "text": [
      "RMSE Score: 0.9449918121515772\n"
     ]
    },
    {
     "data": {
      "application/vnd.jupyter.widget-view+json": {
       "model_id": "84aa9e4c954144b1a668a8773ad456a8",
       "version_major": 2,
       "version_minor": 0
      },
      "text/plain": [
       "  0%|          | 0/2500 [00:00<?, ?it/s]"
      ]
     },
     "metadata": {},
     "output_type": "display_data"
    },
    {
     "name": "stdout",
     "output_type": "stream",
     "text": [
      "20: Current loss in training 0.8868420675039291\n"
     ]
    },
    {
     "data": {
      "application/vnd.jupyter.widget-view+json": {
       "model_id": "43f175e297f84a96880feb0ab400b8e4",
       "version_major": 2,
       "version_minor": 0
      },
      "text/plain": [
       "  0%|          | 0/1 [00:00<?, ?it/s]"
      ]
     },
     "metadata": {},
     "output_type": "display_data"
    },
    {
     "name": "stdout",
     "output_type": "stream",
     "text": [
      "RMSE Score: 0.9422783798044321\n"
     ]
    },
    {
     "data": {
      "application/vnd.jupyter.widget-view+json": {
       "model_id": "44fb46a0d70b4986a89b4e2de829e33c",
       "version_major": 2,
       "version_minor": 0
      },
      "text/plain": [
       "  0%|          | 0/2500 [00:00<?, ?it/s]"
      ]
     },
     "metadata": {},
     "output_type": "display_data"
    },
    {
     "name": "stdout",
     "output_type": "stream",
     "text": [
      "21: Current loss in training 0.8828445692658424\n"
     ]
    },
    {
     "data": {
      "application/vnd.jupyter.widget-view+json": {
       "model_id": "e4669c8ed6df406aade0b0c94b868a92",
       "version_major": 2,
       "version_minor": 0
      },
      "text/plain": [
       "  0%|          | 0/1 [00:00<?, ?it/s]"
      ]
     },
     "metadata": {},
     "output_type": "display_data"
    },
    {
     "name": "stdout",
     "output_type": "stream",
     "text": [
      "RMSE Score: 0.9399122573769487\n"
     ]
    },
    {
     "data": {
      "application/vnd.jupyter.widget-view+json": {
       "model_id": "3adee16b37044a3faf8adaadb630a748",
       "version_major": 2,
       "version_minor": 0
      },
      "text/plain": [
       "  0%|          | 0/2500 [00:00<?, ?it/s]"
      ]
     },
     "metadata": {},
     "output_type": "display_data"
    },
    {
     "name": "stdout",
     "output_type": "stream",
     "text": [
      "22: Current loss in training 0.8790881542086602\n"
     ]
    },
    {
     "data": {
      "application/vnd.jupyter.widget-view+json": {
       "model_id": "10b5898069d64c4691600bf8d28e90a6",
       "version_major": 2,
       "version_minor": 0
      },
      "text/plain": [
       "  0%|          | 0/1 [00:00<?, ?it/s]"
      ]
     },
     "metadata": {},
     "output_type": "display_data"
    },
    {
     "name": "stdout",
     "output_type": "stream",
     "text": [
      "RMSE Score: 0.9415503793234133\n"
     ]
    },
    {
     "data": {
      "application/vnd.jupyter.widget-view+json": {
       "model_id": "54aa76a98ac24a51a6e2e7f81814d33f",
       "version_major": 2,
       "version_minor": 0
      },
      "text/plain": [
       "  0%|          | 0/2500 [00:00<?, ?it/s]"
      ]
     },
     "metadata": {},
     "output_type": "display_data"
    },
    {
     "name": "stdout",
     "output_type": "stream",
     "text": [
      "23: Current loss in training 0.8729610320806503\n"
     ]
    },
    {
     "data": {
      "application/vnd.jupyter.widget-view+json": {
       "model_id": "30d9ebcb01f1476982acbabe8443e4ad",
       "version_major": 2,
       "version_minor": 0
      },
      "text/plain": [
       "  0%|          | 0/1 [00:00<?, ?it/s]"
      ]
     },
     "metadata": {},
     "output_type": "display_data"
    },
    {
     "name": "stdout",
     "output_type": "stream",
     "text": [
      "RMSE Score: 0.9381589894139869\n"
     ]
    },
    {
     "data": {
      "application/vnd.jupyter.widget-view+json": {
       "model_id": "65f544ed098d4fdb97c69bf7d8657310",
       "version_major": 2,
       "version_minor": 0
      },
      "text/plain": [
       "  0%|          | 0/2500 [00:00<?, ?it/s]"
      ]
     },
     "metadata": {},
     "output_type": "display_data"
    },
    {
     "name": "stdout",
     "output_type": "stream",
     "text": [
      "24: Current loss in training 0.868357997739315\n"
     ]
    },
    {
     "data": {
      "application/vnd.jupyter.widget-view+json": {
       "model_id": "a2aac3ff9e1146658b602a37549c95d5",
       "version_major": 2,
       "version_minor": 0
      },
      "text/plain": [
       "  0%|          | 0/1 [00:00<?, ?it/s]"
      ]
     },
     "metadata": {},
     "output_type": "display_data"
    },
    {
     "name": "stdout",
     "output_type": "stream",
     "text": [
      "RMSE Score: 0.9383330424784181\n"
     ]
    },
    {
     "data": {
      "application/vnd.jupyter.widget-view+json": {
       "model_id": "8066334ff8c042fa92da25469310eb62",
       "version_major": 2,
       "version_minor": 0
      },
      "text/plain": [
       "  0%|          | 0/2500 [00:00<?, ?it/s]"
      ]
     },
     "metadata": {},
     "output_type": "display_data"
    },
    {
     "name": "stdout",
     "output_type": "stream",
     "text": [
      "25: Current loss in training 0.8638556100964546\n"
     ]
    },
    {
     "data": {
      "application/vnd.jupyter.widget-view+json": {
       "model_id": "76c66d691fde4d98ab3b50699ddab8d7",
       "version_major": 2,
       "version_minor": 0
      },
      "text/plain": [
       "  0%|          | 0/1 [00:00<?, ?it/s]"
      ]
     },
     "metadata": {},
     "output_type": "display_data"
    },
    {
     "name": "stdout",
     "output_type": "stream",
     "text": [
      "RMSE Score: 0.9373882854697722\n"
     ]
    },
    {
     "data": {
      "application/vnd.jupyter.widget-view+json": {
       "model_id": "9d387628052444edbb79f4df5935cc25",
       "version_major": 2,
       "version_minor": 0
      },
      "text/plain": [
       "  0%|          | 0/2500 [00:00<?, ?it/s]"
      ]
     },
     "metadata": {},
     "output_type": "display_data"
    },
    {
     "name": "stdout",
     "output_type": "stream",
     "text": [
      "26: Current loss in training 0.8612065704464913\n"
     ]
    },
    {
     "data": {
      "application/vnd.jupyter.widget-view+json": {
       "model_id": "ea4d465ed1194f69b8b3f2f42be2d928",
       "version_major": 2,
       "version_minor": 0
      },
      "text/plain": [
       "  0%|          | 0/1 [00:00<?, ?it/s]"
      ]
     },
     "metadata": {},
     "output_type": "display_data"
    },
    {
     "name": "stdout",
     "output_type": "stream",
     "text": [
      "RMSE Score: 0.9438000693769629\n"
     ]
    },
    {
     "data": {
      "application/vnd.jupyter.widget-view+json": {
       "model_id": "deea4465aa324713a547d71d97fb9083",
       "version_major": 2,
       "version_minor": 0
      },
      "text/plain": [
       "  0%|          | 0/2500 [00:00<?, ?it/s]"
      ]
     },
     "metadata": {},
     "output_type": "display_data"
    },
    {
     "name": "stdout",
     "output_type": "stream",
     "text": [
      "27: Current loss in training 0.8572124509096145\n"
     ]
    },
    {
     "data": {
      "application/vnd.jupyter.widget-view+json": {
       "model_id": "42473098bf1349719fd66fe178cf9c19",
       "version_major": 2,
       "version_minor": 0
      },
      "text/plain": [
       "  0%|          | 0/1 [00:00<?, ?it/s]"
      ]
     },
     "metadata": {},
     "output_type": "display_data"
    },
    {
     "name": "stdout",
     "output_type": "stream",
     "text": [
      "RMSE Score: 0.9442835596053033\n"
     ]
    },
    {
     "data": {
      "application/vnd.jupyter.widget-view+json": {
       "model_id": "c0095b7d08d147c888b88fa99be8bea0",
       "version_major": 2,
       "version_minor": 0
      },
      "text/plain": [
       "  0%|          | 0/2500 [00:00<?, ?it/s]"
      ]
     },
     "metadata": {},
     "output_type": "display_data"
    },
    {
     "name": "stdout",
     "output_type": "stream",
     "text": [
      "28: Current loss in training 0.8547663312077523\n"
     ]
    },
    {
     "data": {
      "application/vnd.jupyter.widget-view+json": {
       "model_id": "a85035df390e4d39b122b9c9f59b5e69",
       "version_major": 2,
       "version_minor": 0
      },
      "text/plain": [
       "  0%|          | 0/1 [00:00<?, ?it/s]"
      ]
     },
     "metadata": {},
     "output_type": "display_data"
    },
    {
     "name": "stdout",
     "output_type": "stream",
     "text": [
      "RMSE Score: 0.9356126465173852\n"
     ]
    },
    {
     "data": {
      "application/vnd.jupyter.widget-view+json": {
       "model_id": "1a31b4ab380b4809b5b0b837c639de72",
       "version_major": 2,
       "version_minor": 0
      },
      "text/plain": [
       "  0%|          | 0/2500 [00:00<?, ?it/s]"
      ]
     },
     "metadata": {},
     "output_type": "display_data"
    },
    {
     "name": "stdout",
     "output_type": "stream",
     "text": [
      "29: Current loss in training 0.8489160831928253\n"
     ]
    },
    {
     "data": {
      "application/vnd.jupyter.widget-view+json": {
       "model_id": "9697221dc907428b877d3ccbb9a3c1d7",
       "version_major": 2,
       "version_minor": 0
      },
      "text/plain": [
       "  0%|          | 0/1 [00:00<?, ?it/s]"
      ]
     },
     "metadata": {},
     "output_type": "display_data"
    },
    {
     "name": "stdout",
     "output_type": "stream",
     "text": [
      "RMSE Score: 0.9356582035211298\n"
     ]
    },
    {
     "data": {
      "application/vnd.jupyter.widget-view+json": {
       "model_id": "59fb1dfdb00f4ce2bb2a444d888d6658",
       "version_major": 2,
       "version_minor": 0
      },
      "text/plain": [
       "  0%|          | 0/2500 [00:00<?, ?it/s]"
      ]
     },
     "metadata": {},
     "output_type": "display_data"
    },
    {
     "name": "stdout",
     "output_type": "stream",
     "text": [
      "30: Current loss in training 0.8451463256895542\n"
     ]
    },
    {
     "data": {
      "application/vnd.jupyter.widget-view+json": {
       "model_id": "36428372f38b4690ac23b8212ae06e01",
       "version_major": 2,
       "version_minor": 0
      },
      "text/plain": [
       "  0%|          | 0/1 [00:00<?, ?it/s]"
      ]
     },
     "metadata": {},
     "output_type": "display_data"
    },
    {
     "name": "stdout",
     "output_type": "stream",
     "text": [
      "RMSE Score: 0.9365526601307329\n"
     ]
    },
    {
     "data": {
      "application/vnd.jupyter.widget-view+json": {
       "model_id": "ea89c31095e14813ad76938e47d6fb68",
       "version_major": 2,
       "version_minor": 0
      },
      "text/plain": [
       "  0%|          | 0/2500 [00:00<?, ?it/s]"
      ]
     },
     "metadata": {},
     "output_type": "display_data"
    },
    {
     "name": "stdout",
     "output_type": "stream",
     "text": [
      "31: Current loss in training 0.842787018752098\n"
     ]
    },
    {
     "data": {
      "application/vnd.jupyter.widget-view+json": {
       "model_id": "ebdf4bf9d64d43ecb24c236666c34112",
       "version_major": 2,
       "version_minor": 0
      },
      "text/plain": [
       "  0%|          | 0/1 [00:00<?, ?it/s]"
      ]
     },
     "metadata": {},
     "output_type": "display_data"
    },
    {
     "name": "stdout",
     "output_type": "stream",
     "text": [
      "RMSE Score: 0.9359827643842803\n"
     ]
    },
    {
     "data": {
      "application/vnd.jupyter.widget-view+json": {
       "model_id": "a2735bec923c493ab16606a8faf7a50c",
       "version_major": 2,
       "version_minor": 0
      },
      "text/plain": [
       "  0%|          | 0/2500 [00:00<?, ?it/s]"
      ]
     },
     "metadata": {},
     "output_type": "display_data"
    },
    {
     "name": "stdout",
     "output_type": "stream",
     "text": [
      "32: Current loss in training 0.8385094200968742\n"
     ]
    },
    {
     "data": {
      "application/vnd.jupyter.widget-view+json": {
       "model_id": "7a2ffe708c4a4ab3a19c554251c6be5a",
       "version_major": 2,
       "version_minor": 0
      },
      "text/plain": [
       "  0%|          | 0/1 [00:00<?, ?it/s]"
      ]
     },
     "metadata": {},
     "output_type": "display_data"
    },
    {
     "name": "stdout",
     "output_type": "stream",
     "text": [
      "RMSE Score: 0.939453127215944\n"
     ]
    },
    {
     "data": {
      "application/vnd.jupyter.widget-view+json": {
       "model_id": "5b6e80729fda4734a69637164ab5a808",
       "version_major": 2,
       "version_minor": 0
      },
      "text/plain": [
       "  0%|          | 0/2500 [00:00<?, ?it/s]"
      ]
     },
     "metadata": {},
     "output_type": "display_data"
    },
    {
     "name": "stdout",
     "output_type": "stream",
     "text": [
      "33: Current loss in training 0.8336103747844696\n"
     ]
    },
    {
     "data": {
      "application/vnd.jupyter.widget-view+json": {
       "model_id": "53a0b2fe3bdf48549905767fa3ac169b",
       "version_major": 2,
       "version_minor": 0
      },
      "text/plain": [
       "  0%|          | 0/1 [00:00<?, ?it/s]"
      ]
     },
     "metadata": {},
     "output_type": "display_data"
    },
    {
     "name": "stdout",
     "output_type": "stream",
     "text": [
      "RMSE Score: 0.9330620184144623\n"
     ]
    },
    {
     "data": {
      "application/vnd.jupyter.widget-view+json": {
       "model_id": "dbd76f447a5e4e479242c06b4a9165b9",
       "version_major": 2,
       "version_minor": 0
      },
      "text/plain": [
       "  0%|          | 0/2500 [00:00<?, ?it/s]"
      ]
     },
     "metadata": {},
     "output_type": "display_data"
    },
    {
     "name": "stdout",
     "output_type": "stream",
     "text": [
      "34: Current loss in training 0.8305476763248444\n"
     ]
    },
    {
     "data": {
      "application/vnd.jupyter.widget-view+json": {
       "model_id": "9da10df50b5244c3b4f85ef9c43741cf",
       "version_major": 2,
       "version_minor": 0
      },
      "text/plain": [
       "  0%|          | 0/1 [00:00<?, ?it/s]"
      ]
     },
     "metadata": {},
     "output_type": "display_data"
    },
    {
     "name": "stdout",
     "output_type": "stream",
     "text": [
      "RMSE Score: 0.933716709590253\n"
     ]
    },
    {
     "data": {
      "application/vnd.jupyter.widget-view+json": {
       "model_id": "22078ec672d74982909750a9d9102316",
       "version_major": 2,
       "version_minor": 0
      },
      "text/plain": [
       "  0%|          | 0/2500 [00:00<?, ?it/s]"
      ]
     },
     "metadata": {},
     "output_type": "display_data"
    },
    {
     "name": "stdout",
     "output_type": "stream",
     "text": [
      "35: Current loss in training 0.8284815019011498\n"
     ]
    },
    {
     "data": {
      "application/vnd.jupyter.widget-view+json": {
       "model_id": "6fa059a4216f447f9eaa2fd9ecfbaad2",
       "version_major": 2,
       "version_minor": 0
      },
      "text/plain": [
       "  0%|          | 0/1 [00:00<?, ?it/s]"
      ]
     },
     "metadata": {},
     "output_type": "display_data"
    },
    {
     "name": "stdout",
     "output_type": "stream",
     "text": [
      "RMSE Score: 0.939517112952466\n"
     ]
    },
    {
     "data": {
      "application/vnd.jupyter.widget-view+json": {
       "model_id": "2441dbb5174b4b959f92c5a8d5849a20",
       "version_major": 2,
       "version_minor": 0
      },
      "text/plain": [
       "  0%|          | 0/2500 [00:00<?, ?it/s]"
      ]
     },
     "metadata": {},
     "output_type": "display_data"
    },
    {
     "name": "stdout",
     "output_type": "stream",
     "text": [
      "36: Current loss in training 0.8220162901520729\n"
     ]
    },
    {
     "data": {
      "application/vnd.jupyter.widget-view+json": {
       "model_id": "7ff04332bed94d30b0d65902bd1f4e76",
       "version_major": 2,
       "version_minor": 0
      },
      "text/plain": [
       "  0%|          | 0/1 [00:00<?, ?it/s]"
      ]
     },
     "metadata": {},
     "output_type": "display_data"
    },
    {
     "name": "stdout",
     "output_type": "stream",
     "text": [
      "RMSE Score: 0.9345059445917214\n"
     ]
    },
    {
     "data": {
      "application/vnd.jupyter.widget-view+json": {
       "model_id": "0d936830e3e64b7e86ebb3e85b12f80a",
       "version_major": 2,
       "version_minor": 0
      },
      "text/plain": [
       "  0%|          | 0/2500 [00:00<?, ?it/s]"
      ]
     },
     "metadata": {},
     "output_type": "display_data"
    },
    {
     "name": "stdout",
     "output_type": "stream",
     "text": [
      "37: Current loss in training 0.8254546916484833\n"
     ]
    },
    {
     "data": {
      "application/vnd.jupyter.widget-view+json": {
       "model_id": "781109885b8d413cbec9c0483f89bc5c",
       "version_major": 2,
       "version_minor": 0
      },
      "text/plain": [
       "  0%|          | 0/1 [00:00<?, ?it/s]"
      ]
     },
     "metadata": {},
     "output_type": "display_data"
    },
    {
     "name": "stdout",
     "output_type": "stream",
     "text": [
      "RMSE Score: 0.9310927762475097\n"
     ]
    },
    {
     "data": {
      "application/vnd.jupyter.widget-view+json": {
       "model_id": "d06db9171827492d92e6f14002576997",
       "version_major": 2,
       "version_minor": 0
      },
      "text/plain": [
       "  0%|          | 0/2500 [00:00<?, ?it/s]"
      ]
     },
     "metadata": {},
     "output_type": "display_data"
    },
    {
     "name": "stdout",
     "output_type": "stream",
     "text": [
      "38: Current loss in training 0.817048540520668\n"
     ]
    },
    {
     "data": {
      "application/vnd.jupyter.widget-view+json": {
       "model_id": "a0f8090a25284d0eb3312d0640178197",
       "version_major": 2,
       "version_minor": 0
      },
      "text/plain": [
       "  0%|          | 0/1 [00:00<?, ?it/s]"
      ]
     },
     "metadata": {},
     "output_type": "display_data"
    },
    {
     "name": "stdout",
     "output_type": "stream",
     "text": [
      "RMSE Score: 0.9358909108169384\n"
     ]
    },
    {
     "data": {
      "application/vnd.jupyter.widget-view+json": {
       "model_id": "6809679314a34e7791fd6dd701b5bb16",
       "version_major": 2,
       "version_minor": 0
      },
      "text/plain": [
       "  0%|          | 0/2500 [00:00<?, ?it/s]"
      ]
     },
     "metadata": {},
     "output_type": "display_data"
    },
    {
     "name": "stdout",
     "output_type": "stream",
     "text": [
      "39: Current loss in training 0.8115486728310585\n"
     ]
    },
    {
     "data": {
      "application/vnd.jupyter.widget-view+json": {
       "model_id": "c2b6557d313a4ae5ab05ca8fc8ac2eb1",
       "version_major": 2,
       "version_minor": 0
      },
      "text/plain": [
       "  0%|          | 0/1 [00:00<?, ?it/s]"
      ]
     },
     "metadata": {},
     "output_type": "display_data"
    },
    {
     "name": "stdout",
     "output_type": "stream",
     "text": [
      "RMSE Score: 0.9282501818777327\n"
     ]
    },
    {
     "data": {
      "application/vnd.jupyter.widget-view+json": {
       "model_id": "64d16dee60404691a5491caf028c9d07",
       "version_major": 2,
       "version_minor": 0
      },
      "text/plain": [
       "  0%|          | 0/1 [00:00<?, ?it/s]"
      ]
     },
     "metadata": {},
     "output_type": "display_data"
    },
    {
     "name": "stdout",
     "output_type": "stream",
     "text": [
      "RMSE Score: 0.9282501818777327\n"
     ]
    }
   ],
   "source": [
    "if not os.path.exists('ml100k-exp-full+mean+std-batch-linear.pt'):\n",
    "    for i in range(40):\n",
    "        l = epoch(model, loss_f, optimizer, dl_train, device)\n",
    "        print(f'{i}: Current loss in training {l}')\n",
    "        y_pred = predict(model, dl_test, device)\n",
    "        print(f'RMSE Score: {mean_squared_error(test[\"rating\"].to_numpy(), y_pred, squared=False)}')\n",
    "    torch.save(model.state_dict(), 'ml100k-exp-full+mean+std-batch-linear.pt')\n",
    "else:\n",
    "    model.load_state_dict(torch.load('ml100k-exp-full+mean+std-batch-linear.pt'))\n",
    "\n",
    "\n",
    "y_pred = predict(model, dl_test, device)\n",
    "\n",
    "print(f'RMSE Score: {mean_squared_error(test[\"rating\"].to_numpy(), y_pred, squared=False)}')"
   ]
  },
  {
   "cell_type": "code",
   "execution_count": null,
   "id": "fff29382-fe3f-4973-bcd8-2c93807e5ea3",
   "metadata": {},
   "outputs": [],
   "source": []
  }
 ],
 "metadata": {
  "kernelspec": {
   "display_name": "Python 3 (ipykernel)",
   "language": "python",
   "name": "python3"
  },
  "language_info": {
   "codemirror_mode": {
    "name": "ipython",
    "version": 3
   },
   "file_extension": ".py",
   "mimetype": "text/x-python",
   "name": "python",
   "nbconvert_exporter": "python",
   "pygments_lexer": "ipython3",
   "version": "3.10.10"
  }
 },
 "nbformat": 4,
 "nbformat_minor": 5
}
