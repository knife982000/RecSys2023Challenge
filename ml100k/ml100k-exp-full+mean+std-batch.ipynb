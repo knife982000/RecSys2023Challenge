{
 "cells": [
  {
   "cell_type": "code",
   "execution_count": 1,
   "id": "aefdb232-5644-4770-86f5-027a8e6022d0",
   "metadata": {
    "tags": []
   },
   "outputs": [],
   "source": [
    "import torch\n",
    "from torch.utils.data.dataloader import DataLoader, Dataset\n",
    "from tqdm.auto import tqdm\n",
    "import polars as pl\n",
    "import numpy as np\n",
    "import random\n",
    "import os\n",
    "from sklearn.metrics import mean_squared_error\n",
    "\n",
    "torch.manual_seed(42)\n",
    "np.random.seed(42)\n",
    "random.seed(42)\n"
   ]
  },
  {
   "cell_type": "code",
   "execution_count": 2,
   "id": "e99df998-67d0-4457-b9cf-ee5381982431",
   "metadata": {},
   "outputs": [],
   "source": [
    "class EmbeddedFeatures(torch.nn.Module):\n",
    "    \n",
    "    def __init__(self, sizes, dims=32):\n",
    "        super().__init__()\n",
    "        embs = []\n",
    "        for c in sizes:\n",
    "            m = c\n",
    "            e = torch.nn.Embedding(m, dims)\n",
    "            embs.append(e)\n",
    "        self.embeddings = torch.nn.ModuleList(embs)\n",
    "        \n",
    "    def forward(self, cats):\n",
    "        embs = None\n",
    "        for c, e in zip(cats, self.embeddings):\n",
    "            if embs is None:\n",
    "                embs = e(c)\n",
    "            else:\n",
    "                embs += e(c)\n",
    "        embs /= len(cats)\n",
    "        return embs\n",
    "\n",
    "class DeepFeatures(torch.nn.Module):\n",
    "    \n",
    "    def __init__(self, num_size, embs, depth=3, dims=32):\n",
    "        super().__init__()\n",
    "        self.embs = embs\n",
    "        num_dims = num_size\n",
    "        #first \n",
    "        deep_list = [torch.nn.Linear(dims + num_dims, dims)]\n",
    "        for _ in range(1, depth):\n",
    "            deep_list.append(torch.nn.Linear(dims, dims))\n",
    "        self.deep = torch.nn.ModuleList(deep_list)\n",
    "        \n",
    "        \n",
    "    def forward(self, cats, nums, std=0.5):\n",
    "        embs = self.embs(cats)\n",
    "        if nums is not None:\n",
    "            x = torch.cat((embs, nums), dim=1)\n",
    "        else:\n",
    "            x = embs\n",
    "        if self.training:\n",
    "            x = x * (1 + std * torch.randn_like(x))\n",
    "        output = []\n",
    "        for l in self.deep:\n",
    "            x = l(x)\n",
    "            if self.training:\n",
    "                x = x * (1 + std * torch.randn_like(x))\n",
    "            output.append(x)\n",
    "            x = torch.nn.functional.leaky_relu(x)\n",
    "        return output\n",
    "    \n",
    "\n",
    "class DeepMF(torch.nn.Module):\n",
    "    \n",
    "    def __init__(self, cat_sizes, num_size, depth=3, dims=32):\n",
    "        super().__init__()\n",
    "        embds = EmbeddedFeatures(cat_sizes, dims)\n",
    "        self.base = DeepFeatures(num_size, embds, depth=depth, dims=32)\n",
    "        self.click = DeepFeatures(num_size, embds, depth=depth, dims=32)\n",
    "        self.multi = torch.nn.parameter.Parameter(torch.randn((1,1)))\n",
    "        self.att = torch.nn.parameter.Parameter(torch.randn((depth, 1)))\n",
    "        \n",
    "        \n",
    "    def forward(self, cats, nums):\n",
    "        base = self.base(cats, nums)\n",
    "        click = self.click(cats, nums)\n",
    "        click_out = None\n",
    "        for e, (b, c) in enumerate(zip(base, click)):\n",
    "            c_v = torch.sum(b * c, dim=1, keepdim=True) * self.multi\n",
    "            if click_out is None:\n",
    "                click_out = c_v * self.att[e, 0]\n",
    "            else:\n",
    "                click_out += (c_v * self.att[e, 0])\n",
    "        out = click_out\n",
    "        return torch.nn.functional.sigmoid(out)"
   ]
  },
  {
   "cell_type": "code",
   "execution_count": 3,
   "id": "fc285198-81a8-4342-9f95-beedd154d8d4",
   "metadata": {},
   "outputs": [],
   "source": [
    "def epoch(model, loss_f, optimizer, dl_train, device):\n",
    "    loss = 0\n",
    "    model.train()\n",
    "    for x, y in tqdm(dl_train):\n",
    "        optimizer.zero_grad()\n",
    "        cats = [c.to(device) for c in x[:-1]]\n",
    "        nums = x[-1].to(device)\n",
    "        y = y.float().to(device)\n",
    "        y_pred = model(cats, nums)\n",
    "        c_loss = loss_f(y_pred[:, 0], y)\n",
    "        c_loss.backward()\n",
    "        optimizer.step()\n",
    "        loss += c_loss.cpu().item()\n",
    "    return loss / len(dl_train)\n",
    "\n",
    "\n",
    "def predict(model, dl_test, device):\n",
    "    preds = [] \n",
    "    model.eval()\n",
    "    with torch.no_grad():\n",
    "        for x, _ in tqdm(dl_test):\n",
    "            cats = [c.to(device) for c in x[:-1]]\n",
    "            nums = x[-1].to(device)\n",
    "            y_pred = model(cats, nums).cpu().numpy()\n",
    "            preds.append(y_pred[:, 0])\n",
    "    preds = np.concatenate(preds, axis=0)\n",
    "    return preds"
   ]
  },
  {
   "cell_type": "code",
   "execution_count": 4,
   "id": "c1f0dece-c481-488f-b495-cbcc45dfd7ca",
   "metadata": {
    "tags": []
   },
   "outputs": [],
   "source": [
    "users = pl.read_csv('ml-100k/u.user', separator='|', has_header=False)\n",
    "users.columns = ['user', 'age', 'gender', 'occupation', 'zip_code']\n",
    "movies = pl.read_csv('ml-100k/u.item', separator='|', has_header=False, encoding='utf8-lossy')\n",
    "movies.columns = ['movie', 'title', 'release_date', 'video release date', \\\n",
    "              'IMDb', 'unknown', 'Action', 'Adventure', 'Animation', \\\n",
    "              'Children', 'Comedy', 'Crime', 'Documentary', 'Drama', 'Fantasy', \\\n",
    "              'Film-Noir', 'Horror', 'Musical', 'Mystery', 'Romance', 'Sci-Fi', \\\n",
    "              'Thriller', 'War', 'Western']\n",
    "train = pl.read_csv('ml-100k/u1.base', separator='\\t', has_header=False)\n",
    "train.columns = ['user', 'item', 'rating', 'timestamp'] \n",
    "test = pl.read_csv('ml-100k/u1.test', separator='\\t', has_header=False)\n",
    "test.columns = ['user', 'item', 'rating', 'timestamp'] "
   ]
  },
  {
   "cell_type": "code",
   "execution_count": 5,
   "id": "5edb548c-88fc-43d1-9c13-f795e4aa55c1",
   "metadata": {
    "tags": []
   },
   "outputs": [],
   "source": [
    "train = train.join(movies, left_on='item', right_on='movie').join(users, on='user')\n",
    "test = test.join(movies, left_on='item', right_on='movie').join(users, on='user')"
   ]
  },
  {
   "cell_type": "code",
   "execution_count": 6,
   "id": "14fd57f2-e5e1-452a-8b54-15bfed5f82bd",
   "metadata": {
    "tags": []
   },
   "outputs": [],
   "source": [
    "def build_map(ds, column):\n",
    "    data = ds[column].unique().sort()\n",
    "    dic = {o: i  for i, o in enumerate(data)}\n",
    "    return dic"
   ]
  },
  {
   "cell_type": "code",
   "execution_count": 7,
   "id": "024c8ed2-dd00-4534-9315-7052ecf1dbba",
   "metadata": {
    "tags": []
   },
   "outputs": [],
   "source": [
    "occ_map = build_map(train, 'occupation')\n",
    "age_map = build_map(train, 'age')"
   ]
  },
  {
   "cell_type": "code",
   "execution_count": 8,
   "id": "4be80389-dafc-4f08-92db-e6d5439b3b1f",
   "metadata": {
    "tags": []
   },
   "outputs": [],
   "source": [
    "movie_stats = train[['item', 'rating']].groupby('item').\\\n",
    "                                    agg(((pl.mean('rating') -1)/4).alias('item_mean'),\\\n",
    "                                             (pl.std('rating') / pl.mean('rating')).alias('item_std'))\n",
    "users_stats = train[['user', 'rating']].groupby('user').\\\n",
    "                                    agg(((pl.mean('rating') -1)/4).alias('user_mean'),\\\n",
    "                                             (pl.std('rating') / pl.mean('rating')).alias('user_std'))"
   ]
  },
  {
   "cell_type": "code",
   "execution_count": 9,
   "id": "b1edf1ef-2154-432a-ab2e-3dfe7a84a143",
   "metadata": {},
   "outputs": [],
   "source": [
    "train = train.join(movie_stats, on='item')\n",
    "test = test.join(movie_stats, on='item')\n",
    "train = train.join(users_stats, on='user')\n",
    "test = test.join(users_stats, on='user')"
   ]
  },
  {
   "cell_type": "code",
   "execution_count": 10,
   "id": "d6be5d42-39b3-4ebd-8817-2edf7efffa82",
   "metadata": {
    "tags": []
   },
   "outputs": [],
   "source": [
    "train = train.with_columns(pl.col('occupation').apply(lambda x: occ_map[x]))\n",
    "train = train.with_columns(pl.col('gender').apply(lambda x: 1 if x == 'M' else 0).alias('M'))\n",
    "train = train.with_columns(pl.col('gender').apply(lambda x: 1 if x == 'F' else 0).alias('F'))\n",
    "train = train.with_columns(pl.col('age').apply(lambda x: age_map[x]))\n",
    "test = test.with_columns(pl.col('occupation').apply(lambda x: occ_map[x]))\n",
    "test = test.with_columns(pl.col('gender').apply(lambda x: 1 if x == 'M' else 0).alias('M'))\n",
    "test = test.with_columns(pl.col('gender').apply(lambda x: 1 if x == 'F' else 0).alias('F'))\n",
    "test = test.with_columns(pl.col('age').apply(lambda x: age_map[x]))"
   ]
  },
  {
   "cell_type": "code",
   "execution_count": 11,
   "id": "86647175-2f97-4fac-a525-7294c61365d5",
   "metadata": {
    "tags": []
   },
   "outputs": [],
   "source": [
    "class ML100K(Dataset):\n",
    "    \n",
    "    def __init__(self, rankings):\n",
    "        self.users = rankings['user'].to_numpy()\n",
    "        self.occupation = rankings['occupation'].to_numpy()\n",
    "        self.age = rankings['age'].to_numpy()\n",
    "        self.items = rankings['item'].to_numpy()\n",
    "        self.categories = rankings['unknown', 'Action', 'Adventure', 'Animation', \\\n",
    "              'Children', 'Comedy', 'Crime', 'Documentary', 'Drama', 'Fantasy', \\\n",
    "              'Film-Noir', 'Horror', 'Musical', 'Mystery', 'Romance', 'Sci-Fi', \\\n",
    "              'Thriller', 'War', 'Western', 'M', 'F', 'item_mean', 'item_std', 'user_mean', 'user_std'].to_numpy().astype(np.float32)\n",
    "        self.rankings = (rankings['rating'].to_numpy().astype(np.float32) - 1 ) / 4\n",
    "    \n",
    "    def __getitem__(self, idx):\n",
    "        return (self.users[idx], self.occupation[idx], self.age[idx], self.items[idx], self.categories[idx, :]), self.rankings[idx]\n",
    "                                                      \n",
    "    def __len__(self):\n",
    "        return self.users.shape[0]"
   ]
  },
  {
   "cell_type": "code",
   "execution_count": 12,
   "id": "6357fad7-d057-41dc-b138-db878a202b76",
   "metadata": {
    "tags": []
   },
   "outputs": [],
   "source": [
    "dl_train = DataLoader(ML100K(train), \\\n",
    "                      batch_size=32, shuffle=True)\n",
    "dl_test = DataLoader(ML100K(test), \\\n",
    "                      batch_size=len(test), shuffle=False)"
   ]
  },
  {
   "cell_type": "code",
   "execution_count": 13,
   "id": "eb2b2b8c-1f8c-407f-aeeb-1f27b26a5957",
   "metadata": {},
   "outputs": [],
   "source": [
    "device = 'cuda'\n",
    "\n",
    "model = DeepMF([train['user'].max() + 1,\\\n",
    "                train['occupation'].max() + 1,\\\n",
    "                train['age'].max() + 1,\\\n",
    "                train['item'].max() + 1], 25).to(device)\n",
    "loss_f = torch.nn.MSELoss() #torch.nn.BCELoss()\n",
    "optimizer = torch.optim.RAdam(model.parameters())"
   ]
  },
  {
   "cell_type": "code",
   "execution_count": 14,
   "id": "966b3ae9-8024-47ce-b858-18f5d915878a",
   "metadata": {
    "tags": []
   },
   "outputs": [
    {
     "data": {
      "application/vnd.jupyter.widget-view+json": {
       "model_id": "7c2a71b3d1a347e89e9fe688a52fc860",
       "version_major": 2,
       "version_minor": 0
      },
      "text/plain": [
       "  0%|          | 0/2500 [00:00<?, ?it/s]"
      ]
     },
     "metadata": {},
     "output_type": "display_data"
    },
    {
     "name": "stdout",
     "output_type": "stream",
     "text": [
      "0: Current loss in training 0.07308472376838326\n"
     ]
    },
    {
     "data": {
      "application/vnd.jupyter.widget-view+json": {
       "model_id": "3c58694584634c9487cde840e742c5a5",
       "version_major": 2,
       "version_minor": 0
      },
      "text/plain": [
       "  0%|          | 0/1 [00:00<?, ?it/s]"
      ]
     },
     "metadata": {},
     "output_type": "display_data"
    },
    {
     "name": "stdout",
     "output_type": "stream",
     "text": [
      "RMSE Score: 1.0296543691594942\n"
     ]
    },
    {
     "data": {
      "application/vnd.jupyter.widget-view+json": {
       "model_id": "eabe7958c1eb4a59bc695662b22b833d",
       "version_major": 2,
       "version_minor": 0
      },
      "text/plain": [
       "  0%|          | 0/2500 [00:00<?, ?it/s]"
      ]
     },
     "metadata": {},
     "output_type": "display_data"
    },
    {
     "name": "stdout",
     "output_type": "stream",
     "text": [
      "1: Current loss in training 0.06565033820345997\n"
     ]
    },
    {
     "data": {
      "application/vnd.jupyter.widget-view+json": {
       "model_id": "2096e437a5a743c785d0927848618cbc",
       "version_major": 2,
       "version_minor": 0
      },
      "text/plain": [
       "  0%|          | 0/1 [00:00<?, ?it/s]"
      ]
     },
     "metadata": {},
     "output_type": "display_data"
    },
    {
     "name": "stdout",
     "output_type": "stream",
     "text": [
      "RMSE Score: 1.0138349906138295\n"
     ]
    },
    {
     "data": {
      "application/vnd.jupyter.widget-view+json": {
       "model_id": "59fea7e083ae4c6b9657035fc99b2d07",
       "version_major": 2,
       "version_minor": 0
      },
      "text/plain": [
       "  0%|          | 0/2500 [00:00<?, ?it/s]"
      ]
     },
     "metadata": {},
     "output_type": "display_data"
    },
    {
     "name": "stdout",
     "output_type": "stream",
     "text": [
      "2: Current loss in training 0.06210368131995201\n"
     ]
    },
    {
     "data": {
      "application/vnd.jupyter.widget-view+json": {
       "model_id": "9a4427f50b9a4d1da0f1c0cc29fdc57a",
       "version_major": 2,
       "version_minor": 0
      },
      "text/plain": [
       "  0%|          | 0/1 [00:00<?, ?it/s]"
      ]
     },
     "metadata": {},
     "output_type": "display_data"
    },
    {
     "name": "stdout",
     "output_type": "stream",
     "text": [
      "RMSE Score: 0.9873554659120859\n"
     ]
    },
    {
     "data": {
      "application/vnd.jupyter.widget-view+json": {
       "model_id": "e83d0c2f2aee48ec863b8b06028579bb",
       "version_major": 2,
       "version_minor": 0
      },
      "text/plain": [
       "  0%|          | 0/2500 [00:00<?, ?it/s]"
      ]
     },
     "metadata": {},
     "output_type": "display_data"
    },
    {
     "name": "stdout",
     "output_type": "stream",
     "text": [
      "3: Current loss in training 0.059382349062711\n"
     ]
    },
    {
     "data": {
      "application/vnd.jupyter.widget-view+json": {
       "model_id": "7ba62599e3f44fbb91d08ccf6e1e3a2a",
       "version_major": 2,
       "version_minor": 0
      },
      "text/plain": [
       "  0%|          | 0/1 [00:00<?, ?it/s]"
      ]
     },
     "metadata": {},
     "output_type": "display_data"
    },
    {
     "name": "stdout",
     "output_type": "stream",
     "text": [
      "RMSE Score: 0.975561815235332\n"
     ]
    },
    {
     "data": {
      "application/vnd.jupyter.widget-view+json": {
       "model_id": "0142d96b056745ef994546a6d37004fc",
       "version_major": 2,
       "version_minor": 0
      },
      "text/plain": [
       "  0%|          | 0/2500 [00:00<?, ?it/s]"
      ]
     },
     "metadata": {},
     "output_type": "display_data"
    },
    {
     "name": "stdout",
     "output_type": "stream",
     "text": [
      "4: Current loss in training 0.057646494037657973\n"
     ]
    },
    {
     "data": {
      "application/vnd.jupyter.widget-view+json": {
       "model_id": "b7f3f28ed6b74557b3b2db480ff8bf95",
       "version_major": 2,
       "version_minor": 0
      },
      "text/plain": [
       "  0%|          | 0/1 [00:00<?, ?it/s]"
      ]
     },
     "metadata": {},
     "output_type": "display_data"
    },
    {
     "name": "stdout",
     "output_type": "stream",
     "text": [
      "RMSE Score: 0.970141206956907\n"
     ]
    },
    {
     "data": {
      "application/vnd.jupyter.widget-view+json": {
       "model_id": "4ae71137406b451080d836d2cca96c04",
       "version_major": 2,
       "version_minor": 0
      },
      "text/plain": [
       "  0%|          | 0/2500 [00:00<?, ?it/s]"
      ]
     },
     "metadata": {},
     "output_type": "display_data"
    },
    {
     "name": "stdout",
     "output_type": "stream",
     "text": [
      "5: Current loss in training 0.05621504941433668\n"
     ]
    },
    {
     "data": {
      "application/vnd.jupyter.widget-view+json": {
       "model_id": "2008390cfb01457caf91be55c98cf7c9",
       "version_major": 2,
       "version_minor": 0
      },
      "text/plain": [
       "  0%|          | 0/1 [00:00<?, ?it/s]"
      ]
     },
     "metadata": {},
     "output_type": "display_data"
    },
    {
     "name": "stdout",
     "output_type": "stream",
     "text": [
      "RMSE Score: 0.9624070989986886\n"
     ]
    },
    {
     "data": {
      "application/vnd.jupyter.widget-view+json": {
       "model_id": "51a94b70885c401aa9ed895243abfdc2",
       "version_major": 2,
       "version_minor": 0
      },
      "text/plain": [
       "  0%|          | 0/2500 [00:00<?, ?it/s]"
      ]
     },
     "metadata": {},
     "output_type": "display_data"
    },
    {
     "name": "stdout",
     "output_type": "stream",
     "text": [
      "6: Current loss in training 0.055179738858342174\n"
     ]
    },
    {
     "data": {
      "application/vnd.jupyter.widget-view+json": {
       "model_id": "d447962f91494bbfb1861e74c4bd90cd",
       "version_major": 2,
       "version_minor": 0
      },
      "text/plain": [
       "  0%|          | 0/1 [00:00<?, ?it/s]"
      ]
     },
     "metadata": {},
     "output_type": "display_data"
    },
    {
     "name": "stdout",
     "output_type": "stream",
     "text": [
      "RMSE Score: 0.9576045397897742\n"
     ]
    },
    {
     "data": {
      "application/vnd.jupyter.widget-view+json": {
       "model_id": "8fd0126baea449689ad48789075e0212",
       "version_major": 2,
       "version_minor": 0
      },
      "text/plain": [
       "  0%|          | 0/2500 [00:00<?, ?it/s]"
      ]
     },
     "metadata": {},
     "output_type": "display_data"
    },
    {
     "name": "stdout",
     "output_type": "stream",
     "text": [
      "7: Current loss in training 0.054476661321520806\n"
     ]
    },
    {
     "data": {
      "application/vnd.jupyter.widget-view+json": {
       "model_id": "3903de8dc54e4932ae92ef37845a0e09",
       "version_major": 2,
       "version_minor": 0
      },
      "text/plain": [
       "  0%|          | 0/1 [00:00<?, ?it/s]"
      ]
     },
     "metadata": {},
     "output_type": "display_data"
    },
    {
     "name": "stdout",
     "output_type": "stream",
     "text": [
      "RMSE Score: 0.9536626340366184\n"
     ]
    },
    {
     "data": {
      "application/vnd.jupyter.widget-view+json": {
       "model_id": "0e21bf1801eb4def980e4b6f0f0d8094",
       "version_major": 2,
       "version_minor": 0
      },
      "text/plain": [
       "  0%|          | 0/2500 [00:00<?, ?it/s]"
      ]
     },
     "metadata": {},
     "output_type": "display_data"
    },
    {
     "name": "stdout",
     "output_type": "stream",
     "text": [
      "8: Current loss in training 0.05391501266248524\n"
     ]
    },
    {
     "data": {
      "application/vnd.jupyter.widget-view+json": {
       "model_id": "ff785b45ade043b1a48b56c7d9ab3663",
       "version_major": 2,
       "version_minor": 0
      },
      "text/plain": [
       "  0%|          | 0/1 [00:00<?, ?it/s]"
      ]
     },
     "metadata": {},
     "output_type": "display_data"
    },
    {
     "name": "stdout",
     "output_type": "stream",
     "text": [
      "RMSE Score: 0.9505889059021181\n"
     ]
    },
    {
     "data": {
      "application/vnd.jupyter.widget-view+json": {
       "model_id": "e89d1aeed3f145088b9072a401130eef",
       "version_major": 2,
       "version_minor": 0
      },
      "text/plain": [
       "  0%|          | 0/2500 [00:00<?, ?it/s]"
      ]
     },
     "metadata": {},
     "output_type": "display_data"
    },
    {
     "name": "stdout",
     "output_type": "stream",
     "text": [
      "9: Current loss in training 0.05323119440265\n"
     ]
    },
    {
     "data": {
      "application/vnd.jupyter.widget-view+json": {
       "model_id": "51c18a7539524f5bb8b1d5821f0ac599",
       "version_major": 2,
       "version_minor": 0
      },
      "text/plain": [
       "  0%|          | 0/1 [00:00<?, ?it/s]"
      ]
     },
     "metadata": {},
     "output_type": "display_data"
    },
    {
     "name": "stdout",
     "output_type": "stream",
     "text": [
      "RMSE Score: 0.9480948941388085\n"
     ]
    },
    {
     "data": {
      "application/vnd.jupyter.widget-view+json": {
       "model_id": "31146599209d48b9a83196da0e05f5d2",
       "version_major": 2,
       "version_minor": 0
      },
      "text/plain": [
       "  0%|          | 0/2500 [00:00<?, ?it/s]"
      ]
     },
     "metadata": {},
     "output_type": "display_data"
    },
    {
     "name": "stdout",
     "output_type": "stream",
     "text": [
      "10: Current loss in training 0.05275805822983384\n"
     ]
    },
    {
     "data": {
      "application/vnd.jupyter.widget-view+json": {
       "model_id": "99d1836bee8548229ccdc7732af3ab6e",
       "version_major": 2,
       "version_minor": 0
      },
      "text/plain": [
       "  0%|          | 0/1 [00:00<?, ?it/s]"
      ]
     },
     "metadata": {},
     "output_type": "display_data"
    },
    {
     "name": "stdout",
     "output_type": "stream",
     "text": [
      "RMSE Score: 0.9449269836495434\n"
     ]
    },
    {
     "data": {
      "application/vnd.jupyter.widget-view+json": {
       "model_id": "e7b3688d72f34c8096cfdc79c12818ad",
       "version_major": 2,
       "version_minor": 0
      },
      "text/plain": [
       "  0%|          | 0/2500 [00:00<?, ?it/s]"
      ]
     },
     "metadata": {},
     "output_type": "display_data"
    },
    {
     "name": "stdout",
     "output_type": "stream",
     "text": [
      "11: Current loss in training 0.05231439746543765\n"
     ]
    },
    {
     "data": {
      "application/vnd.jupyter.widget-view+json": {
       "model_id": "2cd3b2d5aaa44e1a981a1edd5433392e",
       "version_major": 2,
       "version_minor": 0
      },
      "text/plain": [
       "  0%|          | 0/1 [00:00<?, ?it/s]"
      ]
     },
     "metadata": {},
     "output_type": "display_data"
    },
    {
     "name": "stdout",
     "output_type": "stream",
     "text": [
      "RMSE Score: 0.9459230680178936\n"
     ]
    },
    {
     "data": {
      "application/vnd.jupyter.widget-view+json": {
       "model_id": "408604c9bd8a4f1fa51a1cb3127048b2",
       "version_major": 2,
       "version_minor": 0
      },
      "text/plain": [
       "  0%|          | 0/2500 [00:00<?, ?it/s]"
      ]
     },
     "metadata": {},
     "output_type": "display_data"
    },
    {
     "name": "stdout",
     "output_type": "stream",
     "text": [
      "12: Current loss in training 0.05179123833626509\n"
     ]
    },
    {
     "data": {
      "application/vnd.jupyter.widget-view+json": {
       "model_id": "eafdb2c8d2f940b0871342f649b96a13",
       "version_major": 2,
       "version_minor": 0
      },
      "text/plain": [
       "  0%|          | 0/1 [00:00<?, ?it/s]"
      ]
     },
     "metadata": {},
     "output_type": "display_data"
    },
    {
     "name": "stdout",
     "output_type": "stream",
     "text": [
      "RMSE Score: 0.9411016129859411\n"
     ]
    },
    {
     "data": {
      "application/vnd.jupyter.widget-view+json": {
       "model_id": "cd93ce5d23c14f479adeebdc9685948e",
       "version_major": 2,
       "version_minor": 0
      },
      "text/plain": [
       "  0%|          | 0/2500 [00:00<?, ?it/s]"
      ]
     },
     "metadata": {},
     "output_type": "display_data"
    },
    {
     "name": "stdout",
     "output_type": "stream",
     "text": [
      "13: Current loss in training 0.051448387787491084\n"
     ]
    },
    {
     "data": {
      "application/vnd.jupyter.widget-view+json": {
       "model_id": "59013f71171a4c8b85e60ea8a0e03ac4",
       "version_major": 2,
       "version_minor": 0
      },
      "text/plain": [
       "  0%|          | 0/1 [00:00<?, ?it/s]"
      ]
     },
     "metadata": {},
     "output_type": "display_data"
    },
    {
     "name": "stdout",
     "output_type": "stream",
     "text": [
      "RMSE Score: 0.9410927332786371\n"
     ]
    },
    {
     "data": {
      "application/vnd.jupyter.widget-view+json": {
       "model_id": "5d08e7f2da424bcaaa8f259542884aad",
       "version_major": 2,
       "version_minor": 0
      },
      "text/plain": [
       "  0%|          | 0/2500 [00:00<?, ?it/s]"
      ]
     },
     "metadata": {},
     "output_type": "display_data"
    },
    {
     "name": "stdout",
     "output_type": "stream",
     "text": [
      "14: Current loss in training 0.05074470082297921\n"
     ]
    },
    {
     "data": {
      "application/vnd.jupyter.widget-view+json": {
       "model_id": "dce71db84a614fc18b0c888b8bad5ab3",
       "version_major": 2,
       "version_minor": 0
      },
      "text/plain": [
       "  0%|          | 0/1 [00:00<?, ?it/s]"
      ]
     },
     "metadata": {},
     "output_type": "display_data"
    },
    {
     "name": "stdout",
     "output_type": "stream",
     "text": [
      "RMSE Score: 0.9393503515715279\n"
     ]
    },
    {
     "data": {
      "application/vnd.jupyter.widget-view+json": {
       "model_id": "e2bdade3ae2a4ff290a10fc8ae2b325a",
       "version_major": 2,
       "version_minor": 0
      },
      "text/plain": [
       "  0%|          | 0/2500 [00:00<?, ?it/s]"
      ]
     },
     "metadata": {},
     "output_type": "display_data"
    },
    {
     "name": "stdout",
     "output_type": "stream",
     "text": [
      "15: Current loss in training 0.05031380203403533\n"
     ]
    },
    {
     "data": {
      "application/vnd.jupyter.widget-view+json": {
       "model_id": "207b61c1a28d41f19eb0c131fccab452",
       "version_major": 2,
       "version_minor": 0
      },
      "text/plain": [
       "  0%|          | 0/1 [00:00<?, ?it/s]"
      ]
     },
     "metadata": {},
     "output_type": "display_data"
    },
    {
     "name": "stdout",
     "output_type": "stream",
     "text": [
      "RMSE Score: 0.9365702193833074\n"
     ]
    },
    {
     "data": {
      "application/vnd.jupyter.widget-view+json": {
       "model_id": "dc1620d6aab14630978f2633c5804961",
       "version_major": 2,
       "version_minor": 0
      },
      "text/plain": [
       "  0%|          | 0/2500 [00:00<?, ?it/s]"
      ]
     },
     "metadata": {},
     "output_type": "display_data"
    },
    {
     "name": "stdout",
     "output_type": "stream",
     "text": [
      "16: Current loss in training 0.04977239542454481\n"
     ]
    },
    {
     "data": {
      "application/vnd.jupyter.widget-view+json": {
       "model_id": "c465265339ec49d8bc8eadc44c766aa8",
       "version_major": 2,
       "version_minor": 0
      },
      "text/plain": [
       "  0%|          | 0/1 [00:00<?, ?it/s]"
      ]
     },
     "metadata": {},
     "output_type": "display_data"
    },
    {
     "name": "stdout",
     "output_type": "stream",
     "text": [
      "RMSE Score: 0.9370018450735208\n"
     ]
    },
    {
     "data": {
      "application/vnd.jupyter.widget-view+json": {
       "model_id": "10a644d4d03d4d83a740c70da0b7c104",
       "version_major": 2,
       "version_minor": 0
      },
      "text/plain": [
       "  0%|          | 0/2500 [00:00<?, ?it/s]"
      ]
     },
     "metadata": {},
     "output_type": "display_data"
    },
    {
     "name": "stdout",
     "output_type": "stream",
     "text": [
      "17: Current loss in training 0.04966412891894579\n"
     ]
    },
    {
     "data": {
      "application/vnd.jupyter.widget-view+json": {
       "model_id": "94dedf746e5947bf91df82f691a3dae1",
       "version_major": 2,
       "version_minor": 0
      },
      "text/plain": [
       "  0%|          | 0/1 [00:00<?, ?it/s]"
      ]
     },
     "metadata": {},
     "output_type": "display_data"
    },
    {
     "name": "stdout",
     "output_type": "stream",
     "text": [
      "RMSE Score: 0.9356243315490682\n"
     ]
    },
    {
     "data": {
      "application/vnd.jupyter.widget-view+json": {
       "model_id": "8ad2cac1f3d942199ffdd62a97b927f4",
       "version_major": 2,
       "version_minor": 0
      },
      "text/plain": [
       "  0%|          | 0/2500 [00:00<?, ?it/s]"
      ]
     },
     "metadata": {},
     "output_type": "display_data"
    },
    {
     "name": "stdout",
     "output_type": "stream",
     "text": [
      "18: Current loss in training 0.049212784990295765\n"
     ]
    },
    {
     "data": {
      "application/vnd.jupyter.widget-view+json": {
       "model_id": "83c7f2c38a4e4e98b07a1bad559c5455",
       "version_major": 2,
       "version_minor": 0
      },
      "text/plain": [
       "  0%|          | 0/1 [00:00<?, ?it/s]"
      ]
     },
     "metadata": {},
     "output_type": "display_data"
    },
    {
     "name": "stdout",
     "output_type": "stream",
     "text": [
      "RMSE Score: 0.9344305361239126\n"
     ]
    },
    {
     "data": {
      "application/vnd.jupyter.widget-view+json": {
       "model_id": "d6314854d7974061a42554b6bf547c3e",
       "version_major": 2,
       "version_minor": 0
      },
      "text/plain": [
       "  0%|          | 0/2500 [00:00<?, ?it/s]"
      ]
     },
     "metadata": {},
     "output_type": "display_data"
    },
    {
     "name": "stdout",
     "output_type": "stream",
     "text": [
      "19: Current loss in training 0.048836793613433835\n"
     ]
    },
    {
     "data": {
      "application/vnd.jupyter.widget-view+json": {
       "model_id": "66db81fd18044893a314a5a7dce867c6",
       "version_major": 2,
       "version_minor": 0
      },
      "text/plain": [
       "  0%|          | 0/1 [00:00<?, ?it/s]"
      ]
     },
     "metadata": {},
     "output_type": "display_data"
    },
    {
     "name": "stdout",
     "output_type": "stream",
     "text": [
      "RMSE Score: 0.9314010606287636\n"
     ]
    },
    {
     "data": {
      "application/vnd.jupyter.widget-view+json": {
       "model_id": "ae4dd3829eae4fecaa3d98061cf545cb",
       "version_major": 2,
       "version_minor": 0
      },
      "text/plain": [
       "  0%|          | 0/2500 [00:00<?, ?it/s]"
      ]
     },
     "metadata": {},
     "output_type": "display_data"
    },
    {
     "name": "stdout",
     "output_type": "stream",
     "text": [
      "20: Current loss in training 0.04843518213108182\n"
     ]
    },
    {
     "data": {
      "application/vnd.jupyter.widget-view+json": {
       "model_id": "463438ee131c4f9396f8961cce68e365",
       "version_major": 2,
       "version_minor": 0
      },
      "text/plain": [
       "  0%|          | 0/1 [00:00<?, ?it/s]"
      ]
     },
     "metadata": {},
     "output_type": "display_data"
    },
    {
     "name": "stdout",
     "output_type": "stream",
     "text": [
      "RMSE Score: 0.931949128448128\n"
     ]
    },
    {
     "data": {
      "application/vnd.jupyter.widget-view+json": {
       "model_id": "69904bd6993c49529c6233b920e43390",
       "version_major": 2,
       "version_minor": 0
      },
      "text/plain": [
       "  0%|          | 0/2500 [00:00<?, ?it/s]"
      ]
     },
     "metadata": {},
     "output_type": "display_data"
    },
    {
     "name": "stdout",
     "output_type": "stream",
     "text": [
      "21: Current loss in training 0.048114689841866495\n"
     ]
    },
    {
     "data": {
      "application/vnd.jupyter.widget-view+json": {
       "model_id": "9a6119191a274867897064c6fca7ba33",
       "version_major": 2,
       "version_minor": 0
      },
      "text/plain": [
       "  0%|          | 0/1 [00:00<?, ?it/s]"
      ]
     },
     "metadata": {},
     "output_type": "display_data"
    },
    {
     "name": "stdout",
     "output_type": "stream",
     "text": [
      "RMSE Score: 0.9317156888489457\n"
     ]
    },
    {
     "data": {
      "application/vnd.jupyter.widget-view+json": {
       "model_id": "8a8203b4dc76436a93b18cf72f40a0c2",
       "version_major": 2,
       "version_minor": 0
      },
      "text/plain": [
       "  0%|          | 0/2500 [00:00<?, ?it/s]"
      ]
     },
     "metadata": {},
     "output_type": "display_data"
    },
    {
     "name": "stdout",
     "output_type": "stream",
     "text": [
      "22: Current loss in training 0.04797147209122777\n"
     ]
    },
    {
     "data": {
      "application/vnd.jupyter.widget-view+json": {
       "model_id": "138e23f05df546d69dcf88bbf1fb4df6",
       "version_major": 2,
       "version_minor": 0
      },
      "text/plain": [
       "  0%|          | 0/1 [00:00<?, ?it/s]"
      ]
     },
     "metadata": {},
     "output_type": "display_data"
    },
    {
     "name": "stdout",
     "output_type": "stream",
     "text": [
      "RMSE Score: 0.9313551420352678\n"
     ]
    },
    {
     "data": {
      "application/vnd.jupyter.widget-view+json": {
       "model_id": "7903dfcf3a1240a18e9128a279cf3aff",
       "version_major": 2,
       "version_minor": 0
      },
      "text/plain": [
       "  0%|          | 0/2500 [00:00<?, ?it/s]"
      ]
     },
     "metadata": {},
     "output_type": "display_data"
    },
    {
     "name": "stdout",
     "output_type": "stream",
     "text": [
      "23: Current loss in training 0.04743527876883745\n"
     ]
    },
    {
     "data": {
      "application/vnd.jupyter.widget-view+json": {
       "model_id": "fe00ca0600dd4d2abf9b4ad9f697eeb4",
       "version_major": 2,
       "version_minor": 0
      },
      "text/plain": [
       "  0%|          | 0/1 [00:00<?, ?it/s]"
      ]
     },
     "metadata": {},
     "output_type": "display_data"
    },
    {
     "name": "stdout",
     "output_type": "stream",
     "text": [
      "RMSE Score: 0.9296305739258838\n"
     ]
    },
    {
     "data": {
      "application/vnd.jupyter.widget-view+json": {
       "model_id": "b52e4c2b49384fcbbab059b6a783e1c8",
       "version_major": 2,
       "version_minor": 0
      },
      "text/plain": [
       "  0%|          | 0/2500 [00:00<?, ?it/s]"
      ]
     },
     "metadata": {},
     "output_type": "display_data"
    },
    {
     "name": "stdout",
     "output_type": "stream",
     "text": [
      "24: Current loss in training 0.04702040317952633\n"
     ]
    },
    {
     "data": {
      "application/vnd.jupyter.widget-view+json": {
       "model_id": "02ee921b247c4706ac6f8a598f63cdd4",
       "version_major": 2,
       "version_minor": 0
      },
      "text/plain": [
       "  0%|          | 0/1 [00:00<?, ?it/s]"
      ]
     },
     "metadata": {},
     "output_type": "display_data"
    },
    {
     "name": "stdout",
     "output_type": "stream",
     "text": [
      "RMSE Score: 0.9308537749277576\n"
     ]
    },
    {
     "data": {
      "application/vnd.jupyter.widget-view+json": {
       "model_id": "9689dbb9564e455a82ab40a426c97bba",
       "version_major": 2,
       "version_minor": 0
      },
      "text/plain": [
       "  0%|          | 0/2500 [00:00<?, ?it/s]"
      ]
     },
     "metadata": {},
     "output_type": "display_data"
    },
    {
     "name": "stdout",
     "output_type": "stream",
     "text": [
      "25: Current loss in training 0.04679119113460183\n"
     ]
    },
    {
     "data": {
      "application/vnd.jupyter.widget-view+json": {
       "model_id": "12d562afbd864a948e9ea5b44115fb2b",
       "version_major": 2,
       "version_minor": 0
      },
      "text/plain": [
       "  0%|          | 0/1 [00:00<?, ?it/s]"
      ]
     },
     "metadata": {},
     "output_type": "display_data"
    },
    {
     "name": "stdout",
     "output_type": "stream",
     "text": [
      "RMSE Score: 0.9290866253622209\n"
     ]
    },
    {
     "data": {
      "application/vnd.jupyter.widget-view+json": {
       "model_id": "3b01613adffe4f47ba3f052020684b49",
       "version_major": 2,
       "version_minor": 0
      },
      "text/plain": [
       "  0%|          | 0/2500 [00:00<?, ?it/s]"
      ]
     },
     "metadata": {},
     "output_type": "display_data"
    },
    {
     "name": "stdout",
     "output_type": "stream",
     "text": [
      "26: Current loss in training 0.04646369729712606\n"
     ]
    },
    {
     "data": {
      "application/vnd.jupyter.widget-view+json": {
       "model_id": "187da2c7f45d4198a5e93e47a0eaf0cc",
       "version_major": 2,
       "version_minor": 0
      },
      "text/plain": [
       "  0%|          | 0/1 [00:00<?, ?it/s]"
      ]
     },
     "metadata": {},
     "output_type": "display_data"
    },
    {
     "name": "stdout",
     "output_type": "stream",
     "text": [
      "RMSE Score: 0.9324422239256511\n"
     ]
    },
    {
     "data": {
      "application/vnd.jupyter.widget-view+json": {
       "model_id": "e9568c7bf04a4cad8bc7c54d29a8ee4e",
       "version_major": 2,
       "version_minor": 0
      },
      "text/plain": [
       "  0%|          | 0/2500 [00:00<?, ?it/s]"
      ]
     },
     "metadata": {},
     "output_type": "display_data"
    },
    {
     "name": "stdout",
     "output_type": "stream",
     "text": [
      "27: Current loss in training 0.046345261772722\n"
     ]
    },
    {
     "data": {
      "application/vnd.jupyter.widget-view+json": {
       "model_id": "d133cb59e99749489231b24e356487df",
       "version_major": 2,
       "version_minor": 0
      },
      "text/plain": [
       "  0%|          | 0/1 [00:00<?, ?it/s]"
      ]
     },
     "metadata": {},
     "output_type": "display_data"
    },
    {
     "name": "stdout",
     "output_type": "stream",
     "text": [
      "RMSE Score: 0.9273785036876308\n"
     ]
    },
    {
     "data": {
      "application/vnd.jupyter.widget-view+json": {
       "model_id": "278a8d0d6ce8414ea6e3c96cd95bca48",
       "version_major": 2,
       "version_minor": 0
      },
      "text/plain": [
       "  0%|          | 0/2500 [00:00<?, ?it/s]"
      ]
     },
     "metadata": {},
     "output_type": "display_data"
    },
    {
     "name": "stdout",
     "output_type": "stream",
     "text": [
      "28: Current loss in training 0.0459206248216331\n"
     ]
    },
    {
     "data": {
      "application/vnd.jupyter.widget-view+json": {
       "model_id": "3a8e28f271e7430199914d060d00051c",
       "version_major": 2,
       "version_minor": 0
      },
      "text/plain": [
       "  0%|          | 0/1 [00:00<?, ?it/s]"
      ]
     },
     "metadata": {},
     "output_type": "display_data"
    },
    {
     "name": "stdout",
     "output_type": "stream",
     "text": [
      "RMSE Score: 0.9286818793646057\n"
     ]
    },
    {
     "data": {
      "application/vnd.jupyter.widget-view+json": {
       "model_id": "1a6081f566494b8983305d66213d66f0",
       "version_major": 2,
       "version_minor": 0
      },
      "text/plain": [
       "  0%|          | 0/2500 [00:00<?, ?it/s]"
      ]
     },
     "metadata": {},
     "output_type": "display_data"
    },
    {
     "name": "stdout",
     "output_type": "stream",
     "text": [
      "29: Current loss in training 0.045788531848043205\n"
     ]
    },
    {
     "data": {
      "application/vnd.jupyter.widget-view+json": {
       "model_id": "09feaa8fe35b450689dcc414a6b05275",
       "version_major": 2,
       "version_minor": 0
      },
      "text/plain": [
       "  0%|          | 0/1 [00:00<?, ?it/s]"
      ]
     },
     "metadata": {},
     "output_type": "display_data"
    },
    {
     "name": "stdout",
     "output_type": "stream",
     "text": [
      "RMSE Score: 0.9269202681003669\n"
     ]
    },
    {
     "data": {
      "application/vnd.jupyter.widget-view+json": {
       "model_id": "e178981841a14746a9540bd6c56a560f",
       "version_major": 2,
       "version_minor": 0
      },
      "text/plain": [
       "  0%|          | 0/2500 [00:00<?, ?it/s]"
      ]
     },
     "metadata": {},
     "output_type": "display_data"
    },
    {
     "name": "stdout",
     "output_type": "stream",
     "text": [
      "30: Current loss in training 0.04548644805140793\n"
     ]
    },
    {
     "data": {
      "application/vnd.jupyter.widget-view+json": {
       "model_id": "41255912983e41de9c59ed069c371858",
       "version_major": 2,
       "version_minor": 0
      },
      "text/plain": [
       "  0%|          | 0/1 [00:00<?, ?it/s]"
      ]
     },
     "metadata": {},
     "output_type": "display_data"
    },
    {
     "name": "stdout",
     "output_type": "stream",
     "text": [
      "RMSE Score: 0.9258647604984396\n"
     ]
    },
    {
     "data": {
      "application/vnd.jupyter.widget-view+json": {
       "model_id": "66b1056b74c54997a0218945ccf7ca1d",
       "version_major": 2,
       "version_minor": 0
      },
      "text/plain": [
       "  0%|          | 0/2500 [00:00<?, ?it/s]"
      ]
     },
     "metadata": {},
     "output_type": "display_data"
    },
    {
     "name": "stdout",
     "output_type": "stream",
     "text": [
      "31: Current loss in training 0.04512299887835979\n"
     ]
    },
    {
     "data": {
      "application/vnd.jupyter.widget-view+json": {
       "model_id": "f864cd21761748268793d56b82d8061f",
       "version_major": 2,
       "version_minor": 0
      },
      "text/plain": [
       "  0%|          | 0/1 [00:00<?, ?it/s]"
      ]
     },
     "metadata": {},
     "output_type": "display_data"
    },
    {
     "name": "stdout",
     "output_type": "stream",
     "text": [
      "RMSE Score: 0.9270452427913786\n"
     ]
    },
    {
     "data": {
      "application/vnd.jupyter.widget-view+json": {
       "model_id": "59d45ae18e82434abb67d246e1e71f80",
       "version_major": 2,
       "version_minor": 0
      },
      "text/plain": [
       "  0%|          | 0/2500 [00:00<?, ?it/s]"
      ]
     },
     "metadata": {},
     "output_type": "display_data"
    },
    {
     "name": "stdout",
     "output_type": "stream",
     "text": [
      "32: Current loss in training 0.04483475595936179\n"
     ]
    },
    {
     "data": {
      "application/vnd.jupyter.widget-view+json": {
       "model_id": "8c6163ecd1a44518a85857fa8482bc83",
       "version_major": 2,
       "version_minor": 0
      },
      "text/plain": [
       "  0%|          | 0/1 [00:00<?, ?it/s]"
      ]
     },
     "metadata": {},
     "output_type": "display_data"
    },
    {
     "name": "stdout",
     "output_type": "stream",
     "text": [
      "RMSE Score: 0.9264659863310728\n"
     ]
    },
    {
     "data": {
      "application/vnd.jupyter.widget-view+json": {
       "model_id": "607221b00891418c977cb1fca72c0194",
       "version_major": 2,
       "version_minor": 0
      },
      "text/plain": [
       "  0%|          | 0/2500 [00:00<?, ?it/s]"
      ]
     },
     "metadata": {},
     "output_type": "display_data"
    },
    {
     "name": "stdout",
     "output_type": "stream",
     "text": [
      "33: Current loss in training 0.04453373244330287\n"
     ]
    },
    {
     "data": {
      "application/vnd.jupyter.widget-view+json": {
       "model_id": "03855f6f07aa436fa35c5b4721ad46e7",
       "version_major": 2,
       "version_minor": 0
      },
      "text/plain": [
       "  0%|          | 0/1 [00:00<?, ?it/s]"
      ]
     },
     "metadata": {},
     "output_type": "display_data"
    },
    {
     "name": "stdout",
     "output_type": "stream",
     "text": [
      "RMSE Score: 0.9273257802350566\n"
     ]
    },
    {
     "data": {
      "application/vnd.jupyter.widget-view+json": {
       "model_id": "88d4f6a6fd4b4bfa9459b5b99312a384",
       "version_major": 2,
       "version_minor": 0
      },
      "text/plain": [
       "  0%|          | 0/2500 [00:00<?, ?it/s]"
      ]
     },
     "metadata": {},
     "output_type": "display_data"
    },
    {
     "name": "stdout",
     "output_type": "stream",
     "text": [
      "34: Current loss in training 0.044242083839699624\n"
     ]
    },
    {
     "data": {
      "application/vnd.jupyter.widget-view+json": {
       "model_id": "291117ed875143839a914a53cc96b5be",
       "version_major": 2,
       "version_minor": 0
      },
      "text/plain": [
       "  0%|          | 0/1 [00:00<?, ?it/s]"
      ]
     },
     "metadata": {},
     "output_type": "display_data"
    },
    {
     "name": "stdout",
     "output_type": "stream",
     "text": [
      "RMSE Score: 0.929156001157824\n"
     ]
    },
    {
     "data": {
      "application/vnd.jupyter.widget-view+json": {
       "model_id": "12c272896d434fa29aca9264e515479f",
       "version_major": 2,
       "version_minor": 0
      },
      "text/plain": [
       "  0%|          | 0/2500 [00:00<?, ?it/s]"
      ]
     },
     "metadata": {},
     "output_type": "display_data"
    },
    {
     "name": "stdout",
     "output_type": "stream",
     "text": [
      "35: Current loss in training 0.04426339259147644\n"
     ]
    },
    {
     "data": {
      "application/vnd.jupyter.widget-view+json": {
       "model_id": "9506b22acdf349a3b980b9483fed3335",
       "version_major": 2,
       "version_minor": 0
      },
      "text/plain": [
       "  0%|          | 0/1 [00:00<?, ?it/s]"
      ]
     },
     "metadata": {},
     "output_type": "display_data"
    },
    {
     "name": "stdout",
     "output_type": "stream",
     "text": [
      "RMSE Score: 0.9283086146848297\n"
     ]
    },
    {
     "data": {
      "application/vnd.jupyter.widget-view+json": {
       "model_id": "7b218dc2dc17436ca85ac24cb7da0e2e",
       "version_major": 2,
       "version_minor": 0
      },
      "text/plain": [
       "  0%|          | 0/2500 [00:00<?, ?it/s]"
      ]
     },
     "metadata": {},
     "output_type": "display_data"
    },
    {
     "name": "stdout",
     "output_type": "stream",
     "text": [
      "36: Current loss in training 0.04392811592891813\n"
     ]
    },
    {
     "data": {
      "application/vnd.jupyter.widget-view+json": {
       "model_id": "12e7784c9d1644f3b45f16f21082dbdc",
       "version_major": 2,
       "version_minor": 0
      },
      "text/plain": [
       "  0%|          | 0/1 [00:00<?, ?it/s]"
      ]
     },
     "metadata": {},
     "output_type": "display_data"
    },
    {
     "name": "stdout",
     "output_type": "stream",
     "text": [
      "RMSE Score: 0.9339532096123675\n"
     ]
    },
    {
     "data": {
      "application/vnd.jupyter.widget-view+json": {
       "model_id": "ab940b2c96704e1d9ba2ebe166dc06c9",
       "version_major": 2,
       "version_minor": 0
      },
      "text/plain": [
       "  0%|          | 0/2500 [00:00<?, ?it/s]"
      ]
     },
     "metadata": {},
     "output_type": "display_data"
    },
    {
     "name": "stdout",
     "output_type": "stream",
     "text": [
      "37: Current loss in training 0.04374562946520746\n"
     ]
    },
    {
     "data": {
      "application/vnd.jupyter.widget-view+json": {
       "model_id": "b5db12130ffe4c6aa180a2035c1223ff",
       "version_major": 2,
       "version_minor": 0
      },
      "text/plain": [
       "  0%|          | 0/1 [00:00<?, ?it/s]"
      ]
     },
     "metadata": {},
     "output_type": "display_data"
    },
    {
     "name": "stdout",
     "output_type": "stream",
     "text": [
      "RMSE Score: 0.9279208335248306\n"
     ]
    },
    {
     "data": {
      "application/vnd.jupyter.widget-view+json": {
       "model_id": "89492c0eaaf04caa8c35270737cd6c35",
       "version_major": 2,
       "version_minor": 0
      },
      "text/plain": [
       "  0%|          | 0/2500 [00:00<?, ?it/s]"
      ]
     },
     "metadata": {},
     "output_type": "display_data"
    },
    {
     "name": "stdout",
     "output_type": "stream",
     "text": [
      "38: Current loss in training 0.04327906314097345\n"
     ]
    },
    {
     "data": {
      "application/vnd.jupyter.widget-view+json": {
       "model_id": "8095b29e94054c83980556b90e843457",
       "version_major": 2,
       "version_minor": 0
      },
      "text/plain": [
       "  0%|          | 0/1 [00:00<?, ?it/s]"
      ]
     },
     "metadata": {},
     "output_type": "display_data"
    },
    {
     "name": "stdout",
     "output_type": "stream",
     "text": [
      "RMSE Score: 0.9282049145991023\n"
     ]
    },
    {
     "data": {
      "application/vnd.jupyter.widget-view+json": {
       "model_id": "4cfc855e726d4fb5a8f35a4f67ee7fba",
       "version_major": 2,
       "version_minor": 0
      },
      "text/plain": [
       "  0%|          | 0/2500 [00:00<?, ?it/s]"
      ]
     },
     "metadata": {},
     "output_type": "display_data"
    },
    {
     "name": "stdout",
     "output_type": "stream",
     "text": [
      "39: Current loss in training 0.043280678112804886\n"
     ]
    },
    {
     "data": {
      "application/vnd.jupyter.widget-view+json": {
       "model_id": "1cbd7b9c722f4d6c8aedf7fbbe64dfbf",
       "version_major": 2,
       "version_minor": 0
      },
      "text/plain": [
       "  0%|          | 0/1 [00:00<?, ?it/s]"
      ]
     },
     "metadata": {},
     "output_type": "display_data"
    },
    {
     "name": "stdout",
     "output_type": "stream",
     "text": [
      "RMSE Score: 0.9282656260259431\n"
     ]
    },
    {
     "data": {
      "application/vnd.jupyter.widget-view+json": {
       "model_id": "e3fe06e0c5de451f9ade2d29a2e873b7",
       "version_major": 2,
       "version_minor": 0
      },
      "text/plain": [
       "  0%|          | 0/1 [00:00<?, ?it/s]"
      ]
     },
     "metadata": {},
     "output_type": "display_data"
    },
    {
     "name": "stdout",
     "output_type": "stream",
     "text": [
      "RMSE Score: 0.9282656260259431\n"
     ]
    }
   ],
   "source": [
    "if not os.path.exists('ml100k-exp-full+mean+std-batch.pt'):\n",
    "    for i in range(40):\n",
    "        l = epoch(model, loss_f, optimizer, dl_train, device)\n",
    "        print(f'{i}: Current loss in training {l}')\n",
    "        y_pred = predict(model, dl_test, device)\n",
    "        print(f'RMSE Score: {mean_squared_error(test[\"rating\"].to_numpy(), y_pred * 4 + 1, squared=False)}')\n",
    "    torch.save(model.state_dict(), 'ml100k-exp-full+mean+std-batch.pt')\n",
    "else:\n",
    "    model.load_state_dict(torch.load('ml100k-exp-full+mean+std-batch.pt'))\n",
    "\n",
    "\n",
    "y_pred = predict(model, dl_test, device)\n",
    "\n",
    "print(f'RMSE Score: {mean_squared_error(test[\"rating\"].to_numpy(), y_pred * 4 + 1, squared=False)}')"
   ]
  },
  {
   "cell_type": "code",
   "execution_count": null,
   "id": "fff29382-fe3f-4973-bcd8-2c93807e5ea3",
   "metadata": {},
   "outputs": [],
   "source": []
  }
 ],
 "metadata": {
  "kernelspec": {
   "display_name": "Python 3 (ipykernel)",
   "language": "python",
   "name": "python3"
  },
  "language_info": {
   "codemirror_mode": {
    "name": "ipython",
    "version": 3
   },
   "file_extension": ".py",
   "mimetype": "text/x-python",
   "name": "python",
   "nbconvert_exporter": "python",
   "pygments_lexer": "ipython3",
   "version": "3.10.10"
  }
 },
 "nbformat": 4,
 "nbformat_minor": 5
}
