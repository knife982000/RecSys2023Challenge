{
 "cells": [
  {
   "cell_type": "code",
   "execution_count": 1,
   "id": "e2e9b4c9-ee83-4c4b-bf90-68d9e046ab1f",
   "metadata": {
    "tags": []
   },
   "outputs": [
    {
     "data": {
      "text/plain": [
       "<torch._C.Generator at 0x207bafe9910>"
      ]
     },
     "execution_count": 1,
     "metadata": {},
     "output_type": "execute_result"
    }
   ],
   "source": [
    "import torch\n",
    "from torch.utils.data.dataloader import DataLoader, Dataset\n",
    "from tqdm.auto import tqdm\n",
    "import polars as pl\n",
    "import numpy as np\n",
    "\n",
    "torch.manual_seed(42)"
   ]
  },
  {
   "cell_type": "code",
   "execution_count": 2,
   "id": "9634c558-1faf-40d3-9b34-55d3da602c98",
   "metadata": {
    "tags": []
   },
   "outputs": [],
   "source": [
    "train = pl.read_csv('train.csv')\n",
    "test = pl.read_csv('test.csv')"
   ]
  },
  {
   "cell_type": "code",
   "execution_count": 3,
   "id": "ecc8a225-9e1c-468e-af53-ddd7cb6418ac",
   "metadata": {
    "tags": []
   },
   "outputs": [],
   "source": [
    "class RecsysDataset(Dataset):\n",
    "    \n",
    "    def __init__(self, df, cat=None, cat_max_val=None, num=None):\n",
    "        if cat is None:\n",
    "            self.cat = [f'f_{i}' for i in range(2, 42) if f'f_{i}' in df.columns]\n",
    "            self.cat_max_val = {x: df[x].max() + 1 for x in self.cat}\n",
    "            self.num = [f'f_{i}_click' for i in range(2, 42) if f'f_{i}' not in df.columns] +\\\n",
    "                        [f'f_{i}_inst' for i in range(2, 42) if f'f_{i}' not in df.columns] +\\\n",
    "                        [f'f_{i}' for i in range(42, 80)]\n",
    "        else:\n",
    "            self.cat = cat\n",
    "            self.cat_max_val = cat_max_val\n",
    "            self.num = num\n",
    "        self.ids_values = df['f_0'].to_numpy()#[:, np.newaxis]\n",
    "        self.cat_values = []\n",
    "        for c in self.cat:\n",
    "            self.cat_values.append(df[c].to_numpy().copy())#[:, np.newaxis])\n",
    "        self.num_values = df[self.num].to_numpy().astype(np.float32)\n",
    "        self.target = False\n",
    "        if 'is_clicked' in df.columns:\n",
    "            self.target = True\n",
    "            self.y = df[['is_clicked', 'is_installed']].to_numpy()\n",
    "    \n",
    "    def __getitem__(self, idx):\n",
    "        x = tuple(c[idx] for c in self.cat_values) + (self.num_values[idx, :],)\n",
    "        #x = tuple(torch.from_numpy(v) for v in x)\n",
    "        if self.target:\n",
    "            return x, self.y[idx, :]\n",
    "        return x\n",
    "                                                      \n",
    "    def __len__(self):\n",
    "        return self.num_values.shape[0]\n",
    "                                                    "
   ]
  },
  {
   "cell_type": "code",
   "execution_count": 4,
   "id": "6ac640d7-6b98-48f2-a99b-0bfb180e1dce",
   "metadata": {
    "tags": []
   },
   "outputs": [],
   "source": [
    "ds_train = RecsysDataset(train)\n",
    "ds_test = RecsysDataset(test, ds_train.cat, ds_train.cat_max_val, ds_train.num)"
   ]
  },
  {
   "cell_type": "code",
   "execution_count": 5,
   "id": "9f46a4de-0953-484a-8fca-f81dae2cde8f",
   "metadata": {
    "tags": []
   },
   "outputs": [
    {
     "data": {
      "text/plain": [
       "3485852"
      ]
     },
     "execution_count": 5,
     "metadata": {},
     "output_type": "execute_result"
    }
   ],
   "source": [
    "len(ds_train)"
   ]
  },
  {
   "cell_type": "code",
   "execution_count": 6,
   "id": "1e0d9c76-40d7-4666-99fa-ecc3a66d7fa9",
   "metadata": {
    "tags": []
   },
   "outputs": [
    {
     "data": {
      "text/plain": [
       "((125,\n",
       "  615,\n",
       "  5161,\n",
       "  9,\n",
       "  20,\n",
       "  327,\n",
       "  5789,\n",
       "  43,\n",
       "  899,\n",
       "  45,\n",
       "  33,\n",
       "  23,\n",
       "  array([ 2.62542069e-01,  2.19217807e-01,  2.19835490e-01,  2.17375889e-01,\n",
       "          2.77158558e-01,  2.16766149e-01,  2.11684540e-01,  2.31442660e-01,\n",
       "          2.87452847e-01,  2.19865441e-01,  2.19865441e-01,  2.19889849e-01,\n",
       "          2.19668910e-01,  2.19668910e-01,  2.19668910e-01,  2.19668910e-01,\n",
       "          1.48095220e-01,  1.48095220e-01,  2.21899375e-01,  3.15789223e-01,\n",
       "          2.45159000e-01,  2.77863532e-01,  2.10721895e-01,  2.19767764e-01,\n",
       "          2.16472372e-01,  2.19482780e-01,  2.15644464e-01,  2.18238115e-01,\n",
       "          1.97120577e-01,  1.77712277e-01,  1.74018294e-01,  1.52818143e-01,\n",
       "          1.83358669e-01,  1.88248664e-01,  1.65585548e-01,  2.05292925e-01,\n",
       "          1.24747545e-01,  1.78326860e-01,  1.78326860e-01,  1.78322211e-01,\n",
       "          1.74029246e-01,  1.74029246e-01,  1.74029246e-01,  1.74029246e-01,\n",
       "          1.13302715e-01,  1.13302715e-01,  1.56892523e-01,  1.82771131e-01,\n",
       "          1.84967339e-01,  1.88138857e-01,  1.70611158e-01,  1.77841768e-01,\n",
       "          1.76785350e-01,  1.73817888e-01,  1.71729147e-01,  1.73166588e-01,\n",
       "          5.61461374e-02,  1.15488447e-01, -2.87665818e-02, -3.19278277e-02,\n",
       "         -2.09474843e-02, -3.49870920e-02, -5.21310680e-02, -4.05787490e-02,\n",
       "          9.89237249e-01, -2.82259405e-01, -5.05417213e-02, -1.04387254e-01,\n",
       "          6.53084278e-01,  2.55410343e-01, -8.77991915e-02,  6.84768140e-01,\n",
       "         -3.46807063e-01, -5.51299229e-02, -6.85047964e-03, -1.02129959e-01,\n",
       "          2.89663449e-02,  1.36635289e-01, -2.30266545e-02,  5.80011867e-04,\n",
       "          2.05907494e-01, -6.57883584e-02, -1.17125146e-01, -1.96502060e-01,\n",
       "          5.53079247e-01,  2.00392938e+00,  8.14557433e-01,  8.79365742e-01,\n",
       "          3.08196872e-01,  1.45180494e-01,  1.59657851e-01, -1.40777016e-02,\n",
       "         -5.17825596e-02, -3.13425064e-02], dtype=float32)),\n",
       " array([0, 0], dtype=int64))"
      ]
     },
     "execution_count": 6,
     "metadata": {},
     "output_type": "execute_result"
    }
   ],
   "source": [
    "ds_train[0]"
   ]
  },
  {
   "cell_type": "code",
   "execution_count": 7,
   "id": "c1e4b6f3-95c9-4076-92ef-e45ca5c3c9db",
   "metadata": {
    "tags": []
   },
   "outputs": [
    {
     "data": {
      "text/html": [
       "<div><style>\n",
       ".dataframe > thead > tr > th,\n",
       ".dataframe > tbody > tr > td {\n",
       "  text-align: right;\n",
       "}\n",
       "</style>\n",
       "<small>shape: (5, 110)</small><table border=\"1\" class=\"dataframe\"><thead><tr><th>f_0</th><th>f_1</th><th>f_2</th><th>f_4</th><th>f_6</th><th>f_11</th><th>f_12</th><th>f_13</th><th>f_15</th><th>f_17</th><th>f_18</th><th>f_20</th><th>f_21</th><th>f_22</th><th>f_42</th><th>f_43</th><th>f_44</th><th>f_45</th><th>f_46</th><th>f_47</th><th>f_48</th><th>f_49</th><th>f_50</th><th>f_51</th><th>f_52</th><th>f_53</th><th>f_54</th><th>f_55</th><th>f_56</th><th>f_57</th><th>f_58</th><th>f_59</th><th>f_60</th><th>f_61</th><th>f_62</th><th>f_63</th><th>f_64</th><th>&hellip;</th><th>f_23_inst</th><th>f_24_click</th><th>f_24_inst</th><th>f_25_click</th><th>f_25_inst</th><th>f_26_click</th><th>f_26_inst</th><th>f_27_click</th><th>f_27_inst</th><th>f_28_click</th><th>f_28_inst</th><th>f_29_click</th><th>f_29_inst</th><th>f_30_click</th><th>f_30_inst</th><th>f_31_click</th><th>f_31_inst</th><th>f_32_click</th><th>f_32_inst</th><th>f_33_click</th><th>f_33_inst</th><th>f_34_click</th><th>f_34_inst</th><th>f_35_click</th><th>f_35_inst</th><th>f_36_click</th><th>f_36_inst</th><th>f_37_click</th><th>f_37_inst</th><th>f_38_click</th><th>f_38_inst</th><th>f_39_click</th><th>f_39_inst</th><th>f_40_click</th><th>f_40_inst</th><th>f_41_click</th><th>f_41_inst</th></tr><tr><td>i64</td><td>i64</td><td>i64</td><td>i64</td><td>i64</td><td>i64</td><td>i64</td><td>i64</td><td>i64</td><td>i64</td><td>i64</td><td>i64</td><td>i64</td><td>i64</td><td>f64</td><td>f64</td><td>f64</td><td>f64</td><td>f64</td><td>f64</td><td>f64</td><td>f64</td><td>f64</td><td>f64</td><td>f64</td><td>f64</td><td>f64</td><td>f64</td><td>f64</td><td>f64</td><td>f64</td><td>f64</td><td>f64</td><td>f64</td><td>f64</td><td>f64</td><td>f64</td><td>&hellip;</td><td>f64</td><td>f64</td><td>f64</td><td>f64</td><td>f64</td><td>f64</td><td>f64</td><td>f64</td><td>f64</td><td>f64</td><td>f64</td><td>f64</td><td>f64</td><td>f64</td><td>f64</td><td>f64</td><td>f64</td><td>f64</td><td>f64</td><td>f64</td><td>f64</td><td>f64</td><td>f64</td><td>f64</td><td>f64</td><td>f64</td><td>f64</td><td>f64</td><td>f64</td><td>f64</td><td>f64</td><td>f64</td><td>f64</td><td>f64</td><td>f64</td><td>f64</td><td>f64</td></tr></thead><tbody><tr><td>2541162</td><td>51</td><td>125</td><td>615</td><td>5161</td><td>9</td><td>20</td><td>327</td><td>5789</td><td>43</td><td>899</td><td>45</td><td>33</td><td>23</td><td>0.056146</td><td>0.115488</td><td>-0.028767</td><td>-0.031928</td><td>-0.020947</td><td>-0.034987</td><td>-0.052131</td><td>-0.040579</td><td>0.989237</td><td>-0.282259</td><td>-0.050542</td><td>-0.104387</td><td>0.653084</td><td>0.25541</td><td>-0.087799</td><td>0.684768</td><td>-0.346807</td><td>-0.05513</td><td>-0.00685</td><td>-0.10213</td><td>0.028966</td><td>0.136635</td><td>-0.023027</td><td>&hellip;</td><td>0.178327</td><td>0.219865</td><td>0.178327</td><td>0.21989</td><td>0.178322</td><td>0.219669</td><td>0.174029</td><td>0.219669</td><td>0.174029</td><td>0.219669</td><td>0.174029</td><td>0.219669</td><td>0.174029</td><td>0.148095</td><td>0.113303</td><td>0.148095</td><td>0.113303</td><td>0.221899</td><td>0.156893</td><td>0.315789</td><td>0.182771</td><td>0.245159</td><td>0.184967</td><td>0.277864</td><td>0.188139</td><td>0.210722</td><td>0.170611</td><td>0.219768</td><td>0.177842</td><td>0.216472</td><td>0.176785</td><td>0.219483</td><td>0.173818</td><td>0.215644</td><td>0.171729</td><td>0.218238</td><td>0.173167</td></tr><tr><td>2541260</td><td>49</td><td>135</td><td>632</td><td>5164</td><td>19</td><td>24</td><td>328</td><td>5500</td><td>48</td><td>900</td><td>54</td><td>32</td><td>23</td><td>-0.083989</td><td>-0.405498</td><td>-0.028767</td><td>-0.031928</td><td>-0.020947</td><td>-0.034987</td><td>-0.052131</td><td>-0.040579</td><td>-0.062163</td><td>0.839139</td><td>-0.125328</td><td>-0.104387</td><td>-0.14403</td><td>-0.021474</td><td>-0.170255</td><td>-0.082985</td><td>0.010644</td><td>-0.055284</td><td>-0.00685</td><td>-0.10213</td><td>-0.068463</td><td>-0.097453</td><td>-0.022173</td><td>&hellip;</td><td>0.178327</td><td>0.219865</td><td>0.178327</td><td>0.21989</td><td>0.178322</td><td>0.219669</td><td>0.174029</td><td>0.219669</td><td>0.174029</td><td>0.219669</td><td>0.174029</td><td>0.219669</td><td>0.174029</td><td>0.148095</td><td>0.113303</td><td>0.148095</td><td>0.113303</td><td>0.221899</td><td>0.156893</td><td>0.213572</td><td>0.173447</td><td>0.1919</td><td>0.16194</td><td>0.20007</td><td>0.169209</td><td>0.210722</td><td>0.170611</td><td>0.219768</td><td>0.177842</td><td>0.216472</td><td>0.176785</td><td>0.219483</td><td>0.173818</td><td>0.215644</td><td>0.171729</td><td>0.218238</td><td>0.173167</td></tr><tr><td>2541318</td><td>51</td><td>135</td><td>632</td><td>5164</td><td>22</td><td>22</td><td>325</td><td>5395</td><td>46</td><td>898</td><td>54</td><td>32</td><td>23</td><td>-0.100948</td><td>-0.405819</td><td>-0.028767</td><td>-0.031928</td><td>-0.020947</td><td>-0.034987</td><td>-0.052131</td><td>-0.040579</td><td>-0.062163</td><td>0.638127</td><td>-0.125328</td><td>-0.104387</td><td>-0.14403</td><td>-0.191865</td><td>-0.170255</td><td>-0.220084</td><td>0.00689</td><td>-0.05592</td><td>-0.00685</td><td>-0.075478</td><td>-0.045979</td><td>-0.097453</td><td>-0.021183</td><td>&hellip;</td><td>0.178327</td><td>0.219865</td><td>0.178327</td><td>0.21989</td><td>0.178322</td><td>0.219669</td><td>0.174029</td><td>0.219669</td><td>0.174029</td><td>0.219669</td><td>0.174029</td><td>0.219669</td><td>0.174029</td><td>0.148095</td><td>0.113303</td><td>0.148095</td><td>0.113303</td><td>0.221899</td><td>0.156893</td><td>0.213572</td><td>0.173447</td><td>0.1919</td><td>0.16194</td><td>0.20007</td><td>0.169209</td><td>0.210722</td><td>0.170611</td><td>0.219768</td><td>0.177842</td><td>0.216472</td><td>0.176785</td><td>0.219483</td><td>0.173818</td><td>0.215644</td><td>0.171729</td><td>0.218238</td><td>0.173167</td></tr><tr><td>2541770</td><td>64</td><td>115</td><td>600</td><td>4618</td><td>21</td><td>23</td><td>324</td><td>5631</td><td>47</td><td>900</td><td>53</td><td>33</td><td>23</td><td>0.077866</td><td>0.52032</td><td>-0.028767</td><td>-0.031928</td><td>-0.020947</td><td>-0.034987</td><td>-0.052131</td><td>-0.040579</td><td>-0.062163</td><td>-0.338632</td><td>-0.050542</td><td>0.033247</td><td>0.005429</td><td>-0.170566</td><td>-0.129027</td><td>-0.206374</td><td>-0.08047</td><td>-0.056814</td><td>-0.00685</td><td>-0.075478</td><td>-0.068463</td><td>0.312201</td><td>-0.023797</td><td>&hellip;</td><td>0.178327</td><td>0.219865</td><td>0.178327</td><td>0.21989</td><td>0.178322</td><td>0.219669</td><td>0.174029</td><td>0.219669</td><td>0.174029</td><td>0.219669</td><td>0.174029</td><td>0.219669</td><td>0.174029</td><td>0.284952</td><td>0.229542</td><td>0.285276</td><td>0.229644</td><td>0.21026</td><td>0.200825</td><td>0.213572</td><td>0.173447</td><td>0.245159</td><td>0.184967</td><td>0.277864</td><td>0.188139</td><td>0.210722</td><td>0.170611</td><td>0.219768</td><td>0.177842</td><td>0.216472</td><td>0.176785</td><td>0.219483</td><td>0.173818</td><td>0.215644</td><td>0.171729</td><td>0.218238</td><td>0.173167</td></tr><tr><td>2542002</td><td>62</td><td>135</td><td>631</td><td>5166</td><td>22</td><td>24</td><td>324</td><td>5330</td><td>48</td><td>899</td><td>54</td><td>32</td><td>23</td><td>-0.089047</td><td>-0.405613</td><td>-0.028767</td><td>-0.031928</td><td>-0.020947</td><td>-0.034987</td><td>-0.052131</td><td>-0.040579</td><td>-0.062163</td><td>0.318304</td><td>-0.125328</td><td>-0.104387</td><td>-0.14403</td><td>-0.191865</td><td>-0.170255</td><td>-0.220084</td><td>0.061718</td><td>-0.056104</td><td>-0.00685</td><td>-0.10213</td><td>-0.068463</td><td>-0.068192</td><td>-0.021414</td><td>&hellip;</td><td>0.178327</td><td>0.219865</td><td>0.178327</td><td>0.21989</td><td>0.178322</td><td>0.219669</td><td>0.174029</td><td>0.219669</td><td>0.174029</td><td>0.219669</td><td>0.174029</td><td>0.219669</td><td>0.174029</td><td>0.284952</td><td>0.229542</td><td>0.285276</td><td>0.229644</td><td>0.221899</td><td>0.156893</td><td>0.213572</td><td>0.173447</td><td>0.1919</td><td>0.16194</td><td>0.20007</td><td>0.169209</td><td>0.210722</td><td>0.170611</td><td>0.219768</td><td>0.177842</td><td>0.216472</td><td>0.176785</td><td>0.219483</td><td>0.173818</td><td>0.215644</td><td>0.171729</td><td>0.218238</td><td>0.173167</td></tr></tbody></table></div>"
      ],
      "text/plain": [
       "shape: (5, 110)\n",
       "┌─────────┬─────┬─────┬─────┬───┬────────────┬───────────┬────────────┬───────────┐\n",
       "│ f_0     ┆ f_1 ┆ f_2 ┆ f_4 ┆ … ┆ f_40_click ┆ f_40_inst ┆ f_41_click ┆ f_41_inst │\n",
       "│ ---     ┆ --- ┆ --- ┆ --- ┆   ┆ ---        ┆ ---       ┆ ---        ┆ ---       │\n",
       "│ i64     ┆ i64 ┆ i64 ┆ i64 ┆   ┆ f64        ┆ f64       ┆ f64        ┆ f64       │\n",
       "╞═════════╪═════╪═════╪═════╪═══╪════════════╪═══════════╪════════════╪═══════════╡\n",
       "│ 2541162 ┆ 51  ┆ 125 ┆ 615 ┆ … ┆ 0.215644   ┆ 0.171729  ┆ 0.218238   ┆ 0.173167  │\n",
       "│ 2541260 ┆ 49  ┆ 135 ┆ 632 ┆ … ┆ 0.215644   ┆ 0.171729  ┆ 0.218238   ┆ 0.173167  │\n",
       "│ 2541318 ┆ 51  ┆ 135 ┆ 632 ┆ … ┆ 0.215644   ┆ 0.171729  ┆ 0.218238   ┆ 0.173167  │\n",
       "│ 2541770 ┆ 64  ┆ 115 ┆ 600 ┆ … ┆ 0.215644   ┆ 0.171729  ┆ 0.218238   ┆ 0.173167  │\n",
       "│ 2542002 ┆ 62  ┆ 135 ┆ 631 ┆ … ┆ 0.215644   ┆ 0.171729  ┆ 0.218238   ┆ 0.173167  │\n",
       "└─────────┴─────┴─────┴─────┴───┴────────────┴───────────┴────────────┴───────────┘"
      ]
     },
     "execution_count": 7,
     "metadata": {},
     "output_type": "execute_result"
    }
   ],
   "source": [
    "train.head()"
   ]
  },
  {
   "cell_type": "code",
   "execution_count": 8,
   "id": "cbc5aefc-cec4-4db3-8467-045dc31f3e95",
   "metadata": {
    "tags": []
   },
   "outputs": [],
   "source": [
    "class EmbeddedFeatures(torch.nn.Module):\n",
    "    \n",
    "    def __init__(self, ds_train, dims=32):\n",
    "        super().__init__()\n",
    "        embs = []\n",
    "        for c in ds_train.cat:\n",
    "            m = ds_train.cat_max_val[c]\n",
    "            e = torch.nn.Embedding(m, dims)\n",
    "            embs.append(e)\n",
    "        self.embeddings = torch.nn.ModuleList(embs)\n",
    "        \n",
    "    def forward(self, cats):\n",
    "        embs = None\n",
    "        for c, e in zip(cats, self.embeddings):\n",
    "            if embs is None:\n",
    "                embs = e(c)\n",
    "            else:\n",
    "                embs += e(c)\n",
    "        embs /= len(cats)\n",
    "        return embs\n",
    "\n",
    "class DeepFeatures(torch.nn.Module):\n",
    "    \n",
    "    def __init__(self, ds_train, embs, depth=3, dims=32):\n",
    "        super().__init__()\n",
    "        self.embs = embs\n",
    "        num_dims = ds_train.num_values.shape[1]\n",
    "        #first \n",
    "        deep_list = [torch.nn.Linear(dims + num_dims, dims)]\n",
    "        for _ in range(1, depth):\n",
    "            deep_list.append(torch.nn.Linear(dims, dims))\n",
    "        self.deep = torch.nn.ModuleList(deep_list)\n",
    "        \n",
    "        \n",
    "    def forward(self, cats, nums, std=0.5):\n",
    "        embs = self.embs(cats)\n",
    "        x = torch.cat((embs, nums), dim=1)\n",
    "        if self.training:\n",
    "            x = x * (1 + std * torch.randn_like(x))\n",
    "        output = []\n",
    "        for l in self.deep:\n",
    "            x = l(x)\n",
    "            if self.training:\n",
    "                x = x * (1 + std * torch.randn_like(x))\n",
    "            output.append(x)\n",
    "            x = torch.nn.functional.leaky_relu(x)\n",
    "        return output\n",
    "    \n",
    "\n",
    "class DeepMF(torch.nn.Module):\n",
    "    \n",
    "    def __init__(self, ds_train, depth=3, dims=32):\n",
    "        super().__init__()\n",
    "        embds = EmbeddedFeatures(ds_train)\n",
    "        self.base = DeepFeatures(ds_train, embds, depth=3, dims=32)\n",
    "        self.click = DeepFeatures(ds_train, embds, depth=3, dims=32)\n",
    "        self.install = DeepFeatures(ds_train, embds, depth=3, dims=32)\n",
    "        self.multi = torch.nn.parameter.Parameter(torch.randn((1,1)))\n",
    "        self.att = torch.nn.parameter.Parameter(torch.randn((depth, 2)))\n",
    "        \n",
    "        \n",
    "    def forward(self, cats, nums):\n",
    "        base = self.base(cats, nums)\n",
    "        click = self.click(cats, nums)\n",
    "        install = self.install(cats, nums)\n",
    "        click_out = None\n",
    "        install_out = None\n",
    "        for e, (b, c, i) in enumerate(zip(base, click, install)):\n",
    "            c_v = torch.sum(b * c, dim=1, keepdim=True) * self.multi\n",
    "            i_v = torch.sum(b * i, dim=1, keepdim=True) * self.multi\n",
    "            if click_out is None:\n",
    "                click_out = c_v * self.att[e, 0]\n",
    "                install_out = i_v * self.att[e, 1]\n",
    "            else:\n",
    "                click_out += (c_v * self.att[e, 0])\n",
    "                install_out += (i_v  * self.att[e, 1])\n",
    "        out = torch.cat((click_out, install_out), dim=1)\n",
    "        return torch.nn.functional.sigmoid(out)"
   ]
  },
  {
   "cell_type": "code",
   "execution_count": 9,
   "id": "dbca12a7-157c-4a7a-8e0b-b297695f2fa2",
   "metadata": {},
   "outputs": [],
   "source": [
    "device = 'cuda'"
   ]
  },
  {
   "cell_type": "code",
   "execution_count": 10,
   "id": "acff8208-e7d3-4aee-8750-503246078735",
   "metadata": {
    "tags": []
   },
   "outputs": [],
   "source": [
    "model = DeepMF(ds_train).to(device)"
   ]
  },
  {
   "cell_type": "code",
   "execution_count": 11,
   "id": "1b753d7b-7be5-4c41-9efc-28de15483fc0",
   "metadata": {
    "tags": []
   },
   "outputs": [],
   "source": [
    "dl_train = DataLoader(ds_train, batch_size=1024, shuffle=True)\n",
    "dl_test = DataLoader(ds_test, batch_size=2048, shuffle=False)"
   ]
  },
  {
   "cell_type": "code",
   "execution_count": 12,
   "id": "2d34dda7-0907-4207-be94-727740202248",
   "metadata": {
    "tags": []
   },
   "outputs": [],
   "source": [
    "def epoch(model, loss_f, optimizer, dl_train, device=device):\n",
    "    loss = 0\n",
    "    for x, y in tqdm(dl_train):\n",
    "        optimizer.zero_grad()\n",
    "        cats = [c.to(device) for c in x[:-1]]\n",
    "        nums = x[-1].to(device)\n",
    "        y = y.float().to(device)\n",
    "        y_pred = model(cats, nums)\n",
    "        c_loss = loss_f(y_pred, y)\n",
    "        c_loss.backward()\n",
    "        optimizer.step()\n",
    "        loss += c_loss.cpu().item()\n",
    "    return loss / len(dl_train)"
   ]
  },
  {
   "cell_type": "code",
   "execution_count": 13,
   "id": "2741eef7-c76b-430f-83a5-e1e28103a773",
   "metadata": {
    "tags": []
   },
   "outputs": [],
   "source": [
    "def predict(model, dl_test, device=device):\n",
    "    preds = [] \n",
    "    with torch.no_grad():\n",
    "        for x in tqdm(dl_test):\n",
    "            cats = [c.to(device) for c in x[:-1]]\n",
    "            nums = x[-1].to(device)\n",
    "            y_pred = model(cats, nums).cpu().numpy()\n",
    "            preds.append(y_pred)\n",
    "    preds = np.concatenate(preds, axis=0)\n",
    "    return preds"
   ]
  },
  {
   "cell_type": "code",
   "execution_count": 14,
   "id": "882b5949-b251-4273-8ed5-39e0a4ab448b",
   "metadata": {
    "tags": []
   },
   "outputs": [],
   "source": [
    "loss_f = torch.nn.BCELoss()\n",
    "optimizer = torch.optim.RAdam(model.parameters())"
   ]
  },
  {
   "cell_type": "code",
   "execution_count": 15,
   "id": "565b0e1e-a57f-4e21-a7aa-ec92c34326ca",
   "metadata": {
    "tags": []
   },
   "outputs": [
    {
     "data": {
      "application/vnd.jupyter.widget-view+json": {
       "model_id": "ad47b643f67949c6b4a490dad41b8111",
       "version_major": 2,
       "version_minor": 0
      },
      "text/plain": [
       "  0%|          | 0/3405 [00:00<?, ?it/s]"
      ]
     },
     "metadata": {},
     "output_type": "display_data"
    },
    {
     "name": "stdout",
     "output_type": "stream",
     "text": [
      "0: Current loss in training 0.36439792068344207\n"
     ]
    },
    {
     "data": {
      "application/vnd.jupyter.widget-view+json": {
       "model_id": "d5d0c2fcb5144a0c917d55e1e3ecc4c8",
       "version_major": 2,
       "version_minor": 0
      },
      "text/plain": [
       "  0%|          | 0/3405 [00:00<?, ?it/s]"
      ]
     },
     "metadata": {},
     "output_type": "display_data"
    },
    {
     "name": "stdout",
     "output_type": "stream",
     "text": [
      "1: Current loss in training 0.3252088072103901\n"
     ]
    },
    {
     "data": {
      "application/vnd.jupyter.widget-view+json": {
       "model_id": "40a7a4b7bab24694845b34b534069010",
       "version_major": 2,
       "version_minor": 0
      },
      "text/plain": [
       "  0%|          | 0/3405 [00:00<?, ?it/s]"
      ]
     },
     "metadata": {},
     "output_type": "display_data"
    },
    {
     "name": "stdout",
     "output_type": "stream",
     "text": [
      "2: Current loss in training 0.3210477328860637\n"
     ]
    },
    {
     "data": {
      "application/vnd.jupyter.widget-view+json": {
       "model_id": "fca3b7fd14d145d39515ca08b8808a12",
       "version_major": 2,
       "version_minor": 0
      },
      "text/plain": [
       "  0%|          | 0/3405 [00:00<?, ?it/s]"
      ]
     },
     "metadata": {},
     "output_type": "display_data"
    },
    {
     "name": "stdout",
     "output_type": "stream",
     "text": [
      "3: Current loss in training 0.31902911765459874\n"
     ]
    },
    {
     "data": {
      "application/vnd.jupyter.widget-view+json": {
       "model_id": "0eab1bcb255842f79cc0d465136667f1",
       "version_major": 2,
       "version_minor": 0
      },
      "text/plain": [
       "  0%|          | 0/3405 [00:00<?, ?it/s]"
      ]
     },
     "metadata": {},
     "output_type": "display_data"
    },
    {
     "name": "stdout",
     "output_type": "stream",
     "text": [
      "4: Current loss in training 0.31748582051188934\n"
     ]
    },
    {
     "data": {
      "application/vnd.jupyter.widget-view+json": {
       "model_id": "cb408502c1ef4ee980fb1dfc126b826c",
       "version_major": 2,
       "version_minor": 0
      },
      "text/plain": [
       "  0%|          | 0/3405 [00:00<?, ?it/s]"
      ]
     },
     "metadata": {},
     "output_type": "display_data"
    },
    {
     "name": "stdout",
     "output_type": "stream",
     "text": [
      "5: Current loss in training 0.31630984159643255\n"
     ]
    },
    {
     "data": {
      "application/vnd.jupyter.widget-view+json": {
       "model_id": "0320378127534d97a3c9854f37542cbf",
       "version_major": 2,
       "version_minor": 0
      },
      "text/plain": [
       "  0%|          | 0/3405 [00:00<?, ?it/s]"
      ]
     },
     "metadata": {},
     "output_type": "display_data"
    },
    {
     "name": "stdout",
     "output_type": "stream",
     "text": [
      "6: Current loss in training 0.3153477294329505\n"
     ]
    },
    {
     "data": {
      "application/vnd.jupyter.widget-view+json": {
       "model_id": "17ca4f780fe84bd29ff6112e44128fdb",
       "version_major": 2,
       "version_minor": 0
      },
      "text/plain": [
       "  0%|          | 0/3405 [00:00<?, ?it/s]"
      ]
     },
     "metadata": {},
     "output_type": "display_data"
    },
    {
     "name": "stdout",
     "output_type": "stream",
     "text": [
      "7: Current loss in training 0.3147436399466841\n"
     ]
    },
    {
     "data": {
      "application/vnd.jupyter.widget-view+json": {
       "model_id": "d042b3a150f34cdb9e343ad55b163378",
       "version_major": 2,
       "version_minor": 0
      },
      "text/plain": [
       "  0%|          | 0/3405 [00:00<?, ?it/s]"
      ]
     },
     "metadata": {},
     "output_type": "display_data"
    },
    {
     "name": "stdout",
     "output_type": "stream",
     "text": [
      "8: Current loss in training 0.31390185768383716\n"
     ]
    },
    {
     "data": {
      "application/vnd.jupyter.widget-view+json": {
       "model_id": "a1f27081f9ee4359a965ba89be74f5ae",
       "version_major": 2,
       "version_minor": 0
      },
      "text/plain": [
       "  0%|          | 0/3405 [00:00<?, ?it/s]"
      ]
     },
     "metadata": {},
     "output_type": "display_data"
    },
    {
     "name": "stdout",
     "output_type": "stream",
     "text": [
      "9: Current loss in training 0.31337633799876413\n"
     ]
    },
    {
     "data": {
      "application/vnd.jupyter.widget-view+json": {
       "model_id": "5944941ce13046c6b4f1dec177e3f40e",
       "version_major": 2,
       "version_minor": 0
      },
      "text/plain": [
       "  0%|          | 0/3405 [00:00<?, ?it/s]"
      ]
     },
     "metadata": {},
     "output_type": "display_data"
    },
    {
     "name": "stdout",
     "output_type": "stream",
     "text": [
      "10: Current loss in training 0.3129376463690518\n"
     ]
    },
    {
     "data": {
      "application/vnd.jupyter.widget-view+json": {
       "model_id": "a56593f006e64865940459c151b1a67d",
       "version_major": 2,
       "version_minor": 0
      },
      "text/plain": [
       "  0%|          | 0/3405 [00:00<?, ?it/s]"
      ]
     },
     "metadata": {},
     "output_type": "display_data"
    },
    {
     "name": "stdout",
     "output_type": "stream",
     "text": [
      "11: Current loss in training 0.31249734965890164\n"
     ]
    },
    {
     "data": {
      "application/vnd.jupyter.widget-view+json": {
       "model_id": "e7ca328fcd094b5eac12ca7ff85e3abd",
       "version_major": 2,
       "version_minor": 0
      },
      "text/plain": [
       "  0%|          | 0/3405 [00:00<?, ?it/s]"
      ]
     },
     "metadata": {},
     "output_type": "display_data"
    },
    {
     "name": "stdout",
     "output_type": "stream",
     "text": [
      "12: Current loss in training 0.3119985481103261\n"
     ]
    },
    {
     "data": {
      "application/vnd.jupyter.widget-view+json": {
       "model_id": "adf825deddac44628ba3ffd32a039e70",
       "version_major": 2,
       "version_minor": 0
      },
      "text/plain": [
       "  0%|          | 0/3405 [00:00<?, ?it/s]"
      ]
     },
     "metadata": {},
     "output_type": "display_data"
    },
    {
     "name": "stdout",
     "output_type": "stream",
     "text": [
      "13: Current loss in training 0.31170055409360037\n"
     ]
    },
    {
     "data": {
      "application/vnd.jupyter.widget-view+json": {
       "model_id": "5b666465fd4140e6919623373f8f82ff",
       "version_major": 2,
       "version_minor": 0
      },
      "text/plain": [
       "  0%|          | 0/3405 [00:00<?, ?it/s]"
      ]
     },
     "metadata": {},
     "output_type": "display_data"
    },
    {
     "name": "stdout",
     "output_type": "stream",
     "text": [
      "14: Current loss in training 0.3114984256230437\n"
     ]
    },
    {
     "data": {
      "application/vnd.jupyter.widget-view+json": {
       "model_id": "21c240bbb64b497b9de8e2eb9923ae07",
       "version_major": 2,
       "version_minor": 0
      },
      "text/plain": [
       "  0%|          | 0/3405 [00:00<?, ?it/s]"
      ]
     },
     "metadata": {},
     "output_type": "display_data"
    },
    {
     "name": "stdout",
     "output_type": "stream",
     "text": [
      "15: Current loss in training 0.3110231047159775\n"
     ]
    },
    {
     "data": {
      "application/vnd.jupyter.widget-view+json": {
       "model_id": "748beeb7d8144dcab5316379d4cc2077",
       "version_major": 2,
       "version_minor": 0
      },
      "text/plain": [
       "  0%|          | 0/3405 [00:00<?, ?it/s]"
      ]
     },
     "metadata": {},
     "output_type": "display_data"
    },
    {
     "name": "stdout",
     "output_type": "stream",
     "text": [
      "16: Current loss in training 0.3107938399573955\n"
     ]
    },
    {
     "data": {
      "application/vnd.jupyter.widget-view+json": {
       "model_id": "d0bc23fd11b4432ca28f6ec801d14f8a",
       "version_major": 2,
       "version_minor": 0
      },
      "text/plain": [
       "  0%|          | 0/3405 [00:00<?, ?it/s]"
      ]
     },
     "metadata": {},
     "output_type": "display_data"
    },
    {
     "name": "stdout",
     "output_type": "stream",
     "text": [
      "17: Current loss in training 0.31055294888835294\n"
     ]
    },
    {
     "data": {
      "application/vnd.jupyter.widget-view+json": {
       "model_id": "b4add40150f14f5ba1c9f5869f20c566",
       "version_major": 2,
       "version_minor": 0
      },
      "text/plain": [
       "  0%|          | 0/3405 [00:00<?, ?it/s]"
      ]
     },
     "metadata": {},
     "output_type": "display_data"
    },
    {
     "name": "stdout",
     "output_type": "stream",
     "text": [
      "18: Current loss in training 0.31038949460710197\n"
     ]
    },
    {
     "data": {
      "application/vnd.jupyter.widget-view+json": {
       "model_id": "496a54b15d3447d2afacef05ee53f0cb",
       "version_major": 2,
       "version_minor": 0
      },
      "text/plain": [
       "  0%|          | 0/3405 [00:00<?, ?it/s]"
      ]
     },
     "metadata": {},
     "output_type": "display_data"
    },
    {
     "name": "stdout",
     "output_type": "stream",
     "text": [
      "19: Current loss in training 0.3100921085840105\n"
     ]
    },
    {
     "data": {
      "application/vnd.jupyter.widget-view+json": {
       "model_id": "0d0b388be68c4fd7b8ac610850ee96cf",
       "version_major": 2,
       "version_minor": 0
      },
      "text/plain": [
       "  0%|          | 0/3405 [00:00<?, ?it/s]"
      ]
     },
     "metadata": {},
     "output_type": "display_data"
    },
    {
     "name": "stdout",
     "output_type": "stream",
     "text": [
      "20: Current loss in training 0.30990781882961066\n"
     ]
    },
    {
     "data": {
      "application/vnd.jupyter.widget-view+json": {
       "model_id": "bb2bbb4a373847f8a4a1dac2483631d3",
       "version_major": 2,
       "version_minor": 0
      },
      "text/plain": [
       "  0%|          | 0/3405 [00:00<?, ?it/s]"
      ]
     },
     "metadata": {},
     "output_type": "display_data"
    },
    {
     "name": "stdout",
     "output_type": "stream",
     "text": [
      "21: Current loss in training 0.3097589533584584\n"
     ]
    },
    {
     "data": {
      "application/vnd.jupyter.widget-view+json": {
       "model_id": "4490a89123bd45008094fd2bb311850c",
       "version_major": 2,
       "version_minor": 0
      },
      "text/plain": [
       "  0%|          | 0/3405 [00:00<?, ?it/s]"
      ]
     },
     "metadata": {},
     "output_type": "display_data"
    },
    {
     "name": "stdout",
     "output_type": "stream",
     "text": [
      "22: Current loss in training 0.3096719021664142\n"
     ]
    },
    {
     "data": {
      "application/vnd.jupyter.widget-view+json": {
       "model_id": "fe67c20feb74424fbe0ead7d64a852b8",
       "version_major": 2,
       "version_minor": 0
      },
      "text/plain": [
       "  0%|          | 0/3405 [00:00<?, ?it/s]"
      ]
     },
     "metadata": {},
     "output_type": "display_data"
    },
    {
     "name": "stdout",
     "output_type": "stream",
     "text": [
      "23: Current loss in training 0.309499784179371\n"
     ]
    },
    {
     "data": {
      "application/vnd.jupyter.widget-view+json": {
       "model_id": "dd9684b3c4dc47d18c54fb919856417d",
       "version_major": 2,
       "version_minor": 0
      },
      "text/plain": [
       "  0%|          | 0/3405 [00:00<?, ?it/s]"
      ]
     },
     "metadata": {},
     "output_type": "display_data"
    },
    {
     "name": "stdout",
     "output_type": "stream",
     "text": [
      "24: Current loss in training 0.30940517945961804\n"
     ]
    },
    {
     "data": {
      "application/vnd.jupyter.widget-view+json": {
       "model_id": "e4e513a6a0b641bab518b2833fc4c6e8",
       "version_major": 2,
       "version_minor": 0
      },
      "text/plain": [
       "  0%|          | 0/3405 [00:00<?, ?it/s]"
      ]
     },
     "metadata": {},
     "output_type": "display_data"
    },
    {
     "name": "stdout",
     "output_type": "stream",
     "text": [
      "25: Current loss in training 0.3090825781072989\n"
     ]
    },
    {
     "data": {
      "application/vnd.jupyter.widget-view+json": {
       "model_id": "801d1092982a4a408ba2319baadf5891",
       "version_major": 2,
       "version_minor": 0
      },
      "text/plain": [
       "  0%|          | 0/3405 [00:00<?, ?it/s]"
      ]
     },
     "metadata": {},
     "output_type": "display_data"
    },
    {
     "name": "stdout",
     "output_type": "stream",
     "text": [
      "26: Current loss in training 0.30895812084321234\n"
     ]
    },
    {
     "data": {
      "application/vnd.jupyter.widget-view+json": {
       "model_id": "0a19c25df6af4ec883d123857be1e6eb",
       "version_major": 2,
       "version_minor": 0
      },
      "text/plain": [
       "  0%|          | 0/3405 [00:00<?, ?it/s]"
      ]
     },
     "metadata": {},
     "output_type": "display_data"
    },
    {
     "name": "stdout",
     "output_type": "stream",
     "text": [
      "27: Current loss in training 0.3089413782310906\n"
     ]
    },
    {
     "data": {
      "application/vnd.jupyter.widget-view+json": {
       "model_id": "e45883a2b4274ccfb4de160a2f1b2f70",
       "version_major": 2,
       "version_minor": 0
      },
      "text/plain": [
       "  0%|          | 0/3405 [00:00<?, ?it/s]"
      ]
     },
     "metadata": {},
     "output_type": "display_data"
    },
    {
     "name": "stdout",
     "output_type": "stream",
     "text": [
      "28: Current loss in training 0.3087900136448388\n"
     ]
    },
    {
     "data": {
      "application/vnd.jupyter.widget-view+json": {
       "model_id": "d1af12f2cc6d43d8a018685dca7a9e34",
       "version_major": 2,
       "version_minor": 0
      },
      "text/plain": [
       "  0%|          | 0/3405 [00:00<?, ?it/s]"
      ]
     },
     "metadata": {},
     "output_type": "display_data"
    },
    {
     "name": "stdout",
     "output_type": "stream",
     "text": [
      "29: Current loss in training 0.30856192186365394\n"
     ]
    },
    {
     "data": {
      "application/vnd.jupyter.widget-view+json": {
       "model_id": "1bb1a1a89ffc44509e997e0b15cd9e4a",
       "version_major": 2,
       "version_minor": 0
      },
      "text/plain": [
       "  0%|          | 0/3405 [00:00<?, ?it/s]"
      ]
     },
     "metadata": {},
     "output_type": "display_data"
    },
    {
     "name": "stdout",
     "output_type": "stream",
     "text": [
      "30: Current loss in training 0.3084784091963117\n"
     ]
    },
    {
     "data": {
      "application/vnd.jupyter.widget-view+json": {
       "model_id": "a1119201f6754cdf98f328a32d4e2b03",
       "version_major": 2,
       "version_minor": 0
      },
      "text/plain": [
       "  0%|          | 0/3405 [00:00<?, ?it/s]"
      ]
     },
     "metadata": {},
     "output_type": "display_data"
    },
    {
     "name": "stdout",
     "output_type": "stream",
     "text": [
      "31: Current loss in training 0.3084454949381768\n"
     ]
    },
    {
     "data": {
      "application/vnd.jupyter.widget-view+json": {
       "model_id": "576b89aaac794db9bfe7cb6ab6b7f9ac",
       "version_major": 2,
       "version_minor": 0
      },
      "text/plain": [
       "  0%|          | 0/3405 [00:00<?, ?it/s]"
      ]
     },
     "metadata": {},
     "output_type": "display_data"
    },
    {
     "name": "stdout",
     "output_type": "stream",
     "text": [
      "32: Current loss in training 0.30848171741601826\n"
     ]
    },
    {
     "data": {
      "application/vnd.jupyter.widget-view+json": {
       "model_id": "325244882af74798a260f5c40c4ec934",
       "version_major": 2,
       "version_minor": 0
      },
      "text/plain": [
       "  0%|          | 0/3405 [00:00<?, ?it/s]"
      ]
     },
     "metadata": {},
     "output_type": "display_data"
    },
    {
     "name": "stdout",
     "output_type": "stream",
     "text": [
      "33: Current loss in training 0.30819874682878085\n"
     ]
    },
    {
     "data": {
      "application/vnd.jupyter.widget-view+json": {
       "model_id": "a7a363d5c5304a2e8eb38765747fbdc1",
       "version_major": 2,
       "version_minor": 0
      },
      "text/plain": [
       "  0%|          | 0/3405 [00:00<?, ?it/s]"
      ]
     },
     "metadata": {},
     "output_type": "display_data"
    },
    {
     "name": "stdout",
     "output_type": "stream",
     "text": [
      "34: Current loss in training 0.30808244904232446\n"
     ]
    },
    {
     "data": {
      "application/vnd.jupyter.widget-view+json": {
       "model_id": "a9f197c9f10945ce8e3da87722efc1ee",
       "version_major": 2,
       "version_minor": 0
      },
      "text/plain": [
       "  0%|          | 0/3405 [00:00<?, ?it/s]"
      ]
     },
     "metadata": {},
     "output_type": "display_data"
    },
    {
     "name": "stdout",
     "output_type": "stream",
     "text": [
      "35: Current loss in training 0.3080151131324656\n"
     ]
    },
    {
     "data": {
      "application/vnd.jupyter.widget-view+json": {
       "model_id": "8faa7d20d1eb48bc8ec8394af907947b",
       "version_major": 2,
       "version_minor": 0
      },
      "text/plain": [
       "  0%|          | 0/3405 [00:00<?, ?it/s]"
      ]
     },
     "metadata": {},
     "output_type": "display_data"
    },
    {
     "name": "stdout",
     "output_type": "stream",
     "text": [
      "36: Current loss in training 0.3079715166585561\n"
     ]
    },
    {
     "data": {
      "application/vnd.jupyter.widget-view+json": {
       "model_id": "c58817f61d3e4b7a8b7cf4aabdf1b942",
       "version_major": 2,
       "version_minor": 0
      },
      "text/plain": [
       "  0%|          | 0/3405 [00:00<?, ?it/s]"
      ]
     },
     "metadata": {},
     "output_type": "display_data"
    },
    {
     "name": "stdout",
     "output_type": "stream",
     "text": [
      "37: Current loss in training 0.30796448551610706\n"
     ]
    },
    {
     "data": {
      "application/vnd.jupyter.widget-view+json": {
       "model_id": "2c6a6d1d21af42958034878273613cf0",
       "version_major": 2,
       "version_minor": 0
      },
      "text/plain": [
       "  0%|          | 0/3405 [00:00<?, ?it/s]"
      ]
     },
     "metadata": {},
     "output_type": "display_data"
    },
    {
     "name": "stdout",
     "output_type": "stream",
     "text": [
      "38: Current loss in training 0.30787411404776327\n"
     ]
    },
    {
     "data": {
      "application/vnd.jupyter.widget-view+json": {
       "model_id": "9649489df84b4ea992cbbb62fcbc6b14",
       "version_major": 2,
       "version_minor": 0
      },
      "text/plain": [
       "  0%|          | 0/3405 [00:00<?, ?it/s]"
      ]
     },
     "metadata": {},
     "output_type": "display_data"
    },
    {
     "name": "stdout",
     "output_type": "stream",
     "text": [
      "39: Current loss in training 0.3076431905995732\n"
     ]
    }
   ],
   "source": [
    "for i in range(40):\n",
    "    l = epoch(model, loss_f, optimizer, dl_train)\n",
    "    print(f'{i}: Current loss in training {l}')\n",
    "torch.save(model.state_dict(), 'predict_deep_mf_single_embds_rnd_v2.pt')"
   ]
  },
  {
   "cell_type": "code",
   "execution_count": 16,
   "id": "8d245d71-8103-41c0-8e94-e3eb47167d25",
   "metadata": {
    "tags": []
   },
   "outputs": [
    {
     "data": {
      "application/vnd.jupyter.widget-view+json": {
       "model_id": "2ba065130f6d4a3aa4c916199f4dbe53",
       "version_major": 2,
       "version_minor": 0
      },
      "text/plain": [
       "  0%|          | 0/79 [00:00<?, ?it/s]"
      ]
     },
     "metadata": {},
     "output_type": "display_data"
    }
   ],
   "source": [
    "model.eval()\n",
    "pred = predict(model, dl_test)"
   ]
  },
  {
   "cell_type": "code",
   "execution_count": 17,
   "id": "79367b55-2dca-434c-9137-613acb62e8a0",
   "metadata": {},
   "outputs": [],
   "source": [
    "idx = ds_test.ids_values[:, np.newaxis]\n",
    "pred = np.concatenate((idx, pred), axis=-1)"
   ]
  },
  {
   "cell_type": "code",
   "execution_count": 18,
   "id": "dd04a9d9-3095-45ff-b5b8-438ab9bd7bdd",
   "metadata": {
    "tags": []
   },
   "outputs": [],
   "source": [
    "pred = pl.DataFrame(data=pred, schema=[('RowId', pl.Int32), ('is_clicked', pl.Float32), ('is_installed', pl.Float32)])\n",
    "pred.write_csv('log2_out_deep_mf_single_embds_rnd_v2.csv', separator='\\t')"
   ]
  },
  {
   "cell_type": "code",
   "execution_count": null,
   "id": "96a8c351-ec64-4090-8a4d-4136b862d84d",
   "metadata": {},
   "outputs": [],
   "source": []
  }
 ],
 "metadata": {
  "kernelspec": {
   "display_name": "Python 3 (ipykernel)",
   "language": "python",
   "name": "python3"
  },
  "language_info": {
   "codemirror_mode": {
    "name": "ipython",
    "version": 3
   },
   "file_extension": ".py",
   "mimetype": "text/x-python",
   "name": "python",
   "nbconvert_exporter": "python",
   "pygments_lexer": "ipython3",
   "version": "3.10.10"
  }
 },
 "nbformat": 4,
 "nbformat_minor": 5
}
