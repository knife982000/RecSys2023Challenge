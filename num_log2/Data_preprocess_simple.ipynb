{
 "cells": [
  {
   "cell_type": "code",
   "execution_count": 1,
   "id": "94cb2dbc-628a-4f19-92f8-afa16e87aa1b",
   "metadata": {
    "tags": []
   },
   "outputs": [],
   "source": [
    "import polars as pl\n",
    "import matplotlib.pyplot as plt\n",
    "import numpy as np"
   ]
  },
  {
   "cell_type": "code",
   "execution_count": 2,
   "id": "d59a3e28-d917-4ead-b562-6fde5012a7e0",
   "metadata": {
    "tags": []
   },
   "outputs": [
    {
     "data": {
      "text/html": [
       "<div><style>\n",
       ".dataframe > thead > tr > th,\n",
       ".dataframe > tbody > tr > td {\n",
       "  text-align: right;\n",
       "}\n",
       "</style>\n",
       "<small>shape: (5, 82)</small><table border=\"1\" class=\"dataframe\"><thead><tr><th>f_0</th><th>f_1</th><th>f_2</th><th>f_3</th><th>f_4</th><th>f_5</th><th>f_6</th><th>f_7</th><th>f_8</th><th>f_9</th><th>f_10</th><th>f_11</th><th>f_12</th><th>f_13</th><th>f_14</th><th>f_15</th><th>f_16</th><th>f_17</th><th>f_18</th><th>f_19</th><th>f_20</th><th>f_21</th><th>f_22</th><th>f_23</th><th>f_24</th><th>f_25</th><th>f_26</th><th>f_27</th><th>f_28</th><th>f_29</th><th>f_30</th><th>f_31</th><th>f_32</th><th>f_33</th><th>f_34</th><th>f_35</th><th>f_36</th><th>&hellip;</th><th>f_45</th><th>f_46</th><th>f_47</th><th>f_48</th><th>f_49</th><th>f_50</th><th>f_51</th><th>f_52</th><th>f_53</th><th>f_54</th><th>f_55</th><th>f_56</th><th>f_57</th><th>f_58</th><th>f_59</th><th>f_60</th><th>f_61</th><th>f_62</th><th>f_63</th><th>f_64</th><th>f_65</th><th>f_66</th><th>f_67</th><th>f_68</th><th>f_69</th><th>f_70</th><th>f_71</th><th>f_72</th><th>f_73</th><th>f_74</th><th>f_75</th><th>f_76</th><th>f_77</th><th>f_78</th><th>f_79</th><th>is_clicked</th><th>is_installed</th></tr><tr><td>i64</td><td>i64</td><td>i64</td><td>i64</td><td>i64</td><td>i64</td><td>i64</td><td>i64</td><td>i64</td><td>i64</td><td>i64</td><td>i64</td><td>i64</td><td>i64</td><td>i64</td><td>i64</td><td>i64</td><td>i64</td><td>i64</td><td>i64</td><td>i64</td><td>i64</td><td>i64</td><td>i64</td><td>i64</td><td>i64</td><td>i64</td><td>i64</td><td>i64</td><td>i64</td><td>i64</td><td>i64</td><td>i64</td><td>i64</td><td>i64</td><td>i64</td><td>i64</td><td>&hellip;</td><td>f64</td><td>f64</td><td>f64</td><td>f64</td><td>f64</td><td>f64</td><td>f64</td><td>f64</td><td>f64</td><td>f64</td><td>f64</td><td>f64</td><td>f64</td><td>f64</td><td>f64</td><td>f64</td><td>f64</td><td>f64</td><td>f64</td><td>i64</td><td>f64</td><td>f64</td><td>f64</td><td>f64</td><td>f64</td><td>f64</td><td>f64</td><td>f64</td><td>f64</td><td>f64</td><td>f64</td><td>f64</td><td>f64</td><td>f64</td><td>f64</td><td>i64</td><td>i64</td></tr></thead><tbody><tr><td>2541162</td><td>51</td><td>6581</td><td>22294</td><td>5491</td><td>25604</td><td>14597</td><td>27941</td><td>18800</td><td>31372</td><td>22970</td><td>32266</td><td>11402</td><td>17705</td><td>26082</td><td>19819</td><td>14709</td><td>28694</td><td>5774</td><td>25952</td><td>21553</td><td>0</td><td>0</td><td>0</td><td>0</td><td>0</td><td>0</td><td>0</td><td>0</td><td>0</td><td>null</td><td>null</td><td>3</td><td>1</td><td>1</td><td>1</td><td>1</td><td>&hellip;</td><td>0.0</td><td>0.0</td><td>0.0</td><td>0.0</td><td>0.0</td><td>0.571121</td><td>2.510696</td><td>0.038564</td><td>0.0</td><td>0.617025</td><td>0.809845</td><td>0.077128</td><td>2.545229</td><td>0.803333</td><td>3.397252</td><td>0.0</td><td>0.0</td><td>1.680896</td><td>2.841769</td><td>69350014</td><td>1462.240096</td><td>1.599715</td><td>7.851265</td><td>0.0</td><td>0.0</td><td>2.82868</td><td>1.142243</td><td>3.99785</td><td>1.713364</td><td>0.115692</td><td>1.156922</td><td>0.269948</td><td>0.0</td><td>0.0</td><td>0.0</td><td>0</td><td>0</td></tr><tr><td>2541260</td><td>49</td><td>20095</td><td>563</td><td>22861</td><td>15908</td><td>22651</td><td>27941</td><td>21218</td><td>869</td><td>19343</td><td>12213</td><td>30670</td><td>4230</td><td>20899</td><td>13481</td><td>25546</td><td>3249</td><td>12020</td><td>26758</td><td>4222</td><td>4625</td><td>0</td><td>0</td><td>0</td><td>0</td><td>0</td><td>0</td><td>0</td><td>0</td><td>null</td><td>null</td><td>3</td><td>0</td><td>0</td><td>0</td><td>1</td><td>&hellip;</td><td>0.0</td><td>0.0</td><td>0.0</td><td>0.0</td><td>0.0</td><td>0.0</td><td>30.726136</td><td>0.0</td><td>0.0</td><td>0.0</td><td>0.308513</td><td>0.0</td><td>0.385641</td><td>1.518634</td><td>3.205653</td><td>0.0</td><td>0.0</td><td>0.0</td><td>0.0</td><td>126347712</td><td>1639.124417</td><td>0.000873</td><td>8.157427</td><td>1.089364</td><td>1.646756</td><td>0.0</td><td>0.0</td><td>0.0</td><td>0.0</td><td>0.115692</td><td>1.156922</td><td>0.269948</td><td>0.0</td><td>0.0</td><td>0.0</td><td>0</td><td>0</td></tr><tr><td>2541318</td><td>51</td><td>20095</td><td>563</td><td>22861</td><td>25604</td><td>22651</td><td>27941</td><td>21218</td><td>31372</td><td>22970</td><td>11407</td><td>17133</td><td>18614</td><td>26082</td><td>32590</td><td>25546</td><td>29718</td><td>21865</td><td>26758</td><td>4222</td><td>4625</td><td>0</td><td>0</td><td>0</td><td>0</td><td>0</td><td>0</td><td>0</td><td>0</td><td>null</td><td>null</td><td>3</td><td>0</td><td>0</td><td>0</td><td>1</td><td>&hellip;</td><td>0.0</td><td>0.0</td><td>0.0</td><td>0.0</td><td>0.0</td><td>0.0</td><td>25.668477</td><td>0.0</td><td>0.0</td><td>0.0</td><td>0.0</td><td>0.0</td><td>0.0</td><td>1.511121</td><td>2.413887</td><td>0.0</td><td>0.295702</td><td>0.387899</td><td>0.0</td><td>192447264</td><td>1808.083683</td><td>0.000156</td><td>8.269833</td><td>1.10626</td><td>2.220819</td><td>0.0</td><td>0.0</td><td>0.0</td><td>0.0</td><td>0.038564</td><td>1.156922</td><td>0.269948</td><td>0.0</td><td>0.0</td><td>0.0</td><td>0</td><td>0</td></tr><tr><td>2541770</td><td>64</td><td>13658</td><td>22294</td><td>7003</td><td>25604</td><td>29975</td><td>27941</td><td>21218</td><td>21533</td><td>19343</td><td>28360</td><td>8659</td><td>24696</td><td>20899</td><td>7057</td><td>18162</td><td>11918</td><td>12020</td><td>29982</td><td>4740</td><td>0</td><td>0</td><td>0</td><td>0</td><td>0</td><td>0</td><td>0</td><td>0</td><td>0</td><td>0</td><td>0</td><td>2</td><td>0</td><td>1</td><td>1</td><td>1</td><td>&hellip;</td><td>0.0</td><td>0.0</td><td>0.0</td><td>0.0</td><td>0.0</td><td>0.0</td><td>1.092316</td><td>0.038564</td><td>0.038564</td><td>0.115692</td><td>0.038564</td><td>0.038564</td><td>0.038564</td><td>1.336304</td><td>1.302389</td><td>0.0</td><td>0.295702</td><td>0.0</td><td>4.973095</td><td>17889246</td><td>110.105037</td><td>2.276683</td><td>9.171566</td><td>0.0</td><td>0.0</td><td>1.598379</td><td>0.0</td><td>1.713364</td><td>1.142243</td><td>0.115692</td><td>1.156922</td><td>0.269948</td><td>0.0</td><td>0.0</td><td>0.0</td><td>0</td><td>0</td></tr><tr><td>2542002</td><td>62</td><td>20095</td><td>563</td><td>31686</td><td>15908</td><td>590</td><td>27941</td><td>18800</td><td>23218</td><td>22970</td><td>11407</td><td>30670</td><td>24696</td><td>27291</td><td>12126</td><td>25546</td><td>3249</td><td>5774</td><td>26758</td><td>4222</td><td>4625</td><td>0</td><td>0</td><td>0</td><td>0</td><td>0</td><td>0</td><td>0</td><td>0</td><td>0</td><td>0</td><td>3</td><td>0</td><td>0</td><td>0</td><td>1</td><td>&hellip;</td><td>0.0</td><td>0.0</td><td>0.0</td><td>0.0</td><td>0.0</td><td>0.0</td><td>17.621443</td><td>0.0</td><td>0.0</td><td>0.0</td><td>0.0</td><td>0.0</td><td>0.0</td><td>1.620839</td><td>2.184986</td><td>0.0</td><td>0.0</td><td>0.0</td><td>0.355221</td><td>177032136</td><td>1478.281323</td><td>0.000615</td><td>8.126352</td><td>0.200315</td><td>0.444261</td><td>0.0</td><td>0.0</td><td>0.0</td><td>0.0</td><td>0.115692</td><td>1.156922</td><td>0.269948</td><td>0.0</td><td>0.0</td><td>0.0</td><td>0</td><td>0</td></tr></tbody></table></div>"
      ],
      "text/plain": [
       "shape: (5, 82)\n",
       "┌─────────┬─────┬───────┬───────┬───┬──────┬──────┬────────────┬──────────────┐\n",
       "│ f_0     ┆ f_1 ┆ f_2   ┆ f_3   ┆ … ┆ f_78 ┆ f_79 ┆ is_clicked ┆ is_installed │\n",
       "│ ---     ┆ --- ┆ ---   ┆ ---   ┆   ┆ ---  ┆ ---  ┆ ---        ┆ ---          │\n",
       "│ i64     ┆ i64 ┆ i64   ┆ i64   ┆   ┆ f64  ┆ f64  ┆ i64        ┆ i64          │\n",
       "╞═════════╪═════╪═══════╪═══════╪═══╪══════╪══════╪════════════╪══════════════╡\n",
       "│ 2541162 ┆ 51  ┆ 6581  ┆ 22294 ┆ … ┆ 0.0  ┆ 0.0  ┆ 0          ┆ 0            │\n",
       "│ 2541260 ┆ 49  ┆ 20095 ┆ 563   ┆ … ┆ 0.0  ┆ 0.0  ┆ 0          ┆ 0            │\n",
       "│ 2541318 ┆ 51  ┆ 20095 ┆ 563   ┆ … ┆ 0.0  ┆ 0.0  ┆ 0          ┆ 0            │\n",
       "│ 2541770 ┆ 64  ┆ 13658 ┆ 22294 ┆ … ┆ 0.0  ┆ 0.0  ┆ 0          ┆ 0            │\n",
       "│ 2542002 ┆ 62  ┆ 20095 ┆ 563   ┆ … ┆ 0.0  ┆ 0.0  ┆ 0          ┆ 0            │\n",
       "└─────────┴─────┴───────┴───────┴───┴──────┴──────┴────────────┴──────────────┘"
      ]
     },
     "execution_count": 2,
     "metadata": {},
     "output_type": "execute_result"
    }
   ],
   "source": [
    "df = pl.read_csv('../sharechat_recsys2023_data/train/*.csv', separator='\\t', infer_schema_length=10000)\n",
    "df.head()"
   ]
  },
  {
   "cell_type": "code",
   "execution_count": 3,
   "id": "f77c840a-5c17-487f-890b-fed7d1c20765",
   "metadata": {
    "tags": []
   },
   "outputs": [],
   "source": [
    "from sklearn.pipeline import make_union, make_pipeline\n",
    "from sklearn.preprocessing import FunctionTransformer\n",
    "from sklearn.preprocessing import OrdinalEncoder"
   ]
  },
  {
   "cell_type": "code",
   "execution_count": 4,
   "id": "eb6c1c2e-9e9b-439f-b539-b1ac099309e4",
   "metadata": {
    "tags": []
   },
   "outputs": [],
   "source": [
    "from numba import njit\n",
    "\n",
    "\n",
    "class ColumnCatEncoder:\n",
    "    \n",
    "    def __init__(self, name):\n",
    "        self.col = name\n",
    "    \n",
    "    def __call__(self, df):\n",
    "        if not hasattr(self, 'map_dict'):\n",
    "            self.map_dict = {}\n",
    "            vals = df[self.col].value_counts().sort('counts')\n",
    "            for i, (v, _) in enumerate(vals.iter_rows()):\n",
    "                self.map_dict[v] = i\n",
    "            if None not in self.map_dict:\n",
    "                self.map_dict[None] = i\n",
    "        n_df = df.with_columns(pl.col(self.col).\\\n",
    "                               map_dict(self.map_dict, \\\n",
    "                                        default=self.map_dict[None]))\n",
    "        return n_df\n",
    "    \n",
    "    \n",
    "class ColumnCatEncoderChance:\n",
    "    \n",
    "    def __init__(self, name):\n",
    "        self.col = name\n",
    "    \n",
    "    def __call__(self, df):\n",
    "        if not hasattr(self, 'map_click'):\n",
    "            self.map_click = {}\n",
    "            self.map_ins = {}\n",
    "            vals = df[[self.col, 'is_clicked', 'is_installed']].\\\n",
    "                    groupby(self.col).\\\n",
    "                    agg([pl.mean('is_clicked'), pl.mean('is_installed'), pl.count()]).\\\n",
    "                    sort('count')\n",
    "            for v, click, ins, _ in vals.iter_rows():\n",
    "                self.map_click[v] = click\n",
    "                self.map_ins[v] = ins\n",
    "            if None not in self.map_click:\n",
    "                self.map_click[None] = self.map_click[v]\n",
    "                self.map_ins[None] = self.map_ins[v]\n",
    "        df = df.with_columns(pl.col(self.col).\\\n",
    "                             map_dict(self.map_click, default=self.map_click[None]).\\\n",
    "                             alias(f'{self.col}_click'))\n",
    "        df = df.with_columns(pl.col(self.col)\\\n",
    "                             .map_dict(self.map_ins, default=self.map_ins[None]).\\\n",
    "                             alias(f'{self.col}_inst'))\n",
    "        df = df.drop(self.col)\n",
    "        return df\n",
    "## TODO FAST coso        \n",
    "\n",
    "class LogBaseEncoder:\n",
    "    \n",
    "    def __init__(self, col):\n",
    "        self.col = col\n",
    "        \n",
    "    def __call__(self, df):\n",
    "        col = df[self.col].fill_null(strategy='mean').to_numpy()\n",
    "        if not hasattr(self, 'mean'):\n",
    "            self.mean = np.mean(col)\n",
    "            self.std = np.std(col)\n",
    "            # print(self.mean)\n",
    "            # print(self.std)\n",
    "        res = (col-self.mean) / (3 * self.std)\n",
    "        res = np.where(np.abs(res) <= 1, res, np.sign(res) * (np.log2(np.abs(res)) + 1))\n",
    "        df = df.with_columns(pl.Series(name=self.col, values=res))\n",
    "        return df\n",
    "# steps = [\n",
    "#     FunctionTransformer(ColumnCatEncoder('f_30'))\n",
    "# ]\n",
    "\n",
    "\n",
    "steps = [FunctionTransformer(ColumnCatEncoder(f'f_{c}') \n",
    "                             if len(df[f'f_{c}'].value_counts()) > 20 \n",
    "                             else ColumnCatEncoderChance(f'f_{c}')) \n",
    "         for c in range(2, 42)]\n",
    "\n",
    "steps += [FunctionTransformer(LogBaseEncoder(f'f_{c}'))\n",
    "         for c in range(42, 80)]\n",
    "\n",
    "# steps += [FunctionTransformer(ColumnCatEncoder2(f'f_{c}'))\n",
    "#          for c in range(42, 80)]\n",
    "\n",
    "# types = {f'f_{c}': 'cat' for c in range(2, 42) if len(df[f'f_{c}'].value_counts()) > 10 }\n",
    "# for c in range(2, 43):\n",
    "#     if f'f_{c}' not in types:\n",
    "#         types[f'f_{c}_click'] = 'prob'\n",
    "#         types[f'f_{c}_inst'] = 'prob'\n",
    "# for c in range(42, 80):\n",
    "#     types[f'f_{c}'] = 'num'\n",
    "    \n",
    "    \n",
    "pipe = make_pipeline(*steps)"
   ]
  },
  {
   "cell_type": "code",
   "execution_count": 5,
   "id": "0be756d5-1d47-42e2-afc8-2f3de14c9fea",
   "metadata": {
    "tags": []
   },
   "outputs": [
    {
     "name": "stdout",
     "output_type": "stream",
     "text": [
      "CPU times: total: 4.64 s\n",
      "Wall time: 10.7 s\n"
     ]
    },
    {
     "data": {
      "text/html": [
       "<style>#sk-container-id-1 {color: black;background-color: white;}#sk-container-id-1 pre{padding: 0;}#sk-container-id-1 div.sk-toggleable {background-color: white;}#sk-container-id-1 label.sk-toggleable__label {cursor: pointer;display: block;width: 100%;margin-bottom: 0;padding: 0.3em;box-sizing: border-box;text-align: center;}#sk-container-id-1 label.sk-toggleable__label-arrow:before {content: \"▸\";float: left;margin-right: 0.25em;color: #696969;}#sk-container-id-1 label.sk-toggleable__label-arrow:hover:before {color: black;}#sk-container-id-1 div.sk-estimator:hover label.sk-toggleable__label-arrow:before {color: black;}#sk-container-id-1 div.sk-toggleable__content {max-height: 0;max-width: 0;overflow: hidden;text-align: left;background-color: #f0f8ff;}#sk-container-id-1 div.sk-toggleable__content pre {margin: 0.2em;color: black;border-radius: 0.25em;background-color: #f0f8ff;}#sk-container-id-1 input.sk-toggleable__control:checked~div.sk-toggleable__content {max-height: 200px;max-width: 100%;overflow: auto;}#sk-container-id-1 input.sk-toggleable__control:checked~label.sk-toggleable__label-arrow:before {content: \"▾\";}#sk-container-id-1 div.sk-estimator input.sk-toggleable__control:checked~label.sk-toggleable__label {background-color: #d4ebff;}#sk-container-id-1 div.sk-label input.sk-toggleable__control:checked~label.sk-toggleable__label {background-color: #d4ebff;}#sk-container-id-1 input.sk-hidden--visually {border: 0;clip: rect(1px 1px 1px 1px);clip: rect(1px, 1px, 1px, 1px);height: 1px;margin: -1px;overflow: hidden;padding: 0;position: absolute;width: 1px;}#sk-container-id-1 div.sk-estimator {font-family: monospace;background-color: #f0f8ff;border: 1px dotted black;border-radius: 0.25em;box-sizing: border-box;margin-bottom: 0.5em;}#sk-container-id-1 div.sk-estimator:hover {background-color: #d4ebff;}#sk-container-id-1 div.sk-parallel-item::after {content: \"\";width: 100%;border-bottom: 1px solid gray;flex-grow: 1;}#sk-container-id-1 div.sk-label:hover label.sk-toggleable__label {background-color: #d4ebff;}#sk-container-id-1 div.sk-serial::before {content: \"\";position: absolute;border-left: 1px solid gray;box-sizing: border-box;top: 0;bottom: 0;left: 50%;z-index: 0;}#sk-container-id-1 div.sk-serial {display: flex;flex-direction: column;align-items: center;background-color: white;padding-right: 0.2em;padding-left: 0.2em;position: relative;}#sk-container-id-1 div.sk-item {position: relative;z-index: 1;}#sk-container-id-1 div.sk-parallel {display: flex;align-items: stretch;justify-content: center;background-color: white;position: relative;}#sk-container-id-1 div.sk-item::before, #sk-container-id-1 div.sk-parallel-item::before {content: \"\";position: absolute;border-left: 1px solid gray;box-sizing: border-box;top: 0;bottom: 0;left: 50%;z-index: -1;}#sk-container-id-1 div.sk-parallel-item {display: flex;flex-direction: column;z-index: 1;position: relative;background-color: white;}#sk-container-id-1 div.sk-parallel-item:first-child::after {align-self: flex-end;width: 50%;}#sk-container-id-1 div.sk-parallel-item:last-child::after {align-self: flex-start;width: 50%;}#sk-container-id-1 div.sk-parallel-item:only-child::after {width: 0;}#sk-container-id-1 div.sk-dashed-wrapped {border: 1px dashed gray;margin: 0 0.4em 0.5em 0.4em;box-sizing: border-box;padding-bottom: 0.4em;background-color: white;}#sk-container-id-1 div.sk-label label {font-family: monospace;font-weight: bold;display: inline-block;line-height: 1.2em;}#sk-container-id-1 div.sk-label-container {text-align: center;}#sk-container-id-1 div.sk-container {/* jupyter's `normalize.less` sets `[hidden] { display: none; }` but bootstrap.min.css set `[hidden] { display: none !important; }` so we also need the `!important` here to be able to override the default hidden behavior on the sphinx rendered scikit-learn.org. See: https://github.com/scikit-learn/scikit-learn/issues/21755 */display: inline-block !important;position: relative;}#sk-container-id-1 div.sk-text-repr-fallback {display: none;}</style><div id=\"sk-container-id-1\" class=\"sk-top-container\"><div class=\"sk-text-repr-fallback\"><pre>Pipeline(steps=[(&#x27;functiontransformer-1&#x27;,\n",
       "                 FunctionTransformer(func=&lt;__main__.ColumnCatEncoder object at 0x00000211474FE3E0&gt;)),\n",
       "                (&#x27;functiontransformer-2&#x27;,\n",
       "                 FunctionTransformer(func=&lt;__main__.ColumnCatEncoderChance object at 0x000002114754A170&gt;)),\n",
       "                (&#x27;functiontransformer-3&#x27;,\n",
       "                 FunctionTransformer(func=&lt;__main__.ColumnCatEncoder object at 0x000002114754A200&gt;)),\n",
       "                (&#x27;function...\n",
       "                 FunctionTransformer(func=&lt;__main__.ColumnCatEncoderChance object at 0x000002114754AFB0&gt;)),\n",
       "                (&#x27;functiontransformer-28&#x27;,\n",
       "                 FunctionTransformer(func=&lt;__main__.ColumnCatEncoderChance object at 0x000002114754B040&gt;)),\n",
       "                (&#x27;functiontransformer-29&#x27;,\n",
       "                 FunctionTransformer(func=&lt;__main__.ColumnCatEncoderChance object at 0x000002114754B0D0&gt;)),\n",
       "                (&#x27;functiontransformer-30&#x27;,\n",
       "                 FunctionTransformer(func=&lt;__main__.ColumnCatEncoderChance object at 0x000002114754B160&gt;)), ...])</pre><b>In a Jupyter environment, please rerun this cell to show the HTML representation or trust the notebook. <br />On GitHub, the HTML representation is unable to render, please try loading this page with nbviewer.org.</b></div><div class=\"sk-container\" hidden><div class=\"sk-item sk-dashed-wrapped\"><div class=\"sk-label-container\"><div class=\"sk-label sk-toggleable\"><input class=\"sk-toggleable__control sk-hidden--visually\" id=\"sk-estimator-id-1\" type=\"checkbox\" ><label for=\"sk-estimator-id-1\" class=\"sk-toggleable__label sk-toggleable__label-arrow\">Pipeline</label><div class=\"sk-toggleable__content\"><pre>Pipeline(steps=[(&#x27;functiontransformer-1&#x27;,\n",
       "                 FunctionTransformer(func=&lt;__main__.ColumnCatEncoder object at 0x00000211474FE3E0&gt;)),\n",
       "                (&#x27;functiontransformer-2&#x27;,\n",
       "                 FunctionTransformer(func=&lt;__main__.ColumnCatEncoderChance object at 0x000002114754A170&gt;)),\n",
       "                (&#x27;functiontransformer-3&#x27;,\n",
       "                 FunctionTransformer(func=&lt;__main__.ColumnCatEncoder object at 0x000002114754A200&gt;)),\n",
       "                (&#x27;function...\n",
       "                 FunctionTransformer(func=&lt;__main__.ColumnCatEncoderChance object at 0x000002114754AFB0&gt;)),\n",
       "                (&#x27;functiontransformer-28&#x27;,\n",
       "                 FunctionTransformer(func=&lt;__main__.ColumnCatEncoderChance object at 0x000002114754B040&gt;)),\n",
       "                (&#x27;functiontransformer-29&#x27;,\n",
       "                 FunctionTransformer(func=&lt;__main__.ColumnCatEncoderChance object at 0x000002114754B0D0&gt;)),\n",
       "                (&#x27;functiontransformer-30&#x27;,\n",
       "                 FunctionTransformer(func=&lt;__main__.ColumnCatEncoderChance object at 0x000002114754B160&gt;)), ...])</pre></div></div></div><div class=\"sk-serial\"><div class=\"sk-item\"><div class=\"sk-estimator sk-toggleable\"><input class=\"sk-toggleable__control sk-hidden--visually\" id=\"sk-estimator-id-2\" type=\"checkbox\" ><label for=\"sk-estimator-id-2\" class=\"sk-toggleable__label sk-toggleable__label-arrow\">FunctionTransformer</label><div class=\"sk-toggleable__content\"><pre>FunctionTransformer(func=&lt;__main__.ColumnCatEncoder object at 0x00000211474FE3E0&gt;)</pre></div></div></div><div class=\"sk-item\"><div class=\"sk-estimator sk-toggleable\"><input class=\"sk-toggleable__control sk-hidden--visually\" id=\"sk-estimator-id-3\" type=\"checkbox\" ><label for=\"sk-estimator-id-3\" class=\"sk-toggleable__label sk-toggleable__label-arrow\">FunctionTransformer</label><div class=\"sk-toggleable__content\"><pre>FunctionTransformer(func=&lt;__main__.ColumnCatEncoderChance object at 0x000002114754A170&gt;)</pre></div></div></div><div class=\"sk-item\"><div class=\"sk-estimator sk-toggleable\"><input class=\"sk-toggleable__control sk-hidden--visually\" id=\"sk-estimator-id-4\" type=\"checkbox\" ><label for=\"sk-estimator-id-4\" class=\"sk-toggleable__label sk-toggleable__label-arrow\">FunctionTransformer</label><div class=\"sk-toggleable__content\"><pre>FunctionTransformer(func=&lt;__main__.ColumnCatEncoder object at 0x000002114754A200&gt;)</pre></div></div></div><div class=\"sk-item\"><div class=\"sk-estimator sk-toggleable\"><input class=\"sk-toggleable__control sk-hidden--visually\" id=\"sk-estimator-id-5\" type=\"checkbox\" ><label for=\"sk-estimator-id-5\" class=\"sk-toggleable__label sk-toggleable__label-arrow\">FunctionTransformer</label><div class=\"sk-toggleable__content\"><pre>FunctionTransformer(func=&lt;__main__.ColumnCatEncoderChance object at 0x000002114754A2C0&gt;)</pre></div></div></div><div class=\"sk-item\"><div class=\"sk-estimator sk-toggleable\"><input class=\"sk-toggleable__control sk-hidden--visually\" id=\"sk-estimator-id-6\" type=\"checkbox\" ><label for=\"sk-estimator-id-6\" class=\"sk-toggleable__label sk-toggleable__label-arrow\">FunctionTransformer</label><div class=\"sk-toggleable__content\"><pre>FunctionTransformer(func=&lt;__main__.ColumnCatEncoder object at 0x000002114754A350&gt;)</pre></div></div></div><div class=\"sk-item\"><div class=\"sk-estimator sk-toggleable\"><input class=\"sk-toggleable__control sk-hidden--visually\" id=\"sk-estimator-id-7\" type=\"checkbox\" ><label for=\"sk-estimator-id-7\" class=\"sk-toggleable__label sk-toggleable__label-arrow\">FunctionTransformer</label><div class=\"sk-toggleable__content\"><pre>FunctionTransformer(func=&lt;__main__.ColumnCatEncoderChance object at 0x000002114754A3E0&gt;)</pre></div></div></div><div class=\"sk-item\"><div class=\"sk-estimator sk-toggleable\"><input class=\"sk-toggleable__control sk-hidden--visually\" id=\"sk-estimator-id-8\" type=\"checkbox\" ><label for=\"sk-estimator-id-8\" class=\"sk-toggleable__label sk-toggleable__label-arrow\">FunctionTransformer</label><div class=\"sk-toggleable__content\"><pre>FunctionTransformer(func=&lt;__main__.ColumnCatEncoderChance object at 0x000002114754A470&gt;)</pre></div></div></div><div class=\"sk-item\"><div class=\"sk-estimator sk-toggleable\"><input class=\"sk-toggleable__control sk-hidden--visually\" id=\"sk-estimator-id-9\" type=\"checkbox\" ><label for=\"sk-estimator-id-9\" class=\"sk-toggleable__label sk-toggleable__label-arrow\">FunctionTransformer</label><div class=\"sk-toggleable__content\"><pre>FunctionTransformer(func=&lt;__main__.ColumnCatEncoderChance object at 0x000002114754A500&gt;)</pre></div></div></div><div class=\"sk-item\"><div class=\"sk-estimator sk-toggleable\"><input class=\"sk-toggleable__control sk-hidden--visually\" id=\"sk-estimator-id-10\" type=\"checkbox\" ><label for=\"sk-estimator-id-10\" class=\"sk-toggleable__label sk-toggleable__label-arrow\">FunctionTransformer</label><div class=\"sk-toggleable__content\"><pre>FunctionTransformer(func=&lt;__main__.ColumnCatEncoderChance object at 0x000002114754A590&gt;)</pre></div></div></div><div class=\"sk-item\"><div class=\"sk-estimator sk-toggleable\"><input class=\"sk-toggleable__control sk-hidden--visually\" id=\"sk-estimator-id-11\" type=\"checkbox\" ><label for=\"sk-estimator-id-11\" class=\"sk-toggleable__label sk-toggleable__label-arrow\">FunctionTransformer</label><div class=\"sk-toggleable__content\"><pre>FunctionTransformer(func=&lt;__main__.ColumnCatEncoder object at 0x000002114754A620&gt;)</pre></div></div></div><div class=\"sk-item\"><div class=\"sk-estimator sk-toggleable\"><input class=\"sk-toggleable__control sk-hidden--visually\" id=\"sk-estimator-id-12\" type=\"checkbox\" ><label for=\"sk-estimator-id-12\" class=\"sk-toggleable__label sk-toggleable__label-arrow\">FunctionTransformer</label><div class=\"sk-toggleable__content\"><pre>FunctionTransformer(func=&lt;__main__.ColumnCatEncoder object at 0x000002114754A6B0&gt;)</pre></div></div></div><div class=\"sk-item\"><div class=\"sk-estimator sk-toggleable\"><input class=\"sk-toggleable__control sk-hidden--visually\" id=\"sk-estimator-id-13\" type=\"checkbox\" ><label for=\"sk-estimator-id-13\" class=\"sk-toggleable__label sk-toggleable__label-arrow\">FunctionTransformer</label><div class=\"sk-toggleable__content\"><pre>FunctionTransformer(func=&lt;__main__.ColumnCatEncoder object at 0x000002114754A740&gt;)</pre></div></div></div><div class=\"sk-item\"><div class=\"sk-estimator sk-toggleable\"><input class=\"sk-toggleable__control sk-hidden--visually\" id=\"sk-estimator-id-14\" type=\"checkbox\" ><label for=\"sk-estimator-id-14\" class=\"sk-toggleable__label sk-toggleable__label-arrow\">FunctionTransformer</label><div class=\"sk-toggleable__content\"><pre>FunctionTransformer(func=&lt;__main__.ColumnCatEncoderChance object at 0x000002114754A7D0&gt;)</pre></div></div></div><div class=\"sk-item\"><div class=\"sk-estimator sk-toggleable\"><input class=\"sk-toggleable__control sk-hidden--visually\" id=\"sk-estimator-id-15\" type=\"checkbox\" ><label for=\"sk-estimator-id-15\" class=\"sk-toggleable__label sk-toggleable__label-arrow\">FunctionTransformer</label><div class=\"sk-toggleable__content\"><pre>FunctionTransformer(func=&lt;__main__.ColumnCatEncoder object at 0x000002114754A860&gt;)</pre></div></div></div><div class=\"sk-item\"><div class=\"sk-estimator sk-toggleable\"><input class=\"sk-toggleable__control sk-hidden--visually\" id=\"sk-estimator-id-16\" type=\"checkbox\" ><label for=\"sk-estimator-id-16\" class=\"sk-toggleable__label sk-toggleable__label-arrow\">FunctionTransformer</label><div class=\"sk-toggleable__content\"><pre>FunctionTransformer(func=&lt;__main__.ColumnCatEncoderChance object at 0x000002114754A8F0&gt;)</pre></div></div></div><div class=\"sk-item\"><div class=\"sk-estimator sk-toggleable\"><input class=\"sk-toggleable__control sk-hidden--visually\" id=\"sk-estimator-id-17\" type=\"checkbox\" ><label for=\"sk-estimator-id-17\" class=\"sk-toggleable__label sk-toggleable__label-arrow\">FunctionTransformer</label><div class=\"sk-toggleable__content\"><pre>FunctionTransformer(func=&lt;__main__.ColumnCatEncoder object at 0x000002114754A980&gt;)</pre></div></div></div><div class=\"sk-item\"><div class=\"sk-estimator sk-toggleable\"><input class=\"sk-toggleable__control sk-hidden--visually\" id=\"sk-estimator-id-18\" type=\"checkbox\" ><label for=\"sk-estimator-id-18\" class=\"sk-toggleable__label sk-toggleable__label-arrow\">FunctionTransformer</label><div class=\"sk-toggleable__content\"><pre>FunctionTransformer(func=&lt;__main__.ColumnCatEncoder object at 0x000002114754AA10&gt;)</pre></div></div></div><div class=\"sk-item\"><div class=\"sk-estimator sk-toggleable\"><input class=\"sk-toggleable__control sk-hidden--visually\" id=\"sk-estimator-id-19\" type=\"checkbox\" ><label for=\"sk-estimator-id-19\" class=\"sk-toggleable__label sk-toggleable__label-arrow\">FunctionTransformer</label><div class=\"sk-toggleable__content\"><pre>FunctionTransformer(func=&lt;__main__.ColumnCatEncoderChance object at 0x000002114754AAA0&gt;)</pre></div></div></div><div class=\"sk-item\"><div class=\"sk-estimator sk-toggleable\"><input class=\"sk-toggleable__control sk-hidden--visually\" id=\"sk-estimator-id-20\" type=\"checkbox\" ><label for=\"sk-estimator-id-20\" class=\"sk-toggleable__label sk-toggleable__label-arrow\">FunctionTransformer</label><div class=\"sk-toggleable__content\"><pre>FunctionTransformer(func=&lt;__main__.ColumnCatEncoder object at 0x000002114754AB30&gt;)</pre></div></div></div><div class=\"sk-item\"><div class=\"sk-estimator sk-toggleable\"><input class=\"sk-toggleable__control sk-hidden--visually\" id=\"sk-estimator-id-21\" type=\"checkbox\" ><label for=\"sk-estimator-id-21\" class=\"sk-toggleable__label sk-toggleable__label-arrow\">FunctionTransformer</label><div class=\"sk-toggleable__content\"><pre>FunctionTransformer(func=&lt;__main__.ColumnCatEncoder object at 0x000002114754ABC0&gt;)</pre></div></div></div><div class=\"sk-item\"><div class=\"sk-estimator sk-toggleable\"><input class=\"sk-toggleable__control sk-hidden--visually\" id=\"sk-estimator-id-22\" type=\"checkbox\" ><label for=\"sk-estimator-id-22\" class=\"sk-toggleable__label sk-toggleable__label-arrow\">FunctionTransformer</label><div class=\"sk-toggleable__content\"><pre>FunctionTransformer(func=&lt;__main__.ColumnCatEncoder object at 0x000002114754AC50&gt;)</pre></div></div></div><div class=\"sk-item\"><div class=\"sk-estimator sk-toggleable\"><input class=\"sk-toggleable__control sk-hidden--visually\" id=\"sk-estimator-id-23\" type=\"checkbox\" ><label for=\"sk-estimator-id-23\" class=\"sk-toggleable__label sk-toggleable__label-arrow\">FunctionTransformer</label><div class=\"sk-toggleable__content\"><pre>FunctionTransformer(func=&lt;__main__.ColumnCatEncoderChance object at 0x000002114754ACE0&gt;)</pre></div></div></div><div class=\"sk-item\"><div class=\"sk-estimator sk-toggleable\"><input class=\"sk-toggleable__control sk-hidden--visually\" id=\"sk-estimator-id-24\" type=\"checkbox\" ><label for=\"sk-estimator-id-24\" class=\"sk-toggleable__label sk-toggleable__label-arrow\">FunctionTransformer</label><div class=\"sk-toggleable__content\"><pre>FunctionTransformer(func=&lt;__main__.ColumnCatEncoderChance object at 0x000002114754AD70&gt;)</pre></div></div></div><div class=\"sk-item\"><div class=\"sk-estimator sk-toggleable\"><input class=\"sk-toggleable__control sk-hidden--visually\" id=\"sk-estimator-id-25\" type=\"checkbox\" ><label for=\"sk-estimator-id-25\" class=\"sk-toggleable__label sk-toggleable__label-arrow\">FunctionTransformer</label><div class=\"sk-toggleable__content\"><pre>FunctionTransformer(func=&lt;__main__.ColumnCatEncoderChance object at 0x000002114754AE00&gt;)</pre></div></div></div><div class=\"sk-item\"><div class=\"sk-estimator sk-toggleable\"><input class=\"sk-toggleable__control sk-hidden--visually\" id=\"sk-estimator-id-26\" type=\"checkbox\" ><label for=\"sk-estimator-id-26\" class=\"sk-toggleable__label sk-toggleable__label-arrow\">FunctionTransformer</label><div class=\"sk-toggleable__content\"><pre>FunctionTransformer(func=&lt;__main__.ColumnCatEncoderChance object at 0x000002114754AE90&gt;)</pre></div></div></div><div class=\"sk-item\"><div class=\"sk-estimator sk-toggleable\"><input class=\"sk-toggleable__control sk-hidden--visually\" id=\"sk-estimator-id-27\" type=\"checkbox\" ><label for=\"sk-estimator-id-27\" class=\"sk-toggleable__label sk-toggleable__label-arrow\">FunctionTransformer</label><div class=\"sk-toggleable__content\"><pre>FunctionTransformer(func=&lt;__main__.ColumnCatEncoderChance object at 0x000002114754AF20&gt;)</pre></div></div></div><div class=\"sk-item\"><div class=\"sk-estimator sk-toggleable\"><input class=\"sk-toggleable__control sk-hidden--visually\" id=\"sk-estimator-id-28\" type=\"checkbox\" ><label for=\"sk-estimator-id-28\" class=\"sk-toggleable__label sk-toggleable__label-arrow\">FunctionTransformer</label><div class=\"sk-toggleable__content\"><pre>FunctionTransformer(func=&lt;__main__.ColumnCatEncoderChance object at 0x000002114754AFB0&gt;)</pre></div></div></div><div class=\"sk-item\"><div class=\"sk-estimator sk-toggleable\"><input class=\"sk-toggleable__control sk-hidden--visually\" id=\"sk-estimator-id-29\" type=\"checkbox\" ><label for=\"sk-estimator-id-29\" class=\"sk-toggleable__label sk-toggleable__label-arrow\">FunctionTransformer</label><div class=\"sk-toggleable__content\"><pre>FunctionTransformer(func=&lt;__main__.ColumnCatEncoderChance object at 0x000002114754B040&gt;)</pre></div></div></div><div class=\"sk-item\"><div class=\"sk-estimator sk-toggleable\"><input class=\"sk-toggleable__control sk-hidden--visually\" id=\"sk-estimator-id-30\" type=\"checkbox\" ><label for=\"sk-estimator-id-30\" class=\"sk-toggleable__label sk-toggleable__label-arrow\">FunctionTransformer</label><div class=\"sk-toggleable__content\"><pre>FunctionTransformer(func=&lt;__main__.ColumnCatEncoderChance object at 0x000002114754B0D0&gt;)</pre></div></div></div><div class=\"sk-item\"><div class=\"sk-estimator sk-toggleable\"><input class=\"sk-toggleable__control sk-hidden--visually\" id=\"sk-estimator-id-31\" type=\"checkbox\" ><label for=\"sk-estimator-id-31\" class=\"sk-toggleable__label sk-toggleable__label-arrow\">FunctionTransformer</label><div class=\"sk-toggleable__content\"><pre>FunctionTransformer(func=&lt;__main__.ColumnCatEncoderChance object at 0x000002114754B160&gt;)</pre></div></div></div><div class=\"sk-item\"><div class=\"sk-estimator sk-toggleable\"><input class=\"sk-toggleable__control sk-hidden--visually\" id=\"sk-estimator-id-32\" type=\"checkbox\" ><label for=\"sk-estimator-id-32\" class=\"sk-toggleable__label sk-toggleable__label-arrow\">FunctionTransformer</label><div class=\"sk-toggleable__content\"><pre>FunctionTransformer(func=&lt;__main__.ColumnCatEncoderChance object at 0x000002114754B1F0&gt;)</pre></div></div></div><div class=\"sk-item\"><div class=\"sk-estimator sk-toggleable\"><input class=\"sk-toggleable__control sk-hidden--visually\" id=\"sk-estimator-id-33\" type=\"checkbox\" ><label for=\"sk-estimator-id-33\" class=\"sk-toggleable__label sk-toggleable__label-arrow\">FunctionTransformer</label><div class=\"sk-toggleable__content\"><pre>FunctionTransformer(func=&lt;__main__.ColumnCatEncoderChance object at 0x000002114754B280&gt;)</pre></div></div></div><div class=\"sk-item\"><div class=\"sk-estimator sk-toggleable\"><input class=\"sk-toggleable__control sk-hidden--visually\" id=\"sk-estimator-id-34\" type=\"checkbox\" ><label for=\"sk-estimator-id-34\" class=\"sk-toggleable__label sk-toggleable__label-arrow\">FunctionTransformer</label><div class=\"sk-toggleable__content\"><pre>FunctionTransformer(func=&lt;__main__.ColumnCatEncoderChance object at 0x000002114754B310&gt;)</pre></div></div></div><div class=\"sk-item\"><div class=\"sk-estimator sk-toggleable\"><input class=\"sk-toggleable__control sk-hidden--visually\" id=\"sk-estimator-id-35\" type=\"checkbox\" ><label for=\"sk-estimator-id-35\" class=\"sk-toggleable__label sk-toggleable__label-arrow\">FunctionTransformer</label><div class=\"sk-toggleable__content\"><pre>FunctionTransformer(func=&lt;__main__.ColumnCatEncoderChance object at 0x000002114754B3A0&gt;)</pre></div></div></div><div class=\"sk-item\"><div class=\"sk-estimator sk-toggleable\"><input class=\"sk-toggleable__control sk-hidden--visually\" id=\"sk-estimator-id-36\" type=\"checkbox\" ><label for=\"sk-estimator-id-36\" class=\"sk-toggleable__label sk-toggleable__label-arrow\">FunctionTransformer</label><div class=\"sk-toggleable__content\"><pre>FunctionTransformer(func=&lt;__main__.ColumnCatEncoderChance object at 0x000002114754B430&gt;)</pre></div></div></div><div class=\"sk-item\"><div class=\"sk-estimator sk-toggleable\"><input class=\"sk-toggleable__control sk-hidden--visually\" id=\"sk-estimator-id-37\" type=\"checkbox\" ><label for=\"sk-estimator-id-37\" class=\"sk-toggleable__label sk-toggleable__label-arrow\">FunctionTransformer</label><div class=\"sk-toggleable__content\"><pre>FunctionTransformer(func=&lt;__main__.ColumnCatEncoderChance object at 0x000002114754B4C0&gt;)</pre></div></div></div><div class=\"sk-item\"><div class=\"sk-estimator sk-toggleable\"><input class=\"sk-toggleable__control sk-hidden--visually\" id=\"sk-estimator-id-38\" type=\"checkbox\" ><label for=\"sk-estimator-id-38\" class=\"sk-toggleable__label sk-toggleable__label-arrow\">FunctionTransformer</label><div class=\"sk-toggleable__content\"><pre>FunctionTransformer(func=&lt;__main__.ColumnCatEncoderChance object at 0x000002114754B550&gt;)</pre></div></div></div><div class=\"sk-item\"><div class=\"sk-estimator sk-toggleable\"><input class=\"sk-toggleable__control sk-hidden--visually\" id=\"sk-estimator-id-39\" type=\"checkbox\" ><label for=\"sk-estimator-id-39\" class=\"sk-toggleable__label sk-toggleable__label-arrow\">FunctionTransformer</label><div class=\"sk-toggleable__content\"><pre>FunctionTransformer(func=&lt;__main__.ColumnCatEncoderChance object at 0x000002114754B5E0&gt;)</pre></div></div></div><div class=\"sk-item\"><div class=\"sk-estimator sk-toggleable\"><input class=\"sk-toggleable__control sk-hidden--visually\" id=\"sk-estimator-id-40\" type=\"checkbox\" ><label for=\"sk-estimator-id-40\" class=\"sk-toggleable__label sk-toggleable__label-arrow\">FunctionTransformer</label><div class=\"sk-toggleable__content\"><pre>FunctionTransformer(func=&lt;__main__.ColumnCatEncoderChance object at 0x000002114754B670&gt;)</pre></div></div></div><div class=\"sk-item\"><div class=\"sk-estimator sk-toggleable\"><input class=\"sk-toggleable__control sk-hidden--visually\" id=\"sk-estimator-id-41\" type=\"checkbox\" ><label for=\"sk-estimator-id-41\" class=\"sk-toggleable__label sk-toggleable__label-arrow\">FunctionTransformer</label><div class=\"sk-toggleable__content\"><pre>FunctionTransformer(func=&lt;__main__.ColumnCatEncoderChance object at 0x000002114754B700&gt;)</pre></div></div></div><div class=\"sk-item\"><div class=\"sk-estimator sk-toggleable\"><input class=\"sk-toggleable__control sk-hidden--visually\" id=\"sk-estimator-id-42\" type=\"checkbox\" ><label for=\"sk-estimator-id-42\" class=\"sk-toggleable__label sk-toggleable__label-arrow\">FunctionTransformer</label><div class=\"sk-toggleable__content\"><pre>FunctionTransformer(func=&lt;__main__.LogBaseEncoder object at 0x00000211446BBD00&gt;)</pre></div></div></div><div class=\"sk-item\"><div class=\"sk-estimator sk-toggleable\"><input class=\"sk-toggleable__control sk-hidden--visually\" id=\"sk-estimator-id-43\" type=\"checkbox\" ><label for=\"sk-estimator-id-43\" class=\"sk-toggleable__label sk-toggleable__label-arrow\">FunctionTransformer</label><div class=\"sk-toggleable__content\"><pre>FunctionTransformer(func=&lt;__main__.LogBaseEncoder object at 0x0000021147549CF0&gt;)</pre></div></div></div><div class=\"sk-item\"><div class=\"sk-estimator sk-toggleable\"><input class=\"sk-toggleable__control sk-hidden--visually\" id=\"sk-estimator-id-44\" type=\"checkbox\" ><label for=\"sk-estimator-id-44\" class=\"sk-toggleable__label sk-toggleable__label-arrow\">FunctionTransformer</label><div class=\"sk-toggleable__content\"><pre>FunctionTransformer(func=&lt;__main__.LogBaseEncoder object at 0x000002114754B7F0&gt;)</pre></div></div></div><div class=\"sk-item\"><div class=\"sk-estimator sk-toggleable\"><input class=\"sk-toggleable__control sk-hidden--visually\" id=\"sk-estimator-id-45\" type=\"checkbox\" ><label for=\"sk-estimator-id-45\" class=\"sk-toggleable__label sk-toggleable__label-arrow\">FunctionTransformer</label><div class=\"sk-toggleable__content\"><pre>FunctionTransformer(func=&lt;__main__.LogBaseEncoder object at 0x000002114754B880&gt;)</pre></div></div></div><div class=\"sk-item\"><div class=\"sk-estimator sk-toggleable\"><input class=\"sk-toggleable__control sk-hidden--visually\" id=\"sk-estimator-id-46\" type=\"checkbox\" ><label for=\"sk-estimator-id-46\" class=\"sk-toggleable__label sk-toggleable__label-arrow\">FunctionTransformer</label><div class=\"sk-toggleable__content\"><pre>FunctionTransformer(func=&lt;__main__.LogBaseEncoder object at 0x000002114754B910&gt;)</pre></div></div></div><div class=\"sk-item\"><div class=\"sk-estimator sk-toggleable\"><input class=\"sk-toggleable__control sk-hidden--visually\" id=\"sk-estimator-id-47\" type=\"checkbox\" ><label for=\"sk-estimator-id-47\" class=\"sk-toggleable__label sk-toggleable__label-arrow\">FunctionTransformer</label><div class=\"sk-toggleable__content\"><pre>FunctionTransformer(func=&lt;__main__.LogBaseEncoder object at 0x000002114754B9A0&gt;)</pre></div></div></div><div class=\"sk-item\"><div class=\"sk-estimator sk-toggleable\"><input class=\"sk-toggleable__control sk-hidden--visually\" id=\"sk-estimator-id-48\" type=\"checkbox\" ><label for=\"sk-estimator-id-48\" class=\"sk-toggleable__label sk-toggleable__label-arrow\">FunctionTransformer</label><div class=\"sk-toggleable__content\"><pre>FunctionTransformer(func=&lt;__main__.LogBaseEncoder object at 0x000002114754BA30&gt;)</pre></div></div></div><div class=\"sk-item\"><div class=\"sk-estimator sk-toggleable\"><input class=\"sk-toggleable__control sk-hidden--visually\" id=\"sk-estimator-id-49\" type=\"checkbox\" ><label for=\"sk-estimator-id-49\" class=\"sk-toggleable__label sk-toggleable__label-arrow\">FunctionTransformer</label><div class=\"sk-toggleable__content\"><pre>FunctionTransformer(func=&lt;__main__.LogBaseEncoder object at 0x000002114754BAC0&gt;)</pre></div></div></div><div class=\"sk-item\"><div class=\"sk-estimator sk-toggleable\"><input class=\"sk-toggleable__control sk-hidden--visually\" id=\"sk-estimator-id-50\" type=\"checkbox\" ><label for=\"sk-estimator-id-50\" class=\"sk-toggleable__label sk-toggleable__label-arrow\">FunctionTransformer</label><div class=\"sk-toggleable__content\"><pre>FunctionTransformer(func=&lt;__main__.LogBaseEncoder object at 0x000002114754BB50&gt;)</pre></div></div></div><div class=\"sk-item\"><div class=\"sk-estimator sk-toggleable\"><input class=\"sk-toggleable__control sk-hidden--visually\" id=\"sk-estimator-id-51\" type=\"checkbox\" ><label for=\"sk-estimator-id-51\" class=\"sk-toggleable__label sk-toggleable__label-arrow\">FunctionTransformer</label><div class=\"sk-toggleable__content\"><pre>FunctionTransformer(func=&lt;__main__.LogBaseEncoder object at 0x000002114754BBE0&gt;)</pre></div></div></div><div class=\"sk-item\"><div class=\"sk-estimator sk-toggleable\"><input class=\"sk-toggleable__control sk-hidden--visually\" id=\"sk-estimator-id-52\" type=\"checkbox\" ><label for=\"sk-estimator-id-52\" class=\"sk-toggleable__label sk-toggleable__label-arrow\">FunctionTransformer</label><div class=\"sk-toggleable__content\"><pre>FunctionTransformer(func=&lt;__main__.LogBaseEncoder object at 0x000002114754BC70&gt;)</pre></div></div></div><div class=\"sk-item\"><div class=\"sk-estimator sk-toggleable\"><input class=\"sk-toggleable__control sk-hidden--visually\" id=\"sk-estimator-id-53\" type=\"checkbox\" ><label for=\"sk-estimator-id-53\" class=\"sk-toggleable__label sk-toggleable__label-arrow\">FunctionTransformer</label><div class=\"sk-toggleable__content\"><pre>FunctionTransformer(func=&lt;__main__.LogBaseEncoder object at 0x000002114754BD00&gt;)</pre></div></div></div><div class=\"sk-item\"><div class=\"sk-estimator sk-toggleable\"><input class=\"sk-toggleable__control sk-hidden--visually\" id=\"sk-estimator-id-54\" type=\"checkbox\" ><label for=\"sk-estimator-id-54\" class=\"sk-toggleable__label sk-toggleable__label-arrow\">FunctionTransformer</label><div class=\"sk-toggleable__content\"><pre>FunctionTransformer(func=&lt;__main__.LogBaseEncoder object at 0x000002114754BD90&gt;)</pre></div></div></div><div class=\"sk-item\"><div class=\"sk-estimator sk-toggleable\"><input class=\"sk-toggleable__control sk-hidden--visually\" id=\"sk-estimator-id-55\" type=\"checkbox\" ><label for=\"sk-estimator-id-55\" class=\"sk-toggleable__label sk-toggleable__label-arrow\">FunctionTransformer</label><div class=\"sk-toggleable__content\"><pre>FunctionTransformer(func=&lt;__main__.LogBaseEncoder object at 0x000002114754BE20&gt;)</pre></div></div></div><div class=\"sk-item\"><div class=\"sk-estimator sk-toggleable\"><input class=\"sk-toggleable__control sk-hidden--visually\" id=\"sk-estimator-id-56\" type=\"checkbox\" ><label for=\"sk-estimator-id-56\" class=\"sk-toggleable__label sk-toggleable__label-arrow\">FunctionTransformer</label><div class=\"sk-toggleable__content\"><pre>FunctionTransformer(func=&lt;__main__.LogBaseEncoder object at 0x000002114754BEB0&gt;)</pre></div></div></div><div class=\"sk-item\"><div class=\"sk-estimator sk-toggleable\"><input class=\"sk-toggleable__control sk-hidden--visually\" id=\"sk-estimator-id-57\" type=\"checkbox\" ><label for=\"sk-estimator-id-57\" class=\"sk-toggleable__label sk-toggleable__label-arrow\">FunctionTransformer</label><div class=\"sk-toggleable__content\"><pre>FunctionTransformer(func=&lt;__main__.LogBaseEncoder object at 0x000002114754BF40&gt;)</pre></div></div></div><div class=\"sk-item\"><div class=\"sk-estimator sk-toggleable\"><input class=\"sk-toggleable__control sk-hidden--visually\" id=\"sk-estimator-id-58\" type=\"checkbox\" ><label for=\"sk-estimator-id-58\" class=\"sk-toggleable__label sk-toggleable__label-arrow\">FunctionTransformer</label><div class=\"sk-toggleable__content\"><pre>FunctionTransformer(func=&lt;__main__.LogBaseEncoder object at 0x000002114754BFD0&gt;)</pre></div></div></div><div class=\"sk-item\"><div class=\"sk-estimator sk-toggleable\"><input class=\"sk-toggleable__control sk-hidden--visually\" id=\"sk-estimator-id-59\" type=\"checkbox\" ><label for=\"sk-estimator-id-59\" class=\"sk-toggleable__label sk-toggleable__label-arrow\">FunctionTransformer</label><div class=\"sk-toggleable__content\"><pre>FunctionTransformer(func=&lt;__main__.LogBaseEncoder object at 0x000002114757C0A0&gt;)</pre></div></div></div><div class=\"sk-item\"><div class=\"sk-estimator sk-toggleable\"><input class=\"sk-toggleable__control sk-hidden--visually\" id=\"sk-estimator-id-60\" type=\"checkbox\" ><label for=\"sk-estimator-id-60\" class=\"sk-toggleable__label sk-toggleable__label-arrow\">FunctionTransformer</label><div class=\"sk-toggleable__content\"><pre>FunctionTransformer(func=&lt;__main__.LogBaseEncoder object at 0x000002114757C130&gt;)</pre></div></div></div><div class=\"sk-item\"><div class=\"sk-estimator sk-toggleable\"><input class=\"sk-toggleable__control sk-hidden--visually\" id=\"sk-estimator-id-61\" type=\"checkbox\" ><label for=\"sk-estimator-id-61\" class=\"sk-toggleable__label sk-toggleable__label-arrow\">FunctionTransformer</label><div class=\"sk-toggleable__content\"><pre>FunctionTransformer(func=&lt;__main__.LogBaseEncoder object at 0x000002114757C1C0&gt;)</pre></div></div></div><div class=\"sk-item\"><div class=\"sk-estimator sk-toggleable\"><input class=\"sk-toggleable__control sk-hidden--visually\" id=\"sk-estimator-id-62\" type=\"checkbox\" ><label for=\"sk-estimator-id-62\" class=\"sk-toggleable__label sk-toggleable__label-arrow\">FunctionTransformer</label><div class=\"sk-toggleable__content\"><pre>FunctionTransformer(func=&lt;__main__.LogBaseEncoder object at 0x000002114757C250&gt;)</pre></div></div></div><div class=\"sk-item\"><div class=\"sk-estimator sk-toggleable\"><input class=\"sk-toggleable__control sk-hidden--visually\" id=\"sk-estimator-id-63\" type=\"checkbox\" ><label for=\"sk-estimator-id-63\" class=\"sk-toggleable__label sk-toggleable__label-arrow\">FunctionTransformer</label><div class=\"sk-toggleable__content\"><pre>FunctionTransformer(func=&lt;__main__.LogBaseEncoder object at 0x000002114757C2E0&gt;)</pre></div></div></div><div class=\"sk-item\"><div class=\"sk-estimator sk-toggleable\"><input class=\"sk-toggleable__control sk-hidden--visually\" id=\"sk-estimator-id-64\" type=\"checkbox\" ><label for=\"sk-estimator-id-64\" class=\"sk-toggleable__label sk-toggleable__label-arrow\">FunctionTransformer</label><div class=\"sk-toggleable__content\"><pre>FunctionTransformer(func=&lt;__main__.LogBaseEncoder object at 0x000002114757C370&gt;)</pre></div></div></div><div class=\"sk-item\"><div class=\"sk-estimator sk-toggleable\"><input class=\"sk-toggleable__control sk-hidden--visually\" id=\"sk-estimator-id-65\" type=\"checkbox\" ><label for=\"sk-estimator-id-65\" class=\"sk-toggleable__label sk-toggleable__label-arrow\">FunctionTransformer</label><div class=\"sk-toggleable__content\"><pre>FunctionTransformer(func=&lt;__main__.LogBaseEncoder object at 0x000002114757C400&gt;)</pre></div></div></div><div class=\"sk-item\"><div class=\"sk-estimator sk-toggleable\"><input class=\"sk-toggleable__control sk-hidden--visually\" id=\"sk-estimator-id-66\" type=\"checkbox\" ><label for=\"sk-estimator-id-66\" class=\"sk-toggleable__label sk-toggleable__label-arrow\">FunctionTransformer</label><div class=\"sk-toggleable__content\"><pre>FunctionTransformer(func=&lt;__main__.LogBaseEncoder object at 0x000002114757C490&gt;)</pre></div></div></div><div class=\"sk-item\"><div class=\"sk-estimator sk-toggleable\"><input class=\"sk-toggleable__control sk-hidden--visually\" id=\"sk-estimator-id-67\" type=\"checkbox\" ><label for=\"sk-estimator-id-67\" class=\"sk-toggleable__label sk-toggleable__label-arrow\">FunctionTransformer</label><div class=\"sk-toggleable__content\"><pre>FunctionTransformer(func=&lt;__main__.LogBaseEncoder object at 0x000002114757C520&gt;)</pre></div></div></div><div class=\"sk-item\"><div class=\"sk-estimator sk-toggleable\"><input class=\"sk-toggleable__control sk-hidden--visually\" id=\"sk-estimator-id-68\" type=\"checkbox\" ><label for=\"sk-estimator-id-68\" class=\"sk-toggleable__label sk-toggleable__label-arrow\">FunctionTransformer</label><div class=\"sk-toggleable__content\"><pre>FunctionTransformer(func=&lt;__main__.LogBaseEncoder object at 0x000002114757C5B0&gt;)</pre></div></div></div><div class=\"sk-item\"><div class=\"sk-estimator sk-toggleable\"><input class=\"sk-toggleable__control sk-hidden--visually\" id=\"sk-estimator-id-69\" type=\"checkbox\" ><label for=\"sk-estimator-id-69\" class=\"sk-toggleable__label sk-toggleable__label-arrow\">FunctionTransformer</label><div class=\"sk-toggleable__content\"><pre>FunctionTransformer(func=&lt;__main__.LogBaseEncoder object at 0x000002114757C640&gt;)</pre></div></div></div><div class=\"sk-item\"><div class=\"sk-estimator sk-toggleable\"><input class=\"sk-toggleable__control sk-hidden--visually\" id=\"sk-estimator-id-70\" type=\"checkbox\" ><label for=\"sk-estimator-id-70\" class=\"sk-toggleable__label sk-toggleable__label-arrow\">FunctionTransformer</label><div class=\"sk-toggleable__content\"><pre>FunctionTransformer(func=&lt;__main__.LogBaseEncoder object at 0x000002114757C6D0&gt;)</pre></div></div></div><div class=\"sk-item\"><div class=\"sk-estimator sk-toggleable\"><input class=\"sk-toggleable__control sk-hidden--visually\" id=\"sk-estimator-id-71\" type=\"checkbox\" ><label for=\"sk-estimator-id-71\" class=\"sk-toggleable__label sk-toggleable__label-arrow\">FunctionTransformer</label><div class=\"sk-toggleable__content\"><pre>FunctionTransformer(func=&lt;__main__.LogBaseEncoder object at 0x000002114757C760&gt;)</pre></div></div></div><div class=\"sk-item\"><div class=\"sk-estimator sk-toggleable\"><input class=\"sk-toggleable__control sk-hidden--visually\" id=\"sk-estimator-id-72\" type=\"checkbox\" ><label for=\"sk-estimator-id-72\" class=\"sk-toggleable__label sk-toggleable__label-arrow\">FunctionTransformer</label><div class=\"sk-toggleable__content\"><pre>FunctionTransformer(func=&lt;__main__.LogBaseEncoder object at 0x000002114757C7F0&gt;)</pre></div></div></div><div class=\"sk-item\"><div class=\"sk-estimator sk-toggleable\"><input class=\"sk-toggleable__control sk-hidden--visually\" id=\"sk-estimator-id-73\" type=\"checkbox\" ><label for=\"sk-estimator-id-73\" class=\"sk-toggleable__label sk-toggleable__label-arrow\">FunctionTransformer</label><div class=\"sk-toggleable__content\"><pre>FunctionTransformer(func=&lt;__main__.LogBaseEncoder object at 0x000002114757C880&gt;)</pre></div></div></div><div class=\"sk-item\"><div class=\"sk-estimator sk-toggleable\"><input class=\"sk-toggleable__control sk-hidden--visually\" id=\"sk-estimator-id-74\" type=\"checkbox\" ><label for=\"sk-estimator-id-74\" class=\"sk-toggleable__label sk-toggleable__label-arrow\">FunctionTransformer</label><div class=\"sk-toggleable__content\"><pre>FunctionTransformer(func=&lt;__main__.LogBaseEncoder object at 0x000002114757C910&gt;)</pre></div></div></div><div class=\"sk-item\"><div class=\"sk-estimator sk-toggleable\"><input class=\"sk-toggleable__control sk-hidden--visually\" id=\"sk-estimator-id-75\" type=\"checkbox\" ><label for=\"sk-estimator-id-75\" class=\"sk-toggleable__label sk-toggleable__label-arrow\">FunctionTransformer</label><div class=\"sk-toggleable__content\"><pre>FunctionTransformer(func=&lt;__main__.LogBaseEncoder object at 0x000002114757C9A0&gt;)</pre></div></div></div><div class=\"sk-item\"><div class=\"sk-estimator sk-toggleable\"><input class=\"sk-toggleable__control sk-hidden--visually\" id=\"sk-estimator-id-76\" type=\"checkbox\" ><label for=\"sk-estimator-id-76\" class=\"sk-toggleable__label sk-toggleable__label-arrow\">FunctionTransformer</label><div class=\"sk-toggleable__content\"><pre>FunctionTransformer(func=&lt;__main__.LogBaseEncoder object at 0x000002114757CA30&gt;)</pre></div></div></div><div class=\"sk-item\"><div class=\"sk-estimator sk-toggleable\"><input class=\"sk-toggleable__control sk-hidden--visually\" id=\"sk-estimator-id-77\" type=\"checkbox\" ><label for=\"sk-estimator-id-77\" class=\"sk-toggleable__label sk-toggleable__label-arrow\">FunctionTransformer</label><div class=\"sk-toggleable__content\"><pre>FunctionTransformer(func=&lt;__main__.LogBaseEncoder object at 0x000002114757CAC0&gt;)</pre></div></div></div><div class=\"sk-item\"><div class=\"sk-estimator sk-toggleable\"><input class=\"sk-toggleable__control sk-hidden--visually\" id=\"sk-estimator-id-78\" type=\"checkbox\" ><label for=\"sk-estimator-id-78\" class=\"sk-toggleable__label sk-toggleable__label-arrow\">FunctionTransformer</label><div class=\"sk-toggleable__content\"><pre>FunctionTransformer(func=&lt;__main__.LogBaseEncoder object at 0x000002114757CB50&gt;)</pre></div></div></div><div class=\"sk-item\"><div class=\"sk-estimator sk-toggleable\"><input class=\"sk-toggleable__control sk-hidden--visually\" id=\"sk-estimator-id-79\" type=\"checkbox\" ><label for=\"sk-estimator-id-79\" class=\"sk-toggleable__label sk-toggleable__label-arrow\">FunctionTransformer</label><div class=\"sk-toggleable__content\"><pre>FunctionTransformer(func=&lt;__main__.LogBaseEncoder object at 0x000002114757CBE0&gt;)</pre></div></div></div></div></div></div></div>"
      ],
      "text/plain": [
       "Pipeline(steps=[('functiontransformer-1',\n",
       "                 FunctionTransformer(func=<__main__.ColumnCatEncoder object at 0x00000211474FE3E0>)),\n",
       "                ('functiontransformer-2',\n",
       "                 FunctionTransformer(func=<__main__.ColumnCatEncoderChance object at 0x000002114754A170>)),\n",
       "                ('functiontransformer-3',\n",
       "                 FunctionTransformer(func=<__main__.ColumnCatEncoder object at 0x000002114754A200>)),\n",
       "                ('function...\n",
       "                 FunctionTransformer(func=<__main__.ColumnCatEncoderChance object at 0x000002114754AFB0>)),\n",
       "                ('functiontransformer-28',\n",
       "                 FunctionTransformer(func=<__main__.ColumnCatEncoderChance object at 0x000002114754B040>)),\n",
       "                ('functiontransformer-29',\n",
       "                 FunctionTransformer(func=<__main__.ColumnCatEncoderChance object at 0x000002114754B0D0>)),\n",
       "                ('functiontransformer-30',\n",
       "                 FunctionTransformer(func=<__main__.ColumnCatEncoderChance object at 0x000002114754B160>)), ...])"
      ]
     },
     "execution_count": 5,
     "metadata": {},
     "output_type": "execute_result"
    }
   ],
   "source": [
    "%%time\n",
    "pipe.fit(df)"
   ]
  },
  {
   "cell_type": "code",
   "execution_count": 6,
   "id": "d61a76f1-be81-40d5-8bb7-70d9efb10e33",
   "metadata": {},
   "outputs": [
    {
     "name": "stdout",
     "output_type": "stream",
     "text": [
      "CPU times: total: 1.45 s\n",
      "Wall time: 6.72 s\n"
     ]
    }
   ],
   "source": [
    "%%time\n",
    "train = pipe.transform(df)"
   ]
  },
  {
   "cell_type": "code",
   "execution_count": 7,
   "id": "c8c159b7-8363-458a-8d98-c429bdada2be",
   "metadata": {
    "tags": []
   },
   "outputs": [
    {
     "data": {
      "text/html": [
       "<div><style>\n",
       ".dataframe > thead > tr > th,\n",
       ".dataframe > tbody > tr > td {\n",
       "  text-align: right;\n",
       "}\n",
       "</style>\n",
       "<small>shape: (5, 110)</small><table border=\"1\" class=\"dataframe\"><thead><tr><th>f_0</th><th>f_1</th><th>f_2</th><th>f_4</th><th>f_6</th><th>f_11</th><th>f_12</th><th>f_13</th><th>f_15</th><th>f_17</th><th>f_18</th><th>f_20</th><th>f_21</th><th>f_22</th><th>f_42</th><th>f_43</th><th>f_44</th><th>f_45</th><th>f_46</th><th>f_47</th><th>f_48</th><th>f_49</th><th>f_50</th><th>f_51</th><th>f_52</th><th>f_53</th><th>f_54</th><th>f_55</th><th>f_56</th><th>f_57</th><th>f_58</th><th>f_59</th><th>f_60</th><th>f_61</th><th>f_62</th><th>f_63</th><th>f_64</th><th>&hellip;</th><th>f_23_inst</th><th>f_24_click</th><th>f_24_inst</th><th>f_25_click</th><th>f_25_inst</th><th>f_26_click</th><th>f_26_inst</th><th>f_27_click</th><th>f_27_inst</th><th>f_28_click</th><th>f_28_inst</th><th>f_29_click</th><th>f_29_inst</th><th>f_30_click</th><th>f_30_inst</th><th>f_31_click</th><th>f_31_inst</th><th>f_32_click</th><th>f_32_inst</th><th>f_33_click</th><th>f_33_inst</th><th>f_34_click</th><th>f_34_inst</th><th>f_35_click</th><th>f_35_inst</th><th>f_36_click</th><th>f_36_inst</th><th>f_37_click</th><th>f_37_inst</th><th>f_38_click</th><th>f_38_inst</th><th>f_39_click</th><th>f_39_inst</th><th>f_40_click</th><th>f_40_inst</th><th>f_41_click</th><th>f_41_inst</th></tr><tr><td>i64</td><td>i64</td><td>i64</td><td>i64</td><td>i64</td><td>i64</td><td>i64</td><td>i64</td><td>i64</td><td>i64</td><td>i64</td><td>i64</td><td>i64</td><td>i64</td><td>f64</td><td>f64</td><td>f64</td><td>f64</td><td>f64</td><td>f64</td><td>f64</td><td>f64</td><td>f64</td><td>f64</td><td>f64</td><td>f64</td><td>f64</td><td>f64</td><td>f64</td><td>f64</td><td>f64</td><td>f64</td><td>f64</td><td>f64</td><td>f64</td><td>f64</td><td>f64</td><td>&hellip;</td><td>f64</td><td>f64</td><td>f64</td><td>f64</td><td>f64</td><td>f64</td><td>f64</td><td>f64</td><td>f64</td><td>f64</td><td>f64</td><td>f64</td><td>f64</td><td>f64</td><td>f64</td><td>f64</td><td>f64</td><td>f64</td><td>f64</td><td>f64</td><td>f64</td><td>f64</td><td>f64</td><td>f64</td><td>f64</td><td>f64</td><td>f64</td><td>f64</td><td>f64</td><td>f64</td><td>f64</td><td>f64</td><td>f64</td><td>f64</td><td>f64</td><td>f64</td><td>f64</td></tr></thead><tbody><tr><td>2541162</td><td>51</td><td>125</td><td>615</td><td>5161</td><td>9</td><td>20</td><td>327</td><td>5789</td><td>43</td><td>899</td><td>45</td><td>33</td><td>23</td><td>0.056146</td><td>0.115488</td><td>-0.028767</td><td>-0.031928</td><td>-0.020947</td><td>-0.034987</td><td>-0.052131</td><td>-0.040579</td><td>0.989237</td><td>-0.282259</td><td>-0.050542</td><td>-0.104387</td><td>0.653084</td><td>0.25541</td><td>-0.087799</td><td>0.684768</td><td>-0.346807</td><td>-0.05513</td><td>-0.00685</td><td>-0.10213</td><td>0.028966</td><td>0.136635</td><td>-0.023027</td><td>&hellip;</td><td>0.178327</td><td>0.219865</td><td>0.178327</td><td>0.21989</td><td>0.178322</td><td>0.219669</td><td>0.174029</td><td>0.219669</td><td>0.174029</td><td>0.219669</td><td>0.174029</td><td>0.219669</td><td>0.174029</td><td>0.148095</td><td>0.113303</td><td>0.148095</td><td>0.113303</td><td>0.221899</td><td>0.156893</td><td>0.315789</td><td>0.182771</td><td>0.245159</td><td>0.184967</td><td>0.277864</td><td>0.188139</td><td>0.210722</td><td>0.170611</td><td>0.219768</td><td>0.177842</td><td>0.216472</td><td>0.176785</td><td>0.219483</td><td>0.173818</td><td>0.215644</td><td>0.171729</td><td>0.218238</td><td>0.173167</td></tr><tr><td>2541260</td><td>49</td><td>135</td><td>632</td><td>5164</td><td>19</td><td>24</td><td>328</td><td>5500</td><td>48</td><td>900</td><td>54</td><td>32</td><td>23</td><td>-0.083989</td><td>-0.405498</td><td>-0.028767</td><td>-0.031928</td><td>-0.020947</td><td>-0.034987</td><td>-0.052131</td><td>-0.040579</td><td>-0.062163</td><td>0.839139</td><td>-0.125328</td><td>-0.104387</td><td>-0.14403</td><td>-0.021474</td><td>-0.170255</td><td>-0.082985</td><td>0.010644</td><td>-0.055284</td><td>-0.00685</td><td>-0.10213</td><td>-0.068463</td><td>-0.097453</td><td>-0.022173</td><td>&hellip;</td><td>0.178327</td><td>0.219865</td><td>0.178327</td><td>0.21989</td><td>0.178322</td><td>0.219669</td><td>0.174029</td><td>0.219669</td><td>0.174029</td><td>0.219669</td><td>0.174029</td><td>0.219669</td><td>0.174029</td><td>0.148095</td><td>0.113303</td><td>0.148095</td><td>0.113303</td><td>0.221899</td><td>0.156893</td><td>0.213572</td><td>0.173447</td><td>0.1919</td><td>0.16194</td><td>0.20007</td><td>0.169209</td><td>0.210722</td><td>0.170611</td><td>0.219768</td><td>0.177842</td><td>0.216472</td><td>0.176785</td><td>0.219483</td><td>0.173818</td><td>0.215644</td><td>0.171729</td><td>0.218238</td><td>0.173167</td></tr><tr><td>2541318</td><td>51</td><td>135</td><td>632</td><td>5164</td><td>22</td><td>22</td><td>325</td><td>5395</td><td>46</td><td>898</td><td>54</td><td>32</td><td>23</td><td>-0.100948</td><td>-0.405819</td><td>-0.028767</td><td>-0.031928</td><td>-0.020947</td><td>-0.034987</td><td>-0.052131</td><td>-0.040579</td><td>-0.062163</td><td>0.638127</td><td>-0.125328</td><td>-0.104387</td><td>-0.14403</td><td>-0.191865</td><td>-0.170255</td><td>-0.220084</td><td>0.00689</td><td>-0.05592</td><td>-0.00685</td><td>-0.075478</td><td>-0.045979</td><td>-0.097453</td><td>-0.021183</td><td>&hellip;</td><td>0.178327</td><td>0.219865</td><td>0.178327</td><td>0.21989</td><td>0.178322</td><td>0.219669</td><td>0.174029</td><td>0.219669</td><td>0.174029</td><td>0.219669</td><td>0.174029</td><td>0.219669</td><td>0.174029</td><td>0.148095</td><td>0.113303</td><td>0.148095</td><td>0.113303</td><td>0.221899</td><td>0.156893</td><td>0.213572</td><td>0.173447</td><td>0.1919</td><td>0.16194</td><td>0.20007</td><td>0.169209</td><td>0.210722</td><td>0.170611</td><td>0.219768</td><td>0.177842</td><td>0.216472</td><td>0.176785</td><td>0.219483</td><td>0.173818</td><td>0.215644</td><td>0.171729</td><td>0.218238</td><td>0.173167</td></tr><tr><td>2541770</td><td>64</td><td>115</td><td>600</td><td>4618</td><td>21</td><td>23</td><td>324</td><td>5631</td><td>47</td><td>900</td><td>53</td><td>33</td><td>23</td><td>0.077866</td><td>0.52032</td><td>-0.028767</td><td>-0.031928</td><td>-0.020947</td><td>-0.034987</td><td>-0.052131</td><td>-0.040579</td><td>-0.062163</td><td>-0.338632</td><td>-0.050542</td><td>0.033247</td><td>0.005429</td><td>-0.170566</td><td>-0.129027</td><td>-0.206374</td><td>-0.08047</td><td>-0.056814</td><td>-0.00685</td><td>-0.075478</td><td>-0.068463</td><td>0.312201</td><td>-0.023797</td><td>&hellip;</td><td>0.178327</td><td>0.219865</td><td>0.178327</td><td>0.21989</td><td>0.178322</td><td>0.219669</td><td>0.174029</td><td>0.219669</td><td>0.174029</td><td>0.219669</td><td>0.174029</td><td>0.219669</td><td>0.174029</td><td>0.284952</td><td>0.229542</td><td>0.285276</td><td>0.229644</td><td>0.21026</td><td>0.200825</td><td>0.213572</td><td>0.173447</td><td>0.245159</td><td>0.184967</td><td>0.277864</td><td>0.188139</td><td>0.210722</td><td>0.170611</td><td>0.219768</td><td>0.177842</td><td>0.216472</td><td>0.176785</td><td>0.219483</td><td>0.173818</td><td>0.215644</td><td>0.171729</td><td>0.218238</td><td>0.173167</td></tr><tr><td>2542002</td><td>62</td><td>135</td><td>631</td><td>5166</td><td>22</td><td>24</td><td>324</td><td>5330</td><td>48</td><td>899</td><td>54</td><td>32</td><td>23</td><td>-0.089047</td><td>-0.405613</td><td>-0.028767</td><td>-0.031928</td><td>-0.020947</td><td>-0.034987</td><td>-0.052131</td><td>-0.040579</td><td>-0.062163</td><td>0.318304</td><td>-0.125328</td><td>-0.104387</td><td>-0.14403</td><td>-0.191865</td><td>-0.170255</td><td>-0.220084</td><td>0.061718</td><td>-0.056104</td><td>-0.00685</td><td>-0.10213</td><td>-0.068463</td><td>-0.068192</td><td>-0.021414</td><td>&hellip;</td><td>0.178327</td><td>0.219865</td><td>0.178327</td><td>0.21989</td><td>0.178322</td><td>0.219669</td><td>0.174029</td><td>0.219669</td><td>0.174029</td><td>0.219669</td><td>0.174029</td><td>0.219669</td><td>0.174029</td><td>0.284952</td><td>0.229542</td><td>0.285276</td><td>0.229644</td><td>0.221899</td><td>0.156893</td><td>0.213572</td><td>0.173447</td><td>0.1919</td><td>0.16194</td><td>0.20007</td><td>0.169209</td><td>0.210722</td><td>0.170611</td><td>0.219768</td><td>0.177842</td><td>0.216472</td><td>0.176785</td><td>0.219483</td><td>0.173818</td><td>0.215644</td><td>0.171729</td><td>0.218238</td><td>0.173167</td></tr></tbody></table></div>"
      ],
      "text/plain": [
       "shape: (5, 110)\n",
       "┌─────────┬─────┬─────┬─────┬───┬────────────┬───────────┬────────────┬───────────┐\n",
       "│ f_0     ┆ f_1 ┆ f_2 ┆ f_4 ┆ … ┆ f_40_click ┆ f_40_inst ┆ f_41_click ┆ f_41_inst │\n",
       "│ ---     ┆ --- ┆ --- ┆ --- ┆   ┆ ---        ┆ ---       ┆ ---        ┆ ---       │\n",
       "│ i64     ┆ i64 ┆ i64 ┆ i64 ┆   ┆ f64        ┆ f64       ┆ f64        ┆ f64       │\n",
       "╞═════════╪═════╪═════╪═════╪═══╪════════════╪═══════════╪════════════╪═══════════╡\n",
       "│ 2541162 ┆ 51  ┆ 125 ┆ 615 ┆ … ┆ 0.215644   ┆ 0.171729  ┆ 0.218238   ┆ 0.173167  │\n",
       "│ 2541260 ┆ 49  ┆ 135 ┆ 632 ┆ … ┆ 0.215644   ┆ 0.171729  ┆ 0.218238   ┆ 0.173167  │\n",
       "│ 2541318 ┆ 51  ┆ 135 ┆ 632 ┆ … ┆ 0.215644   ┆ 0.171729  ┆ 0.218238   ┆ 0.173167  │\n",
       "│ 2541770 ┆ 64  ┆ 115 ┆ 600 ┆ … ┆ 0.215644   ┆ 0.171729  ┆ 0.218238   ┆ 0.173167  │\n",
       "│ 2542002 ┆ 62  ┆ 135 ┆ 631 ┆ … ┆ 0.215644   ┆ 0.171729  ┆ 0.218238   ┆ 0.173167  │\n",
       "└─────────┴─────┴─────┴─────┴───┴────────────┴───────────┴────────────┴───────────┘"
      ]
     },
     "execution_count": 7,
     "metadata": {},
     "output_type": "execute_result"
    }
   ],
   "source": [
    "train.head()"
   ]
  },
  {
   "cell_type": "code",
   "execution_count": 8,
   "id": "1e12841a-3a63-4a1a-b381-70263f8f1867",
   "metadata": {
    "tags": []
   },
   "outputs": [
    {
     "data": {
      "text/html": [
       "<div><style>\n",
       ".dataframe > thead > tr > th,\n",
       ".dataframe > tbody > tr > td {\n",
       "  text-align: right;\n",
       "}\n",
       "</style>\n",
       "<small>shape: (5, 82)</small><table border=\"1\" class=\"dataframe\"><thead><tr><th>f_0</th><th>f_1</th><th>f_2</th><th>f_3</th><th>f_4</th><th>f_5</th><th>f_6</th><th>f_7</th><th>f_8</th><th>f_9</th><th>f_10</th><th>f_11</th><th>f_12</th><th>f_13</th><th>f_14</th><th>f_15</th><th>f_16</th><th>f_17</th><th>f_18</th><th>f_19</th><th>f_20</th><th>f_21</th><th>f_22</th><th>f_23</th><th>f_24</th><th>f_25</th><th>f_26</th><th>f_27</th><th>f_28</th><th>f_29</th><th>f_30</th><th>f_31</th><th>f_32</th><th>f_33</th><th>f_34</th><th>f_35</th><th>f_36</th><th>&hellip;</th><th>f_45</th><th>f_46</th><th>f_47</th><th>f_48</th><th>f_49</th><th>f_50</th><th>f_51</th><th>f_52</th><th>f_53</th><th>f_54</th><th>f_55</th><th>f_56</th><th>f_57</th><th>f_58</th><th>f_59</th><th>f_60</th><th>f_61</th><th>f_62</th><th>f_63</th><th>f_64</th><th>f_65</th><th>f_66</th><th>f_67</th><th>f_68</th><th>f_69</th><th>f_70</th><th>f_71</th><th>f_72</th><th>f_73</th><th>f_74</th><th>f_75</th><th>f_76</th><th>f_77</th><th>f_78</th><th>f_79</th><th>is_clicked</th><th>is_installed</th></tr><tr><td>i64</td><td>i64</td><td>i64</td><td>i64</td><td>i64</td><td>i64</td><td>i64</td><td>i64</td><td>i64</td><td>i64</td><td>i64</td><td>i64</td><td>i64</td><td>i64</td><td>i64</td><td>i64</td><td>i64</td><td>i64</td><td>i64</td><td>i64</td><td>i64</td><td>i64</td><td>i64</td><td>i64</td><td>i64</td><td>i64</td><td>i64</td><td>i64</td><td>i64</td><td>i64</td><td>i64</td><td>i64</td><td>i64</td><td>i64</td><td>i64</td><td>i64</td><td>i64</td><td>&hellip;</td><td>f64</td><td>f64</td><td>f64</td><td>f64</td><td>f64</td><td>f64</td><td>f64</td><td>f64</td><td>f64</td><td>f64</td><td>f64</td><td>f64</td><td>f64</td><td>f64</td><td>f64</td><td>f64</td><td>f64</td><td>f64</td><td>f64</td><td>i64</td><td>f64</td><td>f64</td><td>f64</td><td>f64</td><td>f64</td><td>f64</td><td>f64</td><td>f64</td><td>f64</td><td>f64</td><td>f64</td><td>f64</td><td>f64</td><td>f64</td><td>f64</td><td>i64</td><td>i64</td></tr></thead><tbody><tr><td>2541162</td><td>51</td><td>6581</td><td>22294</td><td>5491</td><td>25604</td><td>14597</td><td>27941</td><td>18800</td><td>31372</td><td>22970</td><td>32266</td><td>11402</td><td>17705</td><td>26082</td><td>19819</td><td>14709</td><td>28694</td><td>5774</td><td>25952</td><td>21553</td><td>0</td><td>0</td><td>0</td><td>0</td><td>0</td><td>0</td><td>0</td><td>0</td><td>0</td><td>null</td><td>null</td><td>3</td><td>1</td><td>1</td><td>1</td><td>1</td><td>&hellip;</td><td>0.0</td><td>0.0</td><td>0.0</td><td>0.0</td><td>0.0</td><td>0.571121</td><td>2.510696</td><td>0.038564</td><td>0.0</td><td>0.617025</td><td>0.809845</td><td>0.077128</td><td>2.545229</td><td>0.803333</td><td>3.397252</td><td>0.0</td><td>0.0</td><td>1.680896</td><td>2.841769</td><td>69350014</td><td>1462.240096</td><td>1.599715</td><td>7.851265</td><td>0.0</td><td>0.0</td><td>2.82868</td><td>1.142243</td><td>3.99785</td><td>1.713364</td><td>0.115692</td><td>1.156922</td><td>0.269948</td><td>0.0</td><td>0.0</td><td>0.0</td><td>0</td><td>0</td></tr><tr><td>2541260</td><td>49</td><td>20095</td><td>563</td><td>22861</td><td>15908</td><td>22651</td><td>27941</td><td>21218</td><td>869</td><td>19343</td><td>12213</td><td>30670</td><td>4230</td><td>20899</td><td>13481</td><td>25546</td><td>3249</td><td>12020</td><td>26758</td><td>4222</td><td>4625</td><td>0</td><td>0</td><td>0</td><td>0</td><td>0</td><td>0</td><td>0</td><td>0</td><td>null</td><td>null</td><td>3</td><td>0</td><td>0</td><td>0</td><td>1</td><td>&hellip;</td><td>0.0</td><td>0.0</td><td>0.0</td><td>0.0</td><td>0.0</td><td>0.0</td><td>30.726136</td><td>0.0</td><td>0.0</td><td>0.0</td><td>0.308513</td><td>0.0</td><td>0.385641</td><td>1.518634</td><td>3.205653</td><td>0.0</td><td>0.0</td><td>0.0</td><td>0.0</td><td>126347712</td><td>1639.124417</td><td>0.000873</td><td>8.157427</td><td>1.089364</td><td>1.646756</td><td>0.0</td><td>0.0</td><td>0.0</td><td>0.0</td><td>0.115692</td><td>1.156922</td><td>0.269948</td><td>0.0</td><td>0.0</td><td>0.0</td><td>0</td><td>0</td></tr><tr><td>2541318</td><td>51</td><td>20095</td><td>563</td><td>22861</td><td>25604</td><td>22651</td><td>27941</td><td>21218</td><td>31372</td><td>22970</td><td>11407</td><td>17133</td><td>18614</td><td>26082</td><td>32590</td><td>25546</td><td>29718</td><td>21865</td><td>26758</td><td>4222</td><td>4625</td><td>0</td><td>0</td><td>0</td><td>0</td><td>0</td><td>0</td><td>0</td><td>0</td><td>null</td><td>null</td><td>3</td><td>0</td><td>0</td><td>0</td><td>1</td><td>&hellip;</td><td>0.0</td><td>0.0</td><td>0.0</td><td>0.0</td><td>0.0</td><td>0.0</td><td>25.668477</td><td>0.0</td><td>0.0</td><td>0.0</td><td>0.0</td><td>0.0</td><td>0.0</td><td>1.511121</td><td>2.413887</td><td>0.0</td><td>0.295702</td><td>0.387899</td><td>0.0</td><td>192447264</td><td>1808.083683</td><td>0.000156</td><td>8.269833</td><td>1.10626</td><td>2.220819</td><td>0.0</td><td>0.0</td><td>0.0</td><td>0.0</td><td>0.038564</td><td>1.156922</td><td>0.269948</td><td>0.0</td><td>0.0</td><td>0.0</td><td>0</td><td>0</td></tr><tr><td>2541770</td><td>64</td><td>13658</td><td>22294</td><td>7003</td><td>25604</td><td>29975</td><td>27941</td><td>21218</td><td>21533</td><td>19343</td><td>28360</td><td>8659</td><td>24696</td><td>20899</td><td>7057</td><td>18162</td><td>11918</td><td>12020</td><td>29982</td><td>4740</td><td>0</td><td>0</td><td>0</td><td>0</td><td>0</td><td>0</td><td>0</td><td>0</td><td>0</td><td>0</td><td>0</td><td>2</td><td>0</td><td>1</td><td>1</td><td>1</td><td>&hellip;</td><td>0.0</td><td>0.0</td><td>0.0</td><td>0.0</td><td>0.0</td><td>0.0</td><td>1.092316</td><td>0.038564</td><td>0.038564</td><td>0.115692</td><td>0.038564</td><td>0.038564</td><td>0.038564</td><td>1.336304</td><td>1.302389</td><td>0.0</td><td>0.295702</td><td>0.0</td><td>4.973095</td><td>17889246</td><td>110.105037</td><td>2.276683</td><td>9.171566</td><td>0.0</td><td>0.0</td><td>1.598379</td><td>0.0</td><td>1.713364</td><td>1.142243</td><td>0.115692</td><td>1.156922</td><td>0.269948</td><td>0.0</td><td>0.0</td><td>0.0</td><td>0</td><td>0</td></tr><tr><td>2542002</td><td>62</td><td>20095</td><td>563</td><td>31686</td><td>15908</td><td>590</td><td>27941</td><td>18800</td><td>23218</td><td>22970</td><td>11407</td><td>30670</td><td>24696</td><td>27291</td><td>12126</td><td>25546</td><td>3249</td><td>5774</td><td>26758</td><td>4222</td><td>4625</td><td>0</td><td>0</td><td>0</td><td>0</td><td>0</td><td>0</td><td>0</td><td>0</td><td>0</td><td>0</td><td>3</td><td>0</td><td>0</td><td>0</td><td>1</td><td>&hellip;</td><td>0.0</td><td>0.0</td><td>0.0</td><td>0.0</td><td>0.0</td><td>0.0</td><td>17.621443</td><td>0.0</td><td>0.0</td><td>0.0</td><td>0.0</td><td>0.0</td><td>0.0</td><td>1.620839</td><td>2.184986</td><td>0.0</td><td>0.0</td><td>0.0</td><td>0.355221</td><td>177032136</td><td>1478.281323</td><td>0.000615</td><td>8.126352</td><td>0.200315</td><td>0.444261</td><td>0.0</td><td>0.0</td><td>0.0</td><td>0.0</td><td>0.115692</td><td>1.156922</td><td>0.269948</td><td>0.0</td><td>0.0</td><td>0.0</td><td>0</td><td>0</td></tr></tbody></table></div>"
      ],
      "text/plain": [
       "shape: (5, 82)\n",
       "┌─────────┬─────┬───────┬───────┬───┬──────┬──────┬────────────┬──────────────┐\n",
       "│ f_0     ┆ f_1 ┆ f_2   ┆ f_3   ┆ … ┆ f_78 ┆ f_79 ┆ is_clicked ┆ is_installed │\n",
       "│ ---     ┆ --- ┆ ---   ┆ ---   ┆   ┆ ---  ┆ ---  ┆ ---        ┆ ---          │\n",
       "│ i64     ┆ i64 ┆ i64   ┆ i64   ┆   ┆ f64  ┆ f64  ┆ i64        ┆ i64          │\n",
       "╞═════════╪═════╪═══════╪═══════╪═══╪══════╪══════╪════════════╪══════════════╡\n",
       "│ 2541162 ┆ 51  ┆ 6581  ┆ 22294 ┆ … ┆ 0.0  ┆ 0.0  ┆ 0          ┆ 0            │\n",
       "│ 2541260 ┆ 49  ┆ 20095 ┆ 563   ┆ … ┆ 0.0  ┆ 0.0  ┆ 0          ┆ 0            │\n",
       "│ 2541318 ┆ 51  ┆ 20095 ┆ 563   ┆ … ┆ 0.0  ┆ 0.0  ┆ 0          ┆ 0            │\n",
       "│ 2541770 ┆ 64  ┆ 13658 ┆ 22294 ┆ … ┆ 0.0  ┆ 0.0  ┆ 0          ┆ 0            │\n",
       "│ 2542002 ┆ 62  ┆ 20095 ┆ 563   ┆ … ┆ 0.0  ┆ 0.0  ┆ 0          ┆ 0            │\n",
       "└─────────┴─────┴───────┴───────┴───┴──────┴──────┴────────────┴──────────────┘"
      ]
     },
     "execution_count": 8,
     "metadata": {},
     "output_type": "execute_result"
    }
   ],
   "source": [
    "df.head()"
   ]
  },
  {
   "cell_type": "code",
   "execution_count": 9,
   "id": "c35f46f0-6930-45f1-bd29-5bb8b6d09c5c",
   "metadata": {
    "tags": []
   },
   "outputs": [],
   "source": [
    "test = pl.read_csv('../sharechat_recsys2023_data/test/000000000000.csv', separator='\\t', infer_schema_length=10000)"
   ]
  },
  {
   "cell_type": "code",
   "execution_count": 10,
   "id": "c265a370-c77a-4fce-98ec-deff41a0afa3",
   "metadata": {
    "tags": []
   },
   "outputs": [
    {
     "data": {
      "text/html": [
       "<div><style>\n",
       ".dataframe > thead > tr > th,\n",
       ".dataframe > tbody > tr > td {\n",
       "  text-align: right;\n",
       "}\n",
       "</style>\n",
       "<small>shape: (5, 80)</small><table border=\"1\" class=\"dataframe\"><thead><tr><th>f_0</th><th>f_1</th><th>f_2</th><th>f_3</th><th>f_4</th><th>f_5</th><th>f_6</th><th>f_7</th><th>f_8</th><th>f_9</th><th>f_10</th><th>f_11</th><th>f_12</th><th>f_13</th><th>f_14</th><th>f_15</th><th>f_16</th><th>f_17</th><th>f_18</th><th>f_19</th><th>f_20</th><th>f_21</th><th>f_22</th><th>f_23</th><th>f_24</th><th>f_25</th><th>f_26</th><th>f_27</th><th>f_28</th><th>f_29</th><th>f_30</th><th>f_31</th><th>f_32</th><th>f_33</th><th>f_34</th><th>f_35</th><th>f_36</th><th>&hellip;</th><th>f_43</th><th>f_44</th><th>f_45</th><th>f_46</th><th>f_47</th><th>f_48</th><th>f_49</th><th>f_50</th><th>f_51</th><th>f_52</th><th>f_53</th><th>f_54</th><th>f_55</th><th>f_56</th><th>f_57</th><th>f_58</th><th>f_59</th><th>f_60</th><th>f_61</th><th>f_62</th><th>f_63</th><th>f_64</th><th>f_65</th><th>f_66</th><th>f_67</th><th>f_68</th><th>f_69</th><th>f_70</th><th>f_71</th><th>f_72</th><th>f_73</th><th>f_74</th><th>f_75</th><th>f_76</th><th>f_77</th><th>f_78</th><th>f_79</th></tr><tr><td>i64</td><td>i64</td><td>i64</td><td>i64</td><td>i64</td><td>i64</td><td>i64</td><td>i64</td><td>i64</td><td>i64</td><td>i64</td><td>i64</td><td>i64</td><td>i64</td><td>i64</td><td>i64</td><td>i64</td><td>i64</td><td>i64</td><td>i64</td><td>i64</td><td>i64</td><td>i64</td><td>i64</td><td>i64</td><td>i64</td><td>i64</td><td>i64</td><td>i64</td><td>i64</td><td>i64</td><td>i64</td><td>i64</td><td>i64</td><td>i64</td><td>i64</td><td>i64</td><td>&hellip;</td><td>f64</td><td>f64</td><td>f64</td><td>f64</td><td>f64</td><td>f64</td><td>f64</td><td>f64</td><td>f64</td><td>f64</td><td>f64</td><td>f64</td><td>f64</td><td>f64</td><td>f64</td><td>f64</td><td>f64</td><td>f64</td><td>f64</td><td>f64</td><td>f64</td><td>i64</td><td>f64</td><td>f64</td><td>f64</td><td>f64</td><td>f64</td><td>f64</td><td>f64</td><td>f64</td><td>f64</td><td>f64</td><td>f64</td><td>f64</td><td>f64</td><td>f64</td><td>f64</td></tr></thead><tbody><tr><td>64505</td><td>67</td><td>26325</td><td>7152</td><td>21563</td><td>19475</td><td>31440</td><td>27941</td><td>21621</td><td>14659</td><td>21574</td><td>31460</td><td>4473</td><td>18614</td><td>21302</td><td>22947</td><td>25546</td><td>13234</td><td>21865</td><td>16851</td><td>30153</td><td>0</td><td>0</td><td>0</td><td>0</td><td>0</td><td>0</td><td>0</td><td>0</td><td>0</td><td>null</td><td>null</td><td>3</td><td>0</td><td>0</td><td>0</td><td>0</td><td>&hellip;</td><td>1.541848</td><td>0.0</td><td>0.0</td><td>0.0</td><td>0.0</td><td>0.0</td><td>0.0</td><td>0.0</td><td>12.029091</td><td>0.0</td><td>0.0</td><td>0.0</td><td>0.0</td><td>0.0</td><td>0.0</td><td>1.401956</td><td>1.708743</td><td>0.0</td><td>0.0</td><td>0.0</td><td>0.0</td><td>345640813</td><td>1913.393356</td><td>1.546994</td><td>8.063385</td><td>3.836208</td><td>10.879233</td><td>1.519085</td><td>0.0</td><td>0.0</td><td>0.0</td><td>0.0</td><td>0.0</td><td>0.0</td><td>0.0</td><td>0.0</td><td>0.0</td></tr><tr><td>64506</td><td>67</td><td>20095</td><td>563</td><td>22861</td><td>19475</td><td>21280</td><td>27941</td><td>19203</td><td>14659</td><td>21574</td><td>27957</td><td>11402</td><td>31705</td><td>20899</td><td>24789</td><td>14709</td><td>28694</td><td>5774</td><td>26758</td><td>4222</td><td>4625</td><td>0</td><td>0</td><td>0</td><td>0</td><td>0</td><td>0</td><td>0</td><td>0</td><td>0</td><td>0</td><td>2</td><td>0</td><td>0</td><td>0</td><td>1</td><td>&hellip;</td><td>0.000119</td><td>0.0</td><td>0.0</td><td>0.0</td><td>0.0</td><td>0.0</td><td>0.0</td><td>0.0</td><td>17.292318</td><td>0.0</td><td>0.0</td><td>0.0</td><td>0.269948</td><td>0.0</td><td>0.269948</td><td>1.639831</td><td>2.206573</td><td>0.0</td><td>1.62636</td><td>1.034398</td><td>0.0</td><td>146811615</td><td>2656.135697</td><td>0.000099</td><td>8.229785</td><td>0.294885</td><td>0.647602</td><td>0.0</td><td>0.0</td><td>0.0</td><td>0.0</td><td>0.115692</td><td>1.156922</td><td>0.269948</td><td>0.0</td><td>0.0</td><td>0.0</td></tr><tr><td>64507</td><td>67</td><td>890</td><td>22294</td><td>18294</td><td>21545</td><td>20210</td><td>27941</td><td>18800</td><td>9638</td><td>19343</td><td>30375</td><td>8659</td><td>17705</td><td>28097</td><td>38</td><td>28225</td><td>24285</td><td>5774</td><td>29982</td><td>4740</td><td>0</td><td>0</td><td>0</td><td>0</td><td>0</td><td>0</td><td>0</td><td>0</td><td>0</td><td>null</td><td>null</td><td>0</td><td>0</td><td>0</td><td>0</td><td>0</td><td>&hellip;</td><td>0.968559</td><td>0.0</td><td>0.0</td><td>0.0</td><td>0.0</td><td>0.0</td><td>0.0</td><td>0.0</td><td>1.253473</td><td>0.038564</td><td>0.038564</td><td>0.038564</td><td>0.0</td><td>0.0</td><td>0.0</td><td>1.209622</td><td>0.938098</td><td>0.0</td><td>2.217763</td><td>0.0</td><td>0.0</td><td>53502547</td><td>1686.149711</td><td>0.990849</td><td>7.772551</td><td>0.0</td><td>0.0</td><td>0.982995</td><td>0.0</td><td>0.0</td><td>0.0</td><td>0.0</td><td>1.156922</td><td>0.269948</td><td>0.0</td><td>0.0</td><td>0.0</td></tr><tr><td>64508</td><td>67</td><td>20095</td><td>563</td><td>22861</td><td>25604</td><td>21280</td><td>27941</td><td>18800</td><td>14659</td><td>22970</td><td>31863</td><td>8659</td><td>17705</td><td>26082</td><td>9816</td><td>18162</td><td>24285</td><td>12020</td><td>26758</td><td>4222</td><td>4625</td><td>0</td><td>0</td><td>0</td><td>0</td><td>0</td><td>0</td><td>0</td><td>0</td><td>0</td><td>0</td><td>3</td><td>0</td><td>1</td><td>0</td><td>0</td><td>&hellip;</td><td>0.000119</td><td>0.0</td><td>0.0</td><td>0.0</td><td>0.0</td><td>0.0</td><td>0.0</td><td>0.0</td><td>17.292318</td><td>0.0</td><td>0.0</td><td>0.0</td><td>0.617025</td><td>0.462769</td><td>0.617025</td><td>1.639831</td><td>2.206573</td><td>0.0</td><td>0.147851</td><td>0.258599</td><td>0.0</td><td>146811615</td><td>2656.135697</td><td>0.000099</td><td>8.229785</td><td>0.294885</td><td>0.647602</td><td>0.0</td><td>0.0</td><td>2.284486</td><td>0.0</td><td>0.0</td><td>1.156922</td><td>0.269948</td><td>0.0</td><td>0.0</td><td>0.0</td></tr><tr><td>64509</td><td>67</td><td>27426</td><td>22294</td><td>11338</td><td>19475</td><td>23855</td><td>27941</td><td>21218</td><td>9638</td><td>21574</td><td>30778</td><td>20023</td><td>18614</td><td>20496</td><td>7057</td><td>14709</td><td>30304</td><td>21865</td><td>29982</td><td>4740</td><td>0</td><td>0</td><td>0</td><td>0</td><td>0</td><td>0</td><td>0</td><td>0</td><td>0</td><td>0</td><td>0</td><td>3</td><td>0</td><td>0</td><td>0</td><td>1</td><td>&hellip;</td><td>1.333393</td><td>0.0</td><td>0.0</td><td>0.0</td><td>0.0</td><td>0.0</td><td>0.0</td><td>0.0</td><td>17.074814</td><td>0.19282</td><td>0.19282</td><td>0.347077</td><td>0.038564</td><td>0.038564</td><td>0.115692</td><td>1.071687</td><td>0.390892</td><td>0.0</td><td>1.182807</td><td>0.0</td><td>0.0</td><td>60916858</td><td>914.246735</td><td>1.275921</td><td>7.669892</td><td>2.116464</td><td>26.237742</td><td>0.98604</td><td>0.0</td><td>0.0</td><td>0.0</td><td>0.077128</td><td>0.077128</td><td>0.077128</td><td>0.0</td><td>0.0</td><td>0.0</td></tr></tbody></table></div>"
      ],
      "text/plain": [
       "shape: (5, 80)\n",
       "┌───────┬─────┬───────┬───────┬───┬──────────┬──────┬──────┬──────┐\n",
       "│ f_0   ┆ f_1 ┆ f_2   ┆ f_3   ┆ … ┆ f_76     ┆ f_77 ┆ f_78 ┆ f_79 │\n",
       "│ ---   ┆ --- ┆ ---   ┆ ---   ┆   ┆ ---      ┆ ---  ┆ ---  ┆ ---  │\n",
       "│ i64   ┆ i64 ┆ i64   ┆ i64   ┆   ┆ f64      ┆ f64  ┆ f64  ┆ f64  │\n",
       "╞═══════╪═════╪═══════╪═══════╪═══╪══════════╪══════╪══════╪══════╡\n",
       "│ 64505 ┆ 67  ┆ 26325 ┆ 7152  ┆ … ┆ 0.0      ┆ 0.0  ┆ 0.0  ┆ 0.0  │\n",
       "│ 64506 ┆ 67  ┆ 20095 ┆ 563   ┆ … ┆ 0.269948 ┆ 0.0  ┆ 0.0  ┆ 0.0  │\n",
       "│ 64507 ┆ 67  ┆ 890   ┆ 22294 ┆ … ┆ 0.269948 ┆ 0.0  ┆ 0.0  ┆ 0.0  │\n",
       "│ 64508 ┆ 67  ┆ 20095 ┆ 563   ┆ … ┆ 0.269948 ┆ 0.0  ┆ 0.0  ┆ 0.0  │\n",
       "│ 64509 ┆ 67  ┆ 27426 ┆ 22294 ┆ … ┆ 0.077128 ┆ 0.0  ┆ 0.0  ┆ 0.0  │\n",
       "└───────┴─────┴───────┴───────┴───┴──────────┴──────┴──────┴──────┘"
      ]
     },
     "execution_count": 10,
     "metadata": {},
     "output_type": "execute_result"
    }
   ],
   "source": [
    "test.head()"
   ]
  },
  {
   "cell_type": "code",
   "execution_count": 11,
   "id": "83be834d-52db-42f0-9ac4-04d4d828e5ac",
   "metadata": {
    "tags": []
   },
   "outputs": [],
   "source": [
    "test = pipe.transform(test)"
   ]
  },
  {
   "cell_type": "code",
   "execution_count": 12,
   "id": "4655cb82-af05-4755-b89f-be1adf2792a1",
   "metadata": {
    "tags": []
   },
   "outputs": [
    {
     "data": {
      "text/html": [
       "<div><style>\n",
       ".dataframe > thead > tr > th,\n",
       ".dataframe > tbody > tr > td {\n",
       "  text-align: right;\n",
       "}\n",
       "</style>\n",
       "<small>shape: (5, 108)</small><table border=\"1\" class=\"dataframe\"><thead><tr><th>f_0</th><th>f_1</th><th>f_2</th><th>f_4</th><th>f_6</th><th>f_11</th><th>f_12</th><th>f_13</th><th>f_15</th><th>f_17</th><th>f_18</th><th>f_20</th><th>f_21</th><th>f_22</th><th>f_42</th><th>f_43</th><th>f_44</th><th>f_45</th><th>f_46</th><th>f_47</th><th>f_48</th><th>f_49</th><th>f_50</th><th>f_51</th><th>f_52</th><th>f_53</th><th>f_54</th><th>f_55</th><th>f_56</th><th>f_57</th><th>f_58</th><th>f_59</th><th>f_60</th><th>f_61</th><th>f_62</th><th>f_63</th><th>f_64</th><th>&hellip;</th><th>f_23_inst</th><th>f_24_click</th><th>f_24_inst</th><th>f_25_click</th><th>f_25_inst</th><th>f_26_click</th><th>f_26_inst</th><th>f_27_click</th><th>f_27_inst</th><th>f_28_click</th><th>f_28_inst</th><th>f_29_click</th><th>f_29_inst</th><th>f_30_click</th><th>f_30_inst</th><th>f_31_click</th><th>f_31_inst</th><th>f_32_click</th><th>f_32_inst</th><th>f_33_click</th><th>f_33_inst</th><th>f_34_click</th><th>f_34_inst</th><th>f_35_click</th><th>f_35_inst</th><th>f_36_click</th><th>f_36_inst</th><th>f_37_click</th><th>f_37_inst</th><th>f_38_click</th><th>f_38_inst</th><th>f_39_click</th><th>f_39_inst</th><th>f_40_click</th><th>f_40_inst</th><th>f_41_click</th><th>f_41_inst</th></tr><tr><td>i64</td><td>i64</td><td>i64</td><td>i64</td><td>i64</td><td>i64</td><td>i64</td><td>i64</td><td>i64</td><td>i64</td><td>i64</td><td>i64</td><td>i64</td><td>i64</td><td>f64</td><td>f64</td><td>f64</td><td>f64</td><td>f64</td><td>f64</td><td>f64</td><td>f64</td><td>f64</td><td>f64</td><td>f64</td><td>f64</td><td>f64</td><td>f64</td><td>f64</td><td>f64</td><td>f64</td><td>f64</td><td>f64</td><td>f64</td><td>f64</td><td>f64</td><td>f64</td><td>&hellip;</td><td>f64</td><td>f64</td><td>f64</td><td>f64</td><td>f64</td><td>f64</td><td>f64</td><td>f64</td><td>f64</td><td>f64</td><td>f64</td><td>f64</td><td>f64</td><td>f64</td><td>f64</td><td>f64</td><td>f64</td><td>f64</td><td>f64</td><td>f64</td><td>f64</td><td>f64</td><td>f64</td><td>f64</td><td>f64</td><td>f64</td><td>f64</td><td>f64</td><td>f64</td><td>f64</td><td>f64</td><td>f64</td><td>f64</td><td>f64</td><td>f64</td><td>f64</td><td>f64</td></tr></thead><tbody><tr><td>64505</td><td>67</td><td>131</td><td>607</td><td>5166</td><td>8</td><td>25</td><td>325</td><td>5153</td><td>35</td><td>898</td><td>49</td><td>33</td><td>23</td><td>-0.145576</td><td>0.168262</td><td>-0.028767</td><td>-0.031928</td><td>-0.020947</td><td>-0.034987</td><td>-0.052131</td><td>-0.040579</td><td>-0.062163</td><td>0.096041</td><td>-0.125328</td><td>-0.104387</td><td>-0.14403</td><td>-0.191865</td><td>-0.170255</td><td>-0.220084</td><td>-0.047662</td><td>-0.056487</td><td>-0.00685</td><td>-0.10213</td><td>-0.068463</td><td>-0.097453</td><td>-0.018888</td><td>&hellip;</td><td>0.178327</td><td>0.219865</td><td>0.178327</td><td>0.21989</td><td>0.178322</td><td>0.219669</td><td>0.174029</td><td>0.219669</td><td>0.174029</td><td>0.219669</td><td>0.174029</td><td>0.219669</td><td>0.174029</td><td>0.148095</td><td>0.113303</td><td>0.148095</td><td>0.113303</td><td>0.221899</td><td>0.156893</td><td>0.213572</td><td>0.173447</td><td>0.1919</td><td>0.16194</td><td>0.20007</td><td>0.169209</td><td>0.234142</td><td>0.179367</td><td>0.220763</td><td>0.121653</td><td>0.243987</td><td>0.154148</td><td>0.219483</td><td>0.173818</td><td>0.215644</td><td>0.171729</td><td>0.218238</td><td>0.173167</td></tr><tr><td>64506</td><td>67</td><td>135</td><td>632</td><td>5165</td><td>20</td><td>20</td><td>286</td><td>3050</td><td>43</td><td>899</td><td>54</td><td>32</td><td>23</td><td>-0.055724</td><td>-0.405844</td><td>-0.028767</td><td>-0.031928</td><td>-0.020947</td><td>-0.034987</td><td>-0.052131</td><td>-0.040579</td><td>-0.062163</td><td>0.305224</td><td>-0.125328</td><td>-0.104387</td><td>-0.14403</td><td>-0.042773</td><td>-0.170255</td><td>-0.124114</td><td>0.071209</td><td>-0.056087</td><td>-0.00685</td><td>0.044459</td><td>-0.008506</td><td>-0.097453</td><td>-0.021866</td><td>&hellip;</td><td>0.178327</td><td>0.219865</td><td>0.178327</td><td>0.21989</td><td>0.178322</td><td>0.219669</td><td>0.174029</td><td>0.219669</td><td>0.174029</td><td>0.219669</td><td>0.174029</td><td>0.219669</td><td>0.174029</td><td>0.284952</td><td>0.229542</td><td>0.285276</td><td>0.229644</td><td>0.21026</td><td>0.200825</td><td>0.213572</td><td>0.173447</td><td>0.1919</td><td>0.16194</td><td>0.20007</td><td>0.169209</td><td>0.210722</td><td>0.170611</td><td>0.219768</td><td>0.177842</td><td>0.216472</td><td>0.176785</td><td>0.219483</td><td>0.173818</td><td>0.215644</td><td>0.171729</td><td>0.218238</td><td>0.173167</td></tr><tr><td>64507</td><td>67</td><td>123</td><td>590</td><td>5132</td><td>0</td><td>23</td><td>327</td><td>5109</td><td>42</td><td>899</td><td>53</td><td>33</td><td>23</td><td>-0.12951</td><td>-0.045218</td><td>-0.028767</td><td>-0.031928</td><td>-0.020947</td><td>-0.034987</td><td>-0.052131</td><td>-0.040579</td><td>-0.062163</td><td>-0.332227</td><td>-0.050542</td><td>0.033247</td><td>-0.09421</td><td>-0.191865</td><td>-0.170255</td><td>-0.220084</td><td>-0.143776</td><td>-0.057107</td><td>-0.00685</td><td>0.097763</td><td>-0.068463</td><td>-0.097453</td><td>-0.023264</td><td>&hellip;</td><td>0.178327</td><td>0.219865</td><td>0.178327</td><td>0.21989</td><td>0.178322</td><td>0.219669</td><td>0.174029</td><td>0.219669</td><td>0.174029</td><td>0.219669</td><td>0.174029</td><td>0.219669</td><td>0.174029</td><td>0.148095</td><td>0.113303</td><td>0.148095</td><td>0.113303</td><td>0.235856</td><td>0.170472</td><td>0.213572</td><td>0.173447</td><td>0.1919</td><td>0.16194</td><td>0.20007</td><td>0.169209</td><td>0.234142</td><td>0.179367</td><td>0.219768</td><td>0.177842</td><td>0.216472</td><td>0.176785</td><td>0.219483</td><td>0.173818</td><td>0.215644</td><td>0.171729</td><td>0.218238</td><td>0.173167</td></tr><tr><td>64508</td><td>67</td><td>135</td><td>632</td><td>5165</td><td>11</td><td>23</td><td>327</td><td>5431</td><td>42</td><td>900</td><td>54</td><td>32</td><td>23</td><td>-0.023888</td><td>-0.405844</td><td>-0.028767</td><td>-0.031928</td><td>-0.020947</td><td>-0.034987</td><td>-0.052131</td><td>-0.040579</td><td>-0.062163</td><td>0.305224</td><td>-0.125328</td><td>-0.104387</td><td>-0.14403</td><td>0.148916</td><td>0.324481</td><td>-0.000726</td><td>0.071209</td><td>-0.056087</td><td>-0.00685</td><td>-0.088804</td><td>-0.053474</td><td>-0.097453</td><td>-0.021866</td><td>&hellip;</td><td>0.178327</td><td>0.219865</td><td>0.178327</td><td>0.21989</td><td>0.178322</td><td>0.219669</td><td>0.174029</td><td>0.219669</td><td>0.174029</td><td>0.219669</td><td>0.174029</td><td>0.219669</td><td>0.174029</td><td>0.284952</td><td>0.229542</td><td>0.285276</td><td>0.229644</td><td>0.221899</td><td>0.156893</td><td>0.213572</td><td>0.173447</td><td>0.245159</td><td>0.184967</td><td>0.20007</td><td>0.169209</td><td>0.234142</td><td>0.179367</td><td>0.219768</td><td>0.177842</td><td>0.216472</td><td>0.176785</td><td>0.219483</td><td>0.173818</td><td>0.215644</td><td>0.171729</td><td>0.218238</td><td>0.173167</td></tr><tr><td>64509</td><td>67</td><td>130</td><td>612</td><td>4914</td><td>2</td><td>17</td><td>325</td><td>5631</td><td>38</td><td>898</td><td>53</td><td>33</td><td>23</td><td>-0.092022</td><td>0.090638</td><td>-0.028767</td><td>-0.031928</td><td>-0.020947</td><td>-0.034987</td><td>-0.052131</td><td>-0.040579</td><td>-0.062163</td><td>0.296579</td><td>0.248604</td><td>0.583783</td><td>0.304347</td><td>-0.170566</td><td>-0.129027</td><td>-0.178954</td><td>-0.212705</td><td>-0.057546</td><td>-0.00685</td><td>0.00448</td><td>-0.068463</td><td>-0.097453</td><td>-0.023153</td><td>&hellip;</td><td>0.178327</td><td>0.219865</td><td>0.178327</td><td>0.21989</td><td>0.178322</td><td>0.219669</td><td>0.174029</td><td>0.219669</td><td>0.174029</td><td>0.219669</td><td>0.174029</td><td>0.219669</td><td>0.174029</td><td>0.284952</td><td>0.229542</td><td>0.285276</td><td>0.229644</td><td>0.221899</td><td>0.156893</td><td>0.213572</td><td>0.173447</td><td>0.1919</td><td>0.16194</td><td>0.20007</td><td>0.169209</td><td>0.210722</td><td>0.170611</td><td>0.219768</td><td>0.177842</td><td>0.216472</td><td>0.176785</td><td>0.219483</td><td>0.173818</td><td>0.215644</td><td>0.171729</td><td>0.218238</td><td>0.173167</td></tr></tbody></table></div>"
      ],
      "text/plain": [
       "shape: (5, 108)\n",
       "┌───────┬─────┬─────┬─────┬───┬────────────┬───────────┬────────────┬───────────┐\n",
       "│ f_0   ┆ f_1 ┆ f_2 ┆ f_4 ┆ … ┆ f_40_click ┆ f_40_inst ┆ f_41_click ┆ f_41_inst │\n",
       "│ ---   ┆ --- ┆ --- ┆ --- ┆   ┆ ---        ┆ ---       ┆ ---        ┆ ---       │\n",
       "│ i64   ┆ i64 ┆ i64 ┆ i64 ┆   ┆ f64        ┆ f64       ┆ f64        ┆ f64       │\n",
       "╞═══════╪═════╪═════╪═════╪═══╪════════════╪═══════════╪════════════╪═══════════╡\n",
       "│ 64505 ┆ 67  ┆ 131 ┆ 607 ┆ … ┆ 0.215644   ┆ 0.171729  ┆ 0.218238   ┆ 0.173167  │\n",
       "│ 64506 ┆ 67  ┆ 135 ┆ 632 ┆ … ┆ 0.215644   ┆ 0.171729  ┆ 0.218238   ┆ 0.173167  │\n",
       "│ 64507 ┆ 67  ┆ 123 ┆ 590 ┆ … ┆ 0.215644   ┆ 0.171729  ┆ 0.218238   ┆ 0.173167  │\n",
       "│ 64508 ┆ 67  ┆ 135 ┆ 632 ┆ … ┆ 0.215644   ┆ 0.171729  ┆ 0.218238   ┆ 0.173167  │\n",
       "│ 64509 ┆ 67  ┆ 130 ┆ 612 ┆ … ┆ 0.215644   ┆ 0.171729  ┆ 0.218238   ┆ 0.173167  │\n",
       "└───────┴─────┴─────┴─────┴───┴────────────┴───────────┴────────────┴───────────┘"
      ]
     },
     "execution_count": 12,
     "metadata": {},
     "output_type": "execute_result"
    }
   ],
   "source": [
    "test.head()"
   ]
  },
  {
   "cell_type": "code",
   "execution_count": 13,
   "id": "3ca77c63-3425-4970-8bda-5a69292d069b",
   "metadata": {
    "tags": []
   },
   "outputs": [],
   "source": [
    "train.write_csv('train.csv')\n",
    "test.write_csv('test.csv')"
   ]
  }
 ],
 "metadata": {
  "kernelspec": {
   "display_name": "Python 3 (ipykernel)",
   "language": "python",
   "name": "python3"
  },
  "language_info": {
   "codemirror_mode": {
    "name": "ipython",
    "version": 3
   },
   "file_extension": ".py",
   "mimetype": "text/x-python",
   "name": "python",
   "nbconvert_exporter": "python",
   "pygments_lexer": "ipython3",
   "version": "3.10.10"
  }
 },
 "nbformat": 4,
 "nbformat_minor": 5
}
